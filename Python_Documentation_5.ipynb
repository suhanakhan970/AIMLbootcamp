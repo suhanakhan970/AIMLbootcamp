{
 "cells": [
  {
   "cell_type": "markdown",
   "id": "2f430a0e-c193-40c1-87ec-fea16f2a066f",
   "metadata": {},
   "source": [
    "<div style=\"background-color: #add8e6; padding: 10px; height: 70px; border-radius: 15px;\">\n",
    "    <div style=\"font-family: 'Georgia', serif; font-size: 20px; padding: 10px; text-align: right; position: absolute; right: 20px;\">\n",
    "        Suhana <br>\n",
    "        <span style=\"font-family: 'Arial', sans-serif;font-size: 12px; color: #0a0a0a;\">AIML Trainee | AI/ML bootcamp</span> <!--- Suhana | CodroidHub Private Limited | AI/ML Consultant --->\n",
    "    </div>\n",
    "</div>"
   ]
  },
  {
   "cell_type": "markdown",
   "id": "f0ff0d49-7c52-4beb-b28d-570301a40415",
   "metadata": {},
   "source": [
    "<div style=\"background-color: #002147; padding: 10px; text-align: center; color: white; font-size: 32px; font-family: 'Arial', sans-serif;\">\n",
    "    python Documentation <br>\n",
    "    <h3 style=\"text-align: center; color: white; font-size: 15px; font-family: 'Arial', sans-serif;\">Python If ... Else</h3>\n",
    "</div>"
   ]
  },
  {
   "cell_type": "markdown",
   "id": "edc6382d-fa83-499e-b963-621af366fc07",
   "metadata": {},
   "source": [
    "<div style=\"background-color: lightgreen; color: black; padding: 4px;\">\n",
    "    <h1>Python Conditions and If statements\n",
    "\n",
    "</h1> </div>"
   ]
  },
  {
   "cell_type": "markdown",
   "id": "89168adf-486a-4c43-8802-550316759a41",
   "metadata": {},
   "source": [
    "<h3>Python supports the usual logical conditions from mathematics:</h3>"
   ]
  },
  {
   "cell_type": "markdown",
   "id": "1770a333-23b5-4b7e-b50e-88fc08dc3cb6",
   "metadata": {},
   "source": [
    "<h3><p>Equals: a == b<p>\n",
    "<p>Not Equals: a != b<p>\n",
    "<p>Less than: a < b<p>\n",
    "<p>Less than or equal to: a <= b<p>\n",
    "<p>Greater than: a > b<p>\n",
    "<p>Greater than or equal to: a >= b<p>\n",
    "<p>These conditions can be used in several ways, most commonly in \"if statements\" and loops.<p>\n",
    "<p>An \"if statement\" is written by using the if keyword.<p>\r\n",
    "\r",
    "\r\n",
    "</h3>"
   ]
  },
  {
   "cell_type": "code",
   "execution_count": 1,
   "id": "09d6f348-c728-419b-b07d-07ba685aaf8c",
   "metadata": {},
   "outputs": [
    {
     "name": "stdout",
     "output_type": "stream",
     "text": [
      "a is greater then b\n"
     ]
    }
   ],
   "source": [
    "a=10\n",
    "b=20\n",
    "a>b\n",
    "print(\"a is greater then b\")"
   ]
  },
  {
   "cell_type": "markdown",
   "id": "b98a62e2-5a7a-4a57-9cca-542d6391abd6",
   "metadata": {},
   "source": [
    "<div style=\"background-color: lightgreen; color: black; padding: 4px;\">\n",
    "    <h1>Indentation\n",
    "\n",
    "</h1> </div>"
   ]
  },
  {
   "cell_type": "markdown",
   "id": "3121ca4d-e602-4ce3-8792-8404bdb6818d",
   "metadata": {},
   "source": [
    "<h3><p>Python relies on indentation (whitespace at the beginning of a line) to define scope in the code. Other programming languages often use curly-brackets for this purpose.<p></h3>\n",
    "\n"
   ]
  },
  {
   "cell_type": "code",
   "execution_count": 2,
   "id": "21b98c22-3c2c-4d2c-9ca1-0bc616cb71c7",
   "metadata": {},
   "outputs": [
    {
     "ename": "IndentationError",
     "evalue": "expected an indented block after 'if' statement on line 3 (846536787.py, line 4)",
     "output_type": "error",
     "traceback": [
      "\u001b[1;36m  Cell \u001b[1;32mIn[2], line 4\u001b[1;36m\u001b[0m\n\u001b[1;33m    print(\"b is greater than a\")\u001b[0m\n\u001b[1;37m    ^\u001b[0m\n\u001b[1;31mIndentationError\u001b[0m\u001b[1;31m:\u001b[0m expected an indented block after 'if' statement on line 3\n"
     ]
    }
   ],
   "source": [
    "a = 33\n",
    "b = 200\n",
    "if b > a:\n",
    "print(\"b is greater than a\") "
   ]
  },
  {
   "cell_type": "markdown",
   "id": "57851520-e8dc-40bb-9c8c-f3da013bff6a",
   "metadata": {},
   "source": [
    "<div style=\"background-color: lightgreen; color: black; padding: 4px;\">\n",
    "    <h1>Elif\n",
    "\n",
    "</h1> </div>"
   ]
  },
  {
   "cell_type": "markdown",
   "id": "b0210b8c-1520-4b27-ac6b-0b42a1fc16b7",
   "metadata": {},
   "source": [
    "<h3><p>The elif keyword is Python's way of saying \"if the previous conditions were not true, then try this condition\".<p></h3>\n",
    "\n"
   ]
  },
  {
   "cell_type": "code",
   "execution_count": 4,
   "id": "400d8c0d-981d-47de-b4c7-cbb2ef22b5ee",
   "metadata": {},
   "outputs": [
    {
     "name": "stdout",
     "output_type": "stream",
     "text": [
      "a and b are equal\n"
     ]
    }
   ],
   "source": [
    "a = 33\n",
    "b = 33\n",
    "if b > a:\n",
    "  print(\"b is greater than a\")\n",
    "elif a == b:\n",
    "  print(\"a and b are equal\")\n"
   ]
  },
  {
   "cell_type": "markdown",
   "id": "2408181e-5420-4d7b-81fa-aef6dc5cb83e",
   "metadata": {},
   "source": [
    "<div style=\"background-color: lightgreen; color: black; padding: 4px;\">\n",
    "    <h1>Elif\n",
    "\n",
    "</h1> </div>"
   ]
  },
  {
   "cell_type": "markdown",
   "id": "3aede6a9-c15e-4418-af33-5aae80a0ef90",
   "metadata": {},
   "source": [
    "<h3><p>The else keyword catches anything which isn't caught by the preceding conditions.<p></h3>"
   ]
  },
  {
   "cell_type": "code",
   "execution_count": 5,
   "id": "2d4311f1-78d7-4e19-9c10-80c35bcf559c",
   "metadata": {},
   "outputs": [
    {
     "name": "stdout",
     "output_type": "stream",
     "text": [
      "a is greater than b\n"
     ]
    }
   ],
   "source": [
    "a = 200\n",
    "b = 33\n",
    "if b > a:\n",
    "  print(\"b is greater than a\")\n",
    "elif a == b:\n",
    "  print(\"a and b are equal\")\n",
    "else:\n",
    "  print(\"a is greater than b\")\n"
   ]
  },
  {
   "cell_type": "markdown",
   "id": "a1441076-b3aa-47cf-9872-d95b5213e79b",
   "metadata": {},
   "source": [
    "<div style=\"background-color: lightgreen; color: black; padding: 4px;\">\n",
    "    <h1>Short Hand If ... Else\n",
    "\n",
    "\n",
    "</h1> </div>"
   ]
  },
  {
   "cell_type": "markdown",
   "id": "f6e2c303-4d1b-4c0f-8631-8a664cadf2f3",
   "metadata": {},
   "source": [
    "<h3><p>If you have only one statement to execute, one for if, and one for else, you can put it all on the same line:<p></h3>\n",
    "\n"
   ]
  },
  {
   "cell_type": "code",
   "execution_count": 7,
   "id": "a8e46314-dd66-44a0-bf78-ec342bbba18b",
   "metadata": {},
   "outputs": [
    {
     "data": {
      "text/plain": [
       "'b'"
      ]
     },
     "execution_count": 7,
     "metadata": {},
     "output_type": "execute_result"
    }
   ],
   "source": [
    "a=10\n",
    "b=20\n",
    "print(\"a\") if a>b else(\"b\")"
   ]
  },
  {
   "cell_type": "code",
   "execution_count": 8,
   "id": "ea3b3ff1-d249-4b28-85f7-395a45ce8017",
   "metadata": {},
   "outputs": [
    {
     "name": "stdout",
     "output_type": "stream",
     "text": [
      "B\n"
     ]
    }
   ],
   "source": [
    "a-10\n",
    "b=20\n",
    "print(\"A\") if a > b else print(\"=\") if a == b else print(\"B\")\n"
   ]
  },
  {
   "cell_type": "markdown",
   "id": "54ba2d4a-6440-4558-a77c-cb8fe371580b",
   "metadata": {},
   "source": [
    "<div style=\"background-color: lightgreen; color: black; padding: 4px;\">\n",
    "    <h1>And\n",
    "\n",
    "\n",
    "</h1> </div>"
   ]
  },
  {
   "cell_type": "markdown",
   "id": "eb9789e1-55bc-4c88-a8ce-4d2b56e71b84",
   "metadata": {},
   "source": [
    "<h3><p>The and keyword is a logical operator, and is used to combine conditional statements:<p></h3>\n",
    "\n"
   ]
  },
  {
   "cell_type": "code",
   "execution_count": 9,
   "id": "581411e0-d673-4781-b703-d7b763d5be2f",
   "metadata": {},
   "outputs": [
    {
     "name": "stdout",
     "output_type": "stream",
     "text": [
      "Both conditions are True\n"
     ]
    }
   ],
   "source": [
    "a = 200\n",
    "b = 33\n",
    "c = 500\n",
    "if a > b and c > a:\n",
    "  print(\"Both conditions are True\")\n"
   ]
  },
  {
   "cell_type": "markdown",
   "id": "61a466ca-4d77-4433-9965-dc3c929ef770",
   "metadata": {},
   "source": [
    "<div style=\"background-color: lightgreen; color: black; padding: 4px;\">\n",
    "    <h1> Or\n",
    "\n",
    "\n",
    "</h1> </div>"
   ]
  },
  {
   "cell_type": "markdown",
   "id": "f34607bb-db0a-4202-a579-8750ef49f9cd",
   "metadata": {},
   "source": [
    "<h3><p>The or keyword is a logical operator, and is used to combine conditional statements:<p></h3>"
   ]
  },
  {
   "cell_type": "code",
   "execution_count": 13,
   "id": "4134354b-2117-4431-b31a-fd5696720481",
   "metadata": {},
   "outputs": [
    {
     "name": "stdout",
     "output_type": "stream",
     "text": [
      "At least one of the conditions is True\n"
     ]
    }
   ],
   "source": [
    "a = 200\n",
    "b = 33\n",
    "c = 500\n",
    "if a > b or a > c:\n",
    "  print(\"At least one of the conditions is True\")\n"
   ]
  },
  {
   "cell_type": "markdown",
   "id": "1df6c96d-bed5-46ea-9e27-188d3d7f46ed",
   "metadata": {},
   "source": [
    "<div style=\"background-color: lightgreen; color: black; padding: 4px;\">\n",
    "    <h1> Nested If\n",
    "\n",
    "\n",
    "</h1> </div>"
   ]
  },
  {
   "cell_type": "markdown",
   "id": "2fef9a0d-1858-4cca-952d-3150b9957528",
   "metadata": {},
   "source": [
    "<h3><p>You can have if statements inside if statements, this is called nested if statements.<p></h3>"
   ]
  },
  {
   "cell_type": "code",
   "execution_count": 14,
   "id": "d01f86b1-ff5c-4f3f-97d1-79459ec77177",
   "metadata": {},
   "outputs": [
    {
     "name": "stdout",
     "output_type": "stream",
     "text": [
      "Above ten,\n",
      "and also above 20!\n"
     ]
    }
   ],
   "source": [
    "x = 41\n",
    "\n",
    "if x > 10:\n",
    "  print(\"Above ten,\")\n",
    "  if x > 20:\n",
    "    print(\"and also above 20!\")\n",
    "  else:\n",
    "    print(\"but not above 20.\")\n"
   ]
  },
  {
   "cell_type": "markdown",
   "id": "c0681250-a13e-4508-bae2-8ae72cd1822e",
   "metadata": {},
   "source": [
    "<div style=\"background-color: lightgreen; color: black; padding: 4px;\">\n",
    "    <h1> Pass statement\n",
    "\n",
    "\n",
    "</h1> </div>"
   ]
  },
  {
   "cell_type": "markdown",
   "id": "43e19a57-cbfb-4ff9-a93f-b3188b7cfcc0",
   "metadata": {},
   "source": [
    "<h3><p>if statements cannot be empty, but if you for some reason have an if statement with no content, put in the pass statement to avoid getting an error.<p></h3>"
   ]
  },
  {
   "cell_type": "code",
   "execution_count": 17,
   "id": "247c0172-9416-41cc-ab08-aa6341ccab73",
   "metadata": {},
   "outputs": [],
   "source": [
    "a = 33\n",
    "b = 200\n",
    "\n",
    "if b > a:\n",
    "    pass\n",
    "  \n"
   ]
  },
  {
   "cell_type": "markdown",
   "id": "f71e19fb-3e3e-4086-8200-007d8b4632a2",
   "metadata": {},
   "source": [
    "<div style=\"background-color: lightblue; color: white; padding: 10px; text-align: center;\">\n",
    "    <h1>_________________________________END________________________________\n",
    "<!--- Devashish Kumar | Tech Skills Trainer | CodroidHub Private Limited | AI/ML Consultant --->\n",
    "    </h1> </div>"
   ]
  },
  {
   "cell_type": "markdown",
   "id": "7b360cb5-4a71-4496-a23a-8eae51b1319f",
   "metadata": {},
   "source": [
    "\n",
    "<div style=\"background-color: #002147; color: #fff; padding: 30px; text-align: center;\">\n",
    "    <h1>THANK YOU!\n",
    "        <!--- Devashish Kumar | Tech Skills Trainer | CodroidHub Private Limited | AI/ML Consultant --->\n",
    "</h1> </div>"
   ]
  },
  {
   "cell_type": "markdown",
   "id": "0f19bce6-f7d0-434c-b6ad-ce52669ca495",
   "metadata": {},
   "source": [
    "<h2 style=\"background-color: #ffe4e1; color: #2f4f4f; padding: 10px; border-radius: 10px; width: 350px; text-align: center; float: right; margin: 20px 0;\">\n",
    "    suhana<br>\n",
    "    <span style=\"font-size: 12px; color: #696969;\">\n",
    "       AIML Trainee | CodroidHub Private Limited | AI/ML bootcamp\n",
    "    </span>\n",
    "</h2>"
   ]
  },
  {
   "cell_type": "code",
   "execution_count": null,
   "id": "5c3a2b3c-863d-4453-90ac-418918114323",
   "metadata": {},
   "outputs": [],
   "source": []
  }
 ],
 "metadata": {
  "kernelspec": {
   "display_name": "Python 3 (ipykernel)",
   "language": "python",
   "name": "python3"
  },
  "language_info": {
   "codemirror_mode": {
    "name": "ipython",
    "version": 3
   },
   "file_extension": ".py",
   "mimetype": "text/x-python",
   "name": "python",
   "nbconvert_exporter": "python",
   "pygments_lexer": "ipython3",
   "version": "3.12.4"
  }
 },
 "nbformat": 4,
 "nbformat_minor": 5
}
