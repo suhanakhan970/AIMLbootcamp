{
 "cells": [
  {
   "cell_type": "markdown",
   "metadata": {},
   "source": [
    "ASSIGNMENT 2:CONDITIONAL STATEMENTS"
   ]
  },
  {
   "cell_type": "markdown",
   "metadata": {},
   "source": [
    "TASK 1:"
   ]
  },
  {
   "cell_type": "code",
   "execution_count": 1,
   "metadata": {},
   "outputs": [
    {
     "name": "stdout",
     "output_type": "stream",
     "text": [
      "The person is eligible to vote\n"
     ]
    }
   ],
   "source": [
    "# VOTING ELIGIBILITY\n",
    "age=int(input(\"Enter the age of person\"))\n",
    "if age>=18:\n",
    "    print(\"The person is eligible to vote\")\n",
    "else:\n",
    "    print(\"The person is not eligible to vote\")"
   ]
  },
  {
   "cell_type": "markdown",
   "metadata": {},
   "source": [
    "TASK 2:\n"
   ]
  },
  {
   "cell_type": "code",
   "execution_count": 4,
   "metadata": {},
   "outputs": [
    {
     "name": "stdout",
     "output_type": "stream",
     "text": [
      "num is 3\n",
      "The number is positive\n"
     ]
    }
   ],
   "source": [
    "#POSITIVE,NEGATIVE OR ZERO\n",
    "num=int(input(\"Enter a number\"))\n",
    "print(f\"num is {num}\")\n",
    "if num>0:\n",
    "    print(\"The number is positive\")\n",
    "elif num==0:\n",
    "    print(\"The number is zero\")\n",
    "else:\n",
    "    print(\"The number is negative\")"
   ]
  },
  {
   "cell_type": "markdown",
   "metadata": {},
   "source": [
    "TASK 3:\n"
   ]
  },
  {
   "cell_type": "code",
   "execution_count": 6,
   "metadata": {},
   "outputs": [
    {
     "name": "stdout",
     "output_type": "stream",
     "text": [
      "num 3\n",
      "The number is odd\n"
     ]
    }
   ],
   "source": [
    "#EVEN OR ODD\n",
    "num=int(input(\"Enter a number\"))\n",
    "print(f\"num {num}\")\n",
    "if num%2==0:\n",
    "    print(\"The number is even\")\n",
    "else:\n",
    "    print(\"The number is odd\")"
   ]
  }
 ],
 "metadata": {
  "kernelspec": {
   "display_name": "base",
   "language": "python",
   "name": "python3"
  },
  "language_info": {
   "codemirror_mode": {
    "name": "ipython",
    "version": 3
   },
   "file_extension": ".py",
   "mimetype": "text/x-python",
   "name": "python",
   "nbconvert_exporter": "python",
   "pygments_lexer": "ipython3",
   "version": "3.12.4"
  }
 },
 "nbformat": 4,
 "nbformat_minor": 2
}
