{
 "cells": [
  {
   "cell_type": "markdown",
   "metadata": {},
   "source": [
    "ASSIGNMENT 1"
   ]
  },
  {
   "cell_type": "markdown",
   "metadata": {},
   "source": [
    "TASK 1:"
   ]
  },
  {
   "cell_type": "code",
   "execution_count": null,
   "metadata": {},
   "outputs": [
    {
     "name": "stdout",
     "output_type": "stream",
     "text": [
      "a is10 <class 'int'>\n",
      "b is 20.4 <class 'float'>\n",
      "c is john <class 'str'>\n",
      "d is True <class 'bool'>\n"
     ]
    }
   ],
   "source": [
    "#UNDERSTANDING VARIABLE\n",
    "a=10\n",
    "print(f\"a is{a}\",type(a))\n",
    "b=20.4\n",
    "print(f\"b is {b}\",type(b))\n",
    "c=\"john\"\n",
    "print(f\"c is {c}\",type(c))\n",
    "d=True\n",
    "print(f\"d is {d}\",type(d))\n"
   ]
  },
  {
   "cell_type": "markdown",
   "metadata": {},
   "source": [
    "TASK 2:"
   ]
  },
  {
   "cell_type": "code",
   "execution_count": null,
   "metadata": {},
   "outputs": [
    {
     "name": "stdout",
     "output_type": "stream",
     "text": [
      "converted to float 12.0\n",
      "converted to int 22\n",
      "converted to int 23\n"
     ]
    }
   ],
   "source": [
    "#type converssion\n",
    "num=12\n",
    "float_num=float(num)\n",
    "print(\"converted to float\",float_num)\n",
    "num=22.2\n",
    "int_num=int(num)\n",
    "print(\"converted to int\",int_num)\n",
    "str=\"23\"\n",
    "int_num=int(str)\n",
    "print(\"converted to int\",int_num)\n"
   ]
  },
  {
   "cell_type": "markdown",
   "metadata": {},
   "source": [
    "TASK 3:"
   ]
  },
  {
   "cell_type": "code",
   "execution_count": null,
   "metadata": {},
   "outputs": [
    {
     "name": "stdout",
     "output_type": "stream",
     "text": [
      "Addition 19\n",
      "Subtraction 11\n",
      "Multiplication 60\n",
      "Divission 3.75\n",
      "Floor divission 3\n",
      "Modulus 3\n",
      "Exponentiation 50625\n"
     ]
    },
    {
     "data": {
      "text/plain": [
       "<function int.bit_length()>"
      ]
     },
     "execution_count": 6,
     "metadata": {},
     "output_type": "execute_result"
    }
   ],
   "source": [
    "#MATHEMATICAL OPERATION\n",
    "a=15\n",
    "b=4\n",
    "print(\"Addition\",a+b)\n",
    "print(\"Subtraction\",a-b)\n",
    "print(\"Multiplication\",a*b)\n",
    "print(\"Divission\",a/b)\n",
    "print(\"Floor divission\",a//b)\n",
    "print(\"Modulus\",a%b)\n",
    "print(\"Exponentiation\",a**b)\n"
   ]
  }
 ],
 "metadata": {
  "kernelspec": {
   "display_name": "base",
   "language": "python",
   "name": "python3"
  },
  "language_info": {
   "codemirror_mode": {
    "name": "ipython",
    "version": 3
   },
   "file_extension": ".py",
   "mimetype": "text/x-python",
   "name": "python",
   "nbconvert_exporter": "python",
   "pygments_lexer": "ipython3",
   "version": "3.12.4"
  }
 },
 "nbformat": 4,
 "nbformat_minor": 2
}
