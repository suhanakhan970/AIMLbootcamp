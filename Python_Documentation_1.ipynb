{
 "cells": [
  {
   "cell_type": "markdown",
   "id": "da9697f2-ccd7-4763-b7f3-715e9e9f64eb",
   "metadata": {},
   "source": [
    "<div style=\"background-color: #add8e6; padding: 10px; height: 70px; border-radius: 15px;\">\n",
    "    <div style=\"font-family: 'Georgia', serif; font-size: 20px; padding: 10px; text-align: right; position: absolute; right: 20px;\">\n",
    "        Suhana <br>\n",
    "        <span style=\"font-family: 'Arial', sans-serif;font-size: 12px; color: #0a0a0a;\">AIML Trainee | AI/ML bootcamp</span> <!--- Suhana | CodroidHub Private Limited | AI/ML Consultant --->\n",
    "    </div>\n",
    "</div>"
   ]
  },
  {
   "cell_type": "markdown",
   "id": "cb95d6e7-a72d-4147-a125-d0b9e869c38f",
   "metadata": {},
   "source": [
    "<div style=\"background-color: #002147; padding: 10px; text-align: center; color: white; font-size: 32px; font-family: 'Arial', sans-serif;\">\n",
    "    Python documentation <br>\n",
    "    <h3 style=\"text-align: center; color: white; font-size: 15px; font-family: 'Arial', sans-serif;\"></h3>\n",
    "</div>"
   ]
  },
  {
   "cell_type": "markdown",
   "id": "718c2304-73b0-420a-aa23-ea1c7c9c4b12",
   "metadata": {},
   "source": [
    "<div style=\"background-color: lightgreen; color: black; padding: 4px;\">\n",
    "<h1>What is python</h1>\n",
    "</div>"
   ]
  },
  {
   "cell_type": "markdown",
   "id": "b514c391-8980-4693-bf4e-1fe81668efcc",
   "metadata": {},
   "source": [
    "<p>Python is a high-level, interpreted programming language known for its simplicity and readability. It supports multiple programming paradigms, including procedural, object-oriented, and functional programming. Python is widely used for web development, data analysis, automation, artificial intelligence, scientific computing, and more.<p>"
   ]
  },
  {
   "cell_type": "markdown",
   "id": "4a18a58c-8fdb-4715-b08b-7078d940e79f",
   "metadata": {},
   "source": [
    "<div style=\"background-color: lightgreen; color: black; padding: 4px;\">\n",
    "<h1>History of python</h1>\n",
    "</div>"
   ]
  },
  {
   "cell_type": "markdown",
   "id": "ca0d4f1b-9f84-4e6b-992f-88f36dc5666d",
   "metadata": {},
   "source": [
    "<p>Python is a widely used general-purpose, high-level programming language. It was initially designed by Guido van Rossum in 1991 and developed by Python Software Foundation. It was mainly developed to emphasize code readability, and its syntax allows programmers to express concepts in fewer lines of code<p>"
   ]
  },
  {
   "cell_type": "markdown",
   "id": "c56db5bb-5300-42f0-b890-45492a87dfa3",
   "metadata": {},
   "source": [
    "<div style=\"background-color: lightgreen; color: black; padding: 4px;\">\n",
    "<h1>Who Invented Python</h1>\n",
    "</div>"
   ]
  },
  {
   "cell_type": "markdown",
   "id": "60e93c0d-a093-4da9-b3f7-b93da04000ee",
   "metadata": {},
   "source": [
    "<p>In the late 1980s, history was about to be written. It was that time when working on Python started. Soon after that, Guido Van Rossum began doing its application-based work in December of 1989 at Centrum Wiskunde & Informatica (CWI) which is situated in the Netherlands. It was started as a hobby project because he was looking for an interesting project to keep him occupied during Christmas.,p>\n",
    "<p>The programming language in which Python is said to have succeeded is ABC Programming Language, which had interfacing with the Amoeba Operating System and had the feature of exception handling. He had already helped create ABC earlier in his career and had seen some issues with ABC but liked most of the features. After that what he did was very clever. He had taken the syntax of ABC, and some of its good features. It came with a lot of complaints too, so he fixed those issues completely and created a good scripting language that had removed all the flaws.\r\n",
    "\r\n",
    "\n",
    "\n",
    "<p>"
   ]
  },
  {
   "cell_type": "markdown",
   "id": "83561d80-58d2-4ceb-bc95-27ceac3532c5",
   "metadata": {},
   "source": [
    "<div style=\"background-color: lightgreen; color: black; padding: 4px;\">\n",
    "<h1>Why Python Called Python</h1>\n",
    "</div>"
   ]
  },
  {
   "cell_type": "markdown",
   "id": "fee5b862-360c-462f-b4a4-2c305de213a3",
   "metadata": {},
   "source": [
    "<p>The inspiration for the name came from the BBC’s TV Show – ‘ Monty Python’s Flying Circus’ , as he was a big fan of the TV show and also he wanted a short, unique and slightly mysterious name for his invention and hence he named it Python! He was the “Benevolent dictator for life” (BDFL) until he stepped down from the position as the leader on 12th July 2018. For quite some time he used to work for Google, but currently, he is working at Dropbox.<p>"
   ]
  },
  {
   "cell_type": "markdown",
   "id": "0b8adb69-6ee0-48c5-a193-bbdcd44a9e6c",
   "metadata": {},
   "source": [
    "<div style=\"background-color: lightgreen; color: black; padding: 4px;\">\n",
    "<h1>Properties of python</h1>\n",
    "</div>"
   ]
  },
  {
   "cell_type": "markdown",
   "id": "a2b76eba-3ac3-474a-ab16-4bdd2d95133b",
   "metadata": {},
   "source": [
    "<h2><p>1.Easy to learn<p>\n",
    "<p>2.Powerfull programing language<p>\n",
    "<p>3.Efficient high level datastructure.<p>\n",
    "<p>4.Elegent syntax<p>\n",
    "<p>5.Dynamic typing<p>\n",
    "<p>6.interpreted nature<p>\n",
    "<p>7.ideal language for scripting and rapid application development <p></h2>"
   ]
  },
  {
   "cell_type": "markdown",
   "id": "bf334b29-a29d-44b9-8172-0fca1bfd8c58",
   "metadata": {},
   "source": [
    "<h2>1. Easy to learn</h2>\n",
    "<h3>1. Simple and Readable Syntax</h3><p>Python’s syntax is designed to be clear and concise, making it easy to read and understand. It uses indentation instead of braces {} (like in C or Java), which enforces clean coding practices<p>"
   ]
  },
  {
   "cell_type": "code",
   "execution_count": 1,
   "id": "0f2e192d-0637-48a8-9641-285f90766371",
   "metadata": {},
   "outputs": [
    {
     "name": "stdout",
     "output_type": "stream",
     "text": [
      "hello world\n"
     ]
    }
   ],
   "source": [
    "print(\"hello world\")"
   ]
  },
  {
   "cell_type": "markdown",
   "id": "d4eb3815-f2b3-40ac-a11e-964542a09b64",
   "metadata": {},
   "source": [
    "<h3>2. English-like Commands</h3><p> Many Python commands and functions resemble plain English, making the language intuitive for beginners.<p>\n",
    "\n"
   ]
  },
  {
   "cell_type": "markdown",
   "id": "f5d73e5c-5b93-4cb3-b02c-9f9464108cf9",
   "metadata": {},
   "source": [
    "<h3>3. Dynamically Typed</h3><p>Python does not require explicit variable declarations; it infers the type automatically.<p></h3>\n",
    "\n"
   ]
  },
  {
   "cell_type": "code",
   "execution_count": 3,
   "id": "53295238-434c-4a46-a83a-6b90bccf933c",
   "metadata": {},
   "outputs": [],
   "source": [
    "x=10"
   ]
  },
  {
   "cell_type": "markdown",
   "id": "0c24375c-9c6a-4422-9536-25148eb85121",
   "metadata": {},
   "source": [
    "<h3>4. Large Standard Library</h3><p>Python has a rich built-in library that provides pre-written code for many tasks, reducing the need for extra coding.<p></h3>\n",
    "\n"
   ]
  },
  {
   "cell_type": "markdown",
   "id": "d2c39940-e6c6-4aed-bf3b-1aa9ad5be622",
   "metadata": {},
   "source": [
    "import math\n",
    "print(math.sqrt(25))"
   ]
  },
  {
   "cell_type": "markdown",
   "id": "d2f936c9-89a9-4e76-9849-ebd0d1c42f21",
   "metadata": {},
   "source": [
    "<h3>5. Interpreted Language</h3><p>Python does not require compilation; you can run the code directly, which speeds up learning and debugging.<p></h3>\n",
    "\n"
   ]
  },
  {
   "cell_type": "markdown",
   "id": "a497bc08-3f1c-4ea4-8adf-bc95376bbaed",
   "metadata": {},
   "source": [
    "<h3>6. Versatile and Widely Used</h3><p> Python is used in web development, data science, machine learning, and automation, making it a practical choice for learners.<p></h3>"
   ]
  },
  {
   "cell_type": "markdown",
   "id": "4aedfcf4-51da-4f5c-a67f-b699bb21b002",
   "metadata": {},
   "source": [
    "<h2>Powerfull programming language</h2>"
   ]
  },
  {
   "cell_type": "markdown",
   "id": "4188e530-f108-4655-946c-a7b0a24a030c",
   "metadata": {},
   "source": [
    "<h2>1.Simple and Expressive Syntax</h2><p>Python’s clean and concise syntax allows developers to write complex programs with fewer lines of code.<p></h3>"
   ]
  },
  {
   "cell_type": "markdown",
   "id": "11885a77-d422-45c4-b753-9dd76ec54d00",
   "metadata": {},
   "source": [
    "<h3>2.Extensive Libraries and Frameworks</h3>\n",
    "<p>*Python has a massive standard library and third-party frameworks for various domains, including:<p>\n",
    "<p>*Data Science & AI: NumPy, Pandas, TensorFlow, PyTorch<p>\n",
    "<p>*Web Development: Django, Flask<p>\n",
    "<p>*Automation: Selenium, PyAutoGUI<p>\n",
    "<p>*Networking: Scapy, Paramiko<p></h3>"
   ]
  },
  {
   "cell_type": "markdown",
   "id": "e2ed7bd4-86e6-434e-a7d0-b09e4cdf2206",
   "metadata": {},
   "source": [
    "<h3>3. Cross-Platform Compatibility</h3>\n",
    "<p>Python is platform-independent, meaning code written in Python runs on Windows, macOS, and Linux without modification.<p></h3>\n"
   ]
  },
  {
   "cell_type": "markdown",
   "id": "9b225381-894d-47b4-a1a3-04bec94b92ee",
   "metadata": {},
   "source": [
    "<h3>4. Dynamically Typed and Interpreted</h3>\n",
    "<p>No need to declare variable types (int, float, string).<p>\n",
    "<p>Python code runs line by line (interpreted), making debugging easier.<p></h3>"
   ]
  },
  {
   "cell_type": "markdown",
   "id": "446009d4-ccab-45bd-afd4-c61fb30e36ad",
   "metadata": {},
   "source": [
    "<h3>5. Large and Active Community</h3>\n",
    "<p>Python has one of the largest programming communities, providing extensive documentation, tutorials, and support.<p></h3>"
   ]
  },
  {
   "cell_type": "markdown",
   "id": "51df75e1-7657-48d0-983f-d5f9af89b8d4",
   "metadata": {},
   "source": [
    "<h2>Efficient high level data structure</h2>"
   ]
  },
  {
   "cell_type": "markdown",
   "id": "cf1b7478-0ba5-40d4-bbf1-e004a3e0f324",
   "metadata": {},
   "source": [
    "<p>Python is an efficient high-level programming language because of its built-in data structures that make data storage, manipulation, and retrieval easy and fast. Here’s why Python's data structures are powerful and efficient.<p>\n",
    "\n"
   ]
  },
  {
   "cell_type": "markdown",
   "id": "c7eb7720-ba1f-4ae2-8e20-25416e070997",
   "metadata": {},
   "source": [
    "<h3>1. Built-in High-Level Data Structures</h3>\n",
    "<p>Python provides ready-to-use data structures that are optimized for performance.<p>"
   ]
  },
  {
   "cell_type": "code",
   "execution_count": 10,
   "id": "3b960177-0a48-4a00-9330-a8c05c8d1a94",
   "metadata": {},
   "outputs": [
    {
     "name": "stdout",
     "output_type": "stream",
     "text": [
      "[1, 'hello', 3.14, 100]\n"
     ]
    }
   ],
   "source": [
    "my_list = [1, \"hello\", 3.14]  \n",
    "my_list.append(100)  \n",
    "print(my_list)"
   ]
  },
  {
   "cell_type": "markdown",
   "id": "31626d4d-3f1b-4e75-bb73-2c68c2d3ffdc",
   "metadata": {},
   "source": [
    "<h3>2.Tuples (Immutable Lists)</h3>\n",
    "<p>Faster than lists because they are immutable.<p>\n",
    "<p>Uses less memory than lists, improving performance.<p>\n"
   ]
  },
  {
   "cell_type": "code",
   "execution_count": 11,
   "id": "1b64e083-d58c-475a-b345-0be6b44b44ac",
   "metadata": {},
   "outputs": [
    {
     "name": "stdout",
     "output_type": "stream",
     "text": [
      "20\n"
     ]
    }
   ],
   "source": [
    "my_tuple = (10, 20, 30)\n",
    "print(my_tuple[1])"
   ]
  },
  {
   "cell_type": "markdown",
   "id": "1df5be23-de06-45e6-a12c-a0a755c11749",
   "metadata": {},
   "source": [
    "<h3>3. Dictionaries (Hash Maps)</h3>\n",
    "<p>Key-value pairs with O(1) average time complexity for lookups.<p>\n",
    "<p>Uses a hashing algorithm for efficient data retrieval.<p>\n"
   ]
  },
  {
   "cell_type": "code",
   "execution_count": 12,
   "id": "aab34995-9a01-4dc7-91ce-5d14c21031fa",
   "metadata": {},
   "outputs": [
    {
     "name": "stdout",
     "output_type": "stream",
     "text": [
      "Alice\n"
     ]
    }
   ],
   "source": [
    "my_dict = {\"name\": \"Alice\", \"age\": 25}\n",
    "print(my_dict[\"name\"]) "
   ]
  },
  {
   "cell_type": "markdown",
   "id": "3df85694-9e06-44ef-af6c-9f1d52715ae6",
   "metadata": {},
   "source": [
    "<h3>4. Sets (Unordered Unique Collections)</h3>\n",
    "<p>Stores unique elements and supports fast lookups (O(1)).<p>\n",
    "<p>Optimized for membership testing.<p>\n"
   ]
  },
  {
   "cell_type": "code",
   "execution_count": 14,
   "id": "a7b2d1eb-7994-49c2-a5bc-737f87d22c69",
   "metadata": {},
   "outputs": [
    {
     "name": "stdout",
     "output_type": "stream",
     "text": [
      "True\n"
     ]
    }
   ],
   "source": [
    "my_set = {1, 2, 3, 4, 4} \n",
    "print(2 in my_set)"
   ]
  },
  {
   "cell_type": "markdown",
   "id": "30e564e0-145c-421e-922f-a2e6fe056a09",
   "metadata": {},
   "source": [
    "<h3>5. Supports Advanced Data Structures</h3>\n",
    "<p>Python provides additional high-performance data structures via the collections module:<p>\n",
    "\n",
    "<p>deque – Faster append/remove from both ends than lists.<p>\n",
    "<p>OrderedDict – Maintains order of key insertions.<p>\n",
    "<p>defaultdict – Automatically initializes missing dictionary keys.<p>"
   ]
  },
  {
   "cell_type": "markdown",
   "id": "536b5181-bbcc-4ee4-8ae9-95ea3db55ca6",
   "metadata": {},
   "source": [
    "<h3>6. Used in Real-World Applications</h3>\n",
    "<p>Python’s high-level data structures make it ideal for:<p>\n",
    "\n",
    "<p>Big Data Processing (Pandas DataFrames)<p>\n",
    "<p>Machine Learning (NumPy, TensorFlow)<p>\n",
    "<p>Databases and Caching (Redis, MongoDB)<p>\n",
    "<p>Graph and Tree Implementations (NetworkX)<p>"
   ]
  },
  {
   "cell_type": "markdown",
   "id": "81335d74-9dc7-40a5-81cb-a7390df339ac",
   "metadata": {},
   "source": [
    "<h2>Elegant syntax</h2>"
   ]
  },
  {
   "cell_type": "markdown",
   "id": "7155e78e-7d6e-4855-8439-078012b88e93",
   "metadata": {},
   "source": [
    "<p>Python is known for its elegant syntax, which makes it clean, readable, and easy to write. Here’s why Python’s syntax is considered elegant.<p>\n",
    "\n"
   ]
  },
  {
   "cell_type": "markdown",
   "id": "6b4d5bc0-d79d-43f0-b415-6585b5dafdf3",
   "metadata": {},
   "source": [
    "<h3>1. Readability and Simplicity (Like English)</h3>\n",
    "<p>Python’s syntax is designed to be human-readable, making it easy to understand even for beginners.<p>\n",
    "\n",
    "<p>Uses simple, natural language-like keywords (if, else, while, for, def, print, etc.).<p>\n",
    "<p>No unnecessary symbols like semicolons (;) or curly braces ({}).<p>"
   ]
  },
  {
   "cell_type": "markdown",
   "id": "86e4bddd-7665-41ae-8f05-451d215f4e25",
   "metadata": {},
   "source": [
    "<h3>2. Dynamic Typing (No Need to Declare Types)</h3>\n",
    "<p>Python automatically infers data types, making code cleaner.<p>"
   ]
  },
  {
   "cell_type": "code",
   "execution_count": 19,
   "id": "6ae56406-e13e-4aa2-aaa7-de4a01e646ea",
   "metadata": {},
   "outputs": [],
   "source": [
    "x = 10  \n",
    "y = \"Hello\""
   ]
  },
  {
   "cell_type": "markdown",
   "id": "8a28dbab-cf58-491f-97a2-46d5edc78b51",
   "metadata": {},
   "source": [
    "<h3>3. Clear and Concise String Formatting</h3>\n",
    "<p>Python has an elegant way of formatting strings using f-strings.<p>\n",
    "\n"
   ]
  },
  {
   "cell_type": "code",
   "execution_count": 20,
   "id": "fb46120e-4e5e-4436-be69-dfc368f39bc8",
   "metadata": {},
   "outputs": [
    {
     "name": "stdout",
     "output_type": "stream",
     "text": [
      "My name is Alice and I am 25 years old.\n"
     ]
    }
   ],
   "source": [
    "name = \"Alice\"\n",
    "age = 25\n",
    "print(f\"My name is {name} and I am {age} years old.\")"
   ]
  },
  {
   "cell_type": "markdown",
   "id": "bddce10d-ae5c-4623-8ee2-08b4cd519bdf",
   "metadata": {},
   "source": [
    "<h2>dynamic typing</h2>"
   ]
  },
  {
   "cell_type": "markdown",
   "id": "b602c6b4-6065-42ec-a440-f6a9925b58c5",
   "metadata": {},
   "source": [
    "<p>Python is dynamically typed, meaning that you don’t have to declare variable types explicitly. The type of a variable is determined at runtime, not before execution.<p>\n",
    "\n"
   ]
  },
  {
   "cell_type": "markdown",
   "id": "97492aed-cf2d-4763-8b70-21b036227567",
   "metadata": {},
   "source": [
    "<h3>1. No Need for Explicit Type Declaration</h3>\n",
    "<p>In Python, you can create variables without specifying their type. The interpreter automatically determines the type based on the assigned value.<p>"
   ]
  },
  {
   "cell_type": "code",
   "execution_count": 22,
   "id": "3c644f5b-d5ab-492c-84e2-f3cb2b37176b",
   "metadata": {},
   "outputs": [
    {
     "name": "stdout",
     "output_type": "stream",
     "text": [
      "<class 'int'>\n",
      "<class 'str'>\n",
      "<class 'float'>\n"
     ]
    }
   ],
   "source": [
    "x = 10        # Integer\n",
    "y = \"Hello\"   # String\n",
    "z = 3.14      # Float\n",
    "\n",
    "print(type(x))  # <class 'int'>\n",
    "print(type(y))  # <class 'str'>\n",
    "print(type(z))"
   ]
  },
  {
   "cell_type": "markdown",
   "id": "7fe032dd-6c85-4996-9374-7bd266258864",
   "metadata": {},
   "source": [
    "<h3>2. Type Can Change at Runtime</h3>\n",
    "<p>Since Python is dynamically typed, a variable can hold different types of data at different points in execution.<p>"
   ]
  },
  {
   "cell_type": "code",
   "execution_count": 23,
   "id": "79b97088-ae66-4926-b11a-a6484bdb6384",
   "metadata": {},
   "outputs": [
    {
     "name": "stdout",
     "output_type": "stream",
     "text": [
      "Python\n"
     ]
    }
   ],
   "source": [
    "x = 42        \n",
    "x = \"Python\" \n",
    "print(x)   "
   ]
  },
  {
   "cell_type": "markdown",
   "id": "f16ffd63-9eee-484c-af3d-a4e9f0cfdb94",
   "metadata": {},
   "source": [
    "<h3>3. No Need for Type Casting</h3>\n",
    "<p>In statically typed languages like C++, you must convert types manually.<p>\n",
    "\n"
   ]
  },
  {
   "cell_type": "code",
   "execution_count": 28,
   "id": "8c8e3c8c-c41a-4ecc-bc82-6a4a4c7e0973",
   "metadata": {},
   "outputs": [
    {
     "name": "stdout",
     "output_type": "stream",
     "text": [
      "10.0\n"
     ]
    }
   ],
   "source": [
    "int =10\n",
    "float=float(int)\n",
    "print(float)\n"
   ]
  },
  {
   "cell_type": "markdown",
   "id": "3e176db8-af6d-4912-9aa1-28d31c1fddd6",
   "metadata": {},
   "source": [
    "<h2>interpretted language</h2>"
   ]
  },
  {
   "cell_type": "markdown",
   "id": "76265a37-caec-4e1d-93e2-47e34066e170",
   "metadata": {},
   "source": [
    "<p>Python is called an interpreted language because its code is executed line by line at runtime by the Python interpreter instead of being compiled into machine code beforehand.<p>"
   ]
  },
  {
   "cell_type": "markdown",
   "id": "2b7b069d-1f54-4aac-be96-91ddd2bbf255",
   "metadata": {},
   "source": [
    "<h3>1. No Compilation Step (Unlike C, C++, Java)</h3>\n",
    "<p>In compiled languages like C or Java, code is first converted into machine code by a compiler before execution.<p>\n",
    "<p>Python, on the other hand, runs directly using an interpreter, which processes each line one by one.<p>"
   ]
  },
  {
   "cell_type": "code",
   "execution_count": 31,
   "id": "a82631c1-a31f-4e24-94de-2a8cb8b778e8",
   "metadata": {},
   "outputs": [
    {
     "name": "stdout",
     "output_type": "stream",
     "text": [
      "Hello, World!\n"
     ]
    }
   ],
   "source": [
    "print(\"Hello, World!\")"
   ]
  },
  {
   "cell_type": "markdown",
   "id": "98d8579c-c615-4705-a0db-6d240cc445c4",
   "metadata": {},
   "source": [
    "<p>❌ C Language (Compiled Execution)<p>\n",
    "<p>#include <stdio.h><p>\n",
    "<p>int main() {<p>\n",
    "    <p>printf(\"Hello, World!\");<p>\n",
    "   <p> return 0;<p>\n",
    "<p>}<p>\n",
    "\n",
    "\n"
   ]
  },
  {
   "cell_type": "markdown",
   "id": "5bacb754-d3c8-409e-aaa2-9a829bc1b315",
   "metadata": {},
   "source": [
    "<h3>2. Line-by-Line Execution (More Flexible and Easier Debugging)</h3>\n",
    "<p>Since Python executes code one line at a time, errors are caught as soon as they occur, making debugging easier.<p>"
   ]
  },
  {
   "cell_type": "code",
   "execution_count": 34,
   "id": "9fd9bca8-644b-4842-bb33-6f5b1d3b61f9",
   "metadata": {},
   "outputs": [
    {
     "name": "stdout",
     "output_type": "stream",
     "text": [
      "Line 1 executed\n"
     ]
    },
    {
     "ename": "ZeroDivisionError",
     "evalue": "division by zero",
     "output_type": "error",
     "traceback": [
      "\u001b[1;31m---------------------------------------------------------------------------\u001b[0m",
      "\u001b[1;31mZeroDivisionError\u001b[0m                         Traceback (most recent call last)",
      "Cell \u001b[1;32mIn[34], line 2\u001b[0m\n\u001b[0;32m      1\u001b[0m \u001b[38;5;28mprint\u001b[39m(\u001b[38;5;124m\"\u001b[39m\u001b[38;5;124mLine 1 executed\u001b[39m\u001b[38;5;124m\"\u001b[39m)\n\u001b[1;32m----> 2\u001b[0m \u001b[38;5;28mprint\u001b[39m(\u001b[38;5;241;43m10\u001b[39;49m\u001b[43m \u001b[49m\u001b[38;5;241;43m/\u001b[39;49m\u001b[43m \u001b[49m\u001b[38;5;241;43m0\u001b[39;49m)  \n\u001b[0;32m      3\u001b[0m \u001b[38;5;28mprint\u001b[39m(\u001b[38;5;124m\"\u001b[39m\u001b[38;5;124mThis line won\u001b[39m\u001b[38;5;124m'\u001b[39m\u001b[38;5;124mt execute\u001b[39m\u001b[38;5;124m\"\u001b[39m)  \n",
      "\u001b[1;31mZeroDivisionError\u001b[0m: division by zero"
     ]
    }
   ],
   "source": [
    "print(\"Line 1 executed\")\n",
    "print(10 / 0)  \n",
    "print(\"This line won't execute\")  "
   ]
  },
  {
   "cell_type": "markdown",
   "id": "b29dd095-15d3-4e57-98b7-2e530ac45e2d",
   "metadata": {},
   "source": [
    "<h3>3. Platform-Independent Execution (Write Once, Run Anywhere)</h3>\n",
    "<p>Since Python is interpreted, you don’t need to compile it separately for different operating systems.<p>\n",
    "<p>Python code can run on Windows, macOS, and Linux without modification.<p>\n"
   ]
  },
  {
   "cell_type": "code",
   "execution_count": 35,
   "id": "4dc223e7-c88a-4d47-a31e-a4b573c0d98c",
   "metadata": {},
   "outputs": [
    {
     "name": "stdout",
     "output_type": "stream",
     "text": [
      "This works on any OS!\n"
     ]
    }
   ],
   "source": [
    "print(\"This works on any OS!\")\n"
   ]
  },
  {
   "cell_type": "markdown",
   "id": "2bd03be7-a988-4fff-87d0-69c1b78bdbd6",
   "metadata": {},
   "source": [
    "<h2>ideal language for scripting and rapid application development</h2>"
   ]
  },
  {
   "cell_type": "markdown",
   "id": "e5b58418-3ac5-430e-afc2-16e0ba40a6c4",
   "metadata": {},
   "source": [
    "<p>Python is widely considered the best language for scripting and rapid application development (RAD) because of its simplicity, flexibility, and extensive libraries.<p>"
   ]
  },
  {
   "cell_type": "markdown",
   "id": "e1ece96e-9ff6-4aff-988e-85252c3cba27",
   "metadata": {},
   "source": [
    "<h3>1. Simple and Readable Syntax.</h3>\n",
    "<p>Python’s clean and human-readable syntax allows developers to write code faster.<p>\n",
    "<p>No need to worry about complex syntax (like in Java or C++).<p></h3>\n",
    "\n"
   ]
  },
  {
   "cell_type": "code",
   "execution_count": null,
   "id": "108d4f50-deb5-4bda-9c74-013e8e515cee",
   "metadata": {},
   "outputs": [],
   "source": [
    "with open(\"file.txt\") as f:\n",
    "    print(f.read())  \n",
    "In Java, this would take 10+ lines with exception handling.\n"
   ]
  },
  {
   "cell_type": "markdown",
   "id": "37e381b7-8c2d-49e0-9a82-fea155d86c6f",
   "metadata": {},
   "source": [
    "<h3> 2. Interpreted and Dynamically Typed (No Compilation Needed)</h3>\n",
    "<p>Python is an interpreted language, meaning no compilation is needed.<p>\n",
    "<p>This speeds up the development process and allows quick testing.<p>\n",
    "<p>Dynamic typing means no need to declare variable types explicitly.<p></h3>\n",
    "\n"
   ]
  },
  {
   "cell_type": "code",
   "execution_count": 39,
   "id": "217af11d-b265-40ae-ae66-4aa66bf49b70",
   "metadata": {},
   "outputs": [],
   "source": [
    "x = 10   \n",
    "y = \"Hello\""
   ]
  },
  {
   "cell_type": "markdown",
   "id": "4feb3bcb-1bae-494a-a5e5-39a75726874d",
   "metadata": {},
   "source": [
    "<h3>5. Cross-Platform and Portable</h3>\n",
    "<p>Python works on Windows, Linux, macOS without changes.<p>\n",
    "<p>Runs on all OS without modification!<p>\n"
   ]
  },
  {
   "cell_type": "markdown",
   "id": "b6442c8e-7031-48bd-a7c5-a4f415d46f8f",
   "metadata": {},
   "source": [
    "<div style=\"background-color: lightgreen; color: black; padding: 4px;\">\n",
    "<h1>what can python do</h1>\n",
    "</div>"
   ]
  },
  {
   "cell_type": "markdown",
   "id": "ed360882-b801-4270-a189-fdfb81ddf7a3",
   "metadata": {},
   "source": [
    "<p>Python can be used on a server to create web applications.<p>\n",
    "<p>Python can be used alongside software to create workflows.<p>\n",
    "<p>Python can connect to database systems. It can also read and modify files.<p>\n",
    "<p>Python can be used to handle big data and perform complex mathematics.<p>\n"
   ]
  },
  {
   "cell_type": "markdown",
   "id": "2703f576-cb62-49d1-afce-df5099ea74fc",
   "metadata": {},
   "source": [
    "<div style=\"background-color: lightgreen; color: black; padding: 4px;\">\n",
    "<h1>Python Syntax compared to other programming languages</h1>\n",
    "</div>"
   ]
  },
  {
   "cell_type": "markdown",
   "id": "d4a5e44a-eb44-4414-8a2d-2d9085d8ae0c",
   "metadata": {},
   "source": [
    "<p>Python was designed for readability, and has some similarities to the English language with influence from mathematics.<p>\r",
    "<p>\n",
    "Python uses new lines to complete a command, as opposed to other programming languages which often use semicolons or parenthese.<p>\r\n",
    "Python relies on indentation, using whitespace, to define scope; such as the scope of loops, functions and classe. Other programming languag s often use curly-bracketsor this purpose.<p."
   ]
  },
  {
   "cell_type": "code",
   "execution_count": 2,
   "id": "3e2cc36e-e0df-4cf6-b8fd-2289f27055bb",
   "metadata": {},
   "outputs": [
    {
     "name": "stdout",
     "output_type": "stream",
     "text": [
      "Hello, World!\n"
     ]
    }
   ],
   "source": [
    "print(\"Hello, World!\")"
   ]
  },
  {
   "cell_type": "markdown",
   "id": "79dacbe5-fb66-4126-988f-de32939dce05",
   "metadata": {},
   "source": [
    "<div style=\"background-color: lightgreen; color: black; padding: 4px;\">\n",
    "<h1>Python Indentation</h1>\n",
    "</div>"
   ]
  },
  {
   "cell_type": "markdown",
   "id": "77ea117d-6e59-4f89-bd6b-7f92548d1fb9",
   "metadata": {},
   "source": [
    "<p>Indentation in Python is crucial because it defines the structure and flow of the code. Unlike other languages that use braces {} to define code blocks, Python uses indentation (whitespace) to group statements.<p>\n",
    "<p><h1>Indentation Rules in Python:</h1><p>\n",
    "<p>Consistent Indentation: Use spaces or tabs, but do not mix them.<p>\n",
    "<p>Standard Practice: Use 4 spaces per indentation level.<p>\n",
    "<p>Blocks of Code: Statements inside control structures (like if, for, while, def, class) must be idented<p>"
   ]
  },
  {
   "cell_type": "code",
   "execution_count": 4,
   "id": "474c5843-bc2e-4844-9349-5a1d718f2ce3",
   "metadata": {},
   "outputs": [
    {
     "name": "stdout",
     "output_type": "stream",
     "text": [
      "Five is greater than two!\n",
      "Five is greater than two!\n"
     ]
    }
   ],
   "source": [
    "if 5 > 2:\n",
    " print(\"Five is greater than two!\") \n",
    "if 5 > 2:\n",
    "        print(\"Five is greater than two!\") "
   ]
  },
  {
   "cell_type": "markdown",
   "id": "91f733d3-57a9-4e52-b8e5-ed3d0c7ce732",
   "metadata": {},
   "source": [
    "<div style=\"background-color: lightgreen; color: black; padding: 4px;\">\n",
    "<h1>Python Variables</h1>\n",
    "</div>\n",
    "<h3>Creating variable</h3>"
   ]
  },
  {
   "cell_type": "code",
   "execution_count": 6,
   "id": "da843d63-c0af-46e1-810d-74c821135fa9",
   "metadata": {},
   "outputs": [
    {
     "name": "stdout",
     "output_type": "stream",
     "text": [
      "5\n",
      "John\n"
     ]
    }
   ],
   "source": [
    "x = 5\n",
    "y = \"John\"\n",
    "print(x)\n",
    "print(y)"
   ]
  },
  {
   "cell_type": "markdown",
   "id": "9b60bf82-b816-4357-a675-2965b191dc8f",
   "metadata": {},
   "source": [
    "<h3>Casting</h3>\n",
    "<p>If you want to specify the data type of a variable, this can be done with casting<p>"
   ]
  },
  {
   "cell_type": "code",
   "execution_count": 7,
   "id": "89e8e962-32ac-4456-bd8c-3051670a47dc",
   "metadata": {},
   "outputs": [
    {
     "name": "stdout",
     "output_type": "stream",
     "text": [
      "3.0\n"
     ]
    }
   ],
   "source": [
    "x = str(3)    \n",
    "y = int(3)    \n",
    "z = float(3)\n",
    "print(z)"
   ]
  },
  {
   "cell_type": "markdown",
   "id": "d1596670-ffa6-4d95-b0f8-c70af0c46ea1",
   "metadata": {},
   "source": [
    "<h3>Get the Type</h3>\n",
    "<p>You can get the data type of a variable with the type() function.<p>"
   ]
  },
  {
   "cell_type": "code",
   "execution_count": 12,
   "id": "cd271c51-77a9-4f6c-ad86-53da62ead41f",
   "metadata": {},
   "outputs": [
    {
     "name": "stdout",
     "output_type": "stream",
     "text": [
      "<class 'int'>\n",
      "<class 'str'>\n"
     ]
    }
   ],
   "source": [
    "x = 5\r\n",
    "y = \"John\"\r\n",
    "print(type(x))\r\n",
    "print(type(y))"
   ]
  },
  {
   "cell_type": "markdown",
   "id": "a0688580-3fef-4e6b-a074-65aa2ef38615",
   "metadata": {},
   "source": [
    "<h3>Single or Double Quotes?</h3>\n",
    "<p>String variables can be declared either by using single or double quotes:<p>"
   ]
  },
  {
   "cell_type": "code",
   "execution_count": 13,
   "id": "7e7ac964-7513-43a8-92ee-e14afcb8014e",
   "metadata": {},
   "outputs": [],
   "source": [
    "x=\"john\"\n",
    "y='john'"
   ]
  },
  {
   "cell_type": "markdown",
   "id": "d8d43e7a-0227-4297-89e0-b67d2148f0be",
   "metadata": {},
   "source": [
    "<h3>Case-Sensitive</h3>\n",
    "<p>Variable names are case-sensitive.<p>"
   ]
  },
  {
   "cell_type": "code",
   "execution_count": 14,
   "id": "3f16fd1d-826d-4305-987a-677053e87a4e",
   "metadata": {},
   "outputs": [
    {
     "name": "stdout",
     "output_type": "stream",
     "text": [
      "4\n",
      "4\n"
     ]
    }
   ],
   "source": [
    "a=4\n",
    "A=4\n",
    "print(a)\n",
    "print(A)"
   ]
  },
  {
   "cell_type": "markdown",
   "id": "34242920-2f92-4f48-ba15-6a04da6826d5",
   "metadata": {},
   "source": [
    "<h2>Variable Names</h2>\n",
    "<p>A variable can have a short name (like x and y) or a more descriptive name (age, carname, total_volume).<p>\n",
    "\n",
    "<h3>Rules for Python variables:</h3>\n",
    "\n",
    "<p>A variable name must start with a letter or the underscore character<p>\n",
    "<p>A variable name cannot start with a number<p>\n",
    "<p>A variable name can only contain alpha-numeric characters and underscores (A-z, 0-9, and _ )<p>\n",
    "<p>Variable names are case-sensitive (age, Age and AGE are three different variables)<p>\n",
    "<p>A variable name cannot be any of the Python keywords.<p>\n"
   ]
  },
  {
   "cell_type": "code",
   "execution_count": 16,
   "id": "04f54f07-912b-4d0b-8732-09e7022976db",
   "metadata": {},
   "outputs": [],
   "source": [
    "myvar=8\n",
    "my_var=8\n",
    "_my_var=8\n",
    "myVar=8\n",
    "MYVAR = \"John\"\n",
    "myvar2 = \"John\""
   ]
  },
  {
   "cell_type": "markdown",
   "id": "2736cc41-d058-4c9d-a671-528ef75460b9",
   "metadata": {},
   "source": [
    "<h3>Multi Words Variable Names</h3>\n",
    "<p>Variable names with more than one word can be difficult to read.p>\n",
    "\n",
    "<p>There are several techniques you can use to make them more readable.<p>\n",
    "\n"
   ]
  },
  {
   "cell_type": "markdown",
   "id": "8b12d0b5-2cd9-4af8-9313-15f1e16f1b04",
   "metadata": {},
   "source": [
    "<h3>Camel Case</h3>\n",
    "<p>Each word, except the first, starts with a capital letter.<p>"
   ]
  },
  {
   "cell_type": "code",
   "execution_count": 17,
   "id": "6ffb436b-796c-42c7-a20a-2f54f1fd7502",
   "metadata": {},
   "outputs": [],
   "source": [
    "myVariableName = \"John\""
   ]
  },
  {
   "cell_type": "markdown",
   "id": "ca0a000b-bb94-4849-a289-028febf0fc08",
   "metadata": {},
   "source": [
    "<h3>Pascal Case</h3>\n",
    "<p>Each word starts with a capital letter.<p>"
   ]
  },
  {
   "cell_type": "code",
   "execution_count": 18,
   "id": "503f4337-7b08-43b5-8d59-e549632e811b",
   "metadata": {},
   "outputs": [],
   "source": [
    "MyVariableName = \"John\""
   ]
  },
  {
   "cell_type": "markdown",
   "id": "09151ddd-5777-442b-9fb3-94b753af61a0",
   "metadata": {},
   "source": [
    "<h3>Snake Case</h3>\n",
    "<p>Each word is separated by an underscore character.<p>"
   ]
  },
  {
   "cell_type": "code",
   "execution_count": 20,
   "id": "842f0e82-442d-4836-8871-94f68e795b7e",
   "metadata": {},
   "outputs": [],
   "source": [
    "my_variable_name = \"John\""
   ]
  },
  {
   "cell_type": "markdown",
   "id": "c28b36bb-423f-46fa-83d4-356808d47eba",
   "metadata": {},
   "source": [
    "<h2>Assign multiple values</h2>\n",
    "<p>Python allows you to assign values to multiple variables in one line.<p>"
   ]
  },
  {
   "cell_type": "code",
   "execution_count": 22,
   "id": "eb4d47d2-aa0e-4ed0-9f8e-f7506b4134e8",
   "metadata": {},
   "outputs": [
    {
     "name": "stdout",
     "output_type": "stream",
     "text": [
      "Orange\n",
      "Banana\n",
      "Cherry\n"
     ]
    }
   ],
   "source": [
    "x, y, z = \"Orange\", \"Banana\", \"Cherry\"\n",
    "print(x)\n",
    "print(y)\n",
    "print(z)"
   ]
  },
  {
   "cell_type": "markdown",
   "id": "fc6f3045-92cb-4b96-8829-ddc3849c4b87",
   "metadata": {},
   "source": [
    "<h3>One Value to Multiple Variables</h3>\n",
    "<p>And you can assign the same value to multiple variables in one line<p>"
   ]
  },
  {
   "cell_type": "code",
   "execution_count": 23,
   "id": "ccc5e656-e238-482e-a3a1-7706f1b5fc8f",
   "metadata": {},
   "outputs": [
    {
     "name": "stdout",
     "output_type": "stream",
     "text": [
      "Orange\n",
      "Orange\n",
      "Orange\n"
     ]
    }
   ],
   "source": [
    "x = y = z = \"Orange\"\n",
    "print(x)\n",
    "print(y)\n",
    "print(z)"
   ]
  },
  {
   "cell_type": "markdown",
   "id": "6416a336-ba21-40cf-a451-e2d2aa740da0",
   "metadata": {},
   "source": [
    "<h3>Unpack a Collection</h3>\n",
    "<p>If you have a collection of values in a list, tuple etc. Python allows you to extract the values into variables. This is called unpacking.<p>"
   ]
  },
  {
   "cell_type": "code",
   "execution_count": 24,
   "id": "7d0722ec-bf04-482f-8cd6-fe3a712c6402",
   "metadata": {},
   "outputs": [
    {
     "name": "stdout",
     "output_type": "stream",
     "text": [
      "apple\n",
      "banana\n",
      "cherry\n"
     ]
    }
   ],
   "source": [
    "fruits = [\"apple\", \"banana\", \"cherry\"]\n",
    "x, y, z = fruits\n",
    "print(x)\n",
    "print(y)\n",
    "print(z)\n"
   ]
  },
  {
   "cell_type": "markdown",
   "id": "f16c3bce-f6ae-4ecf-b9fd-364489b73bae",
   "metadata": {},
   "source": [
    "<h2>Output Variables</h2>\n",
    "<p>The Python print() function is often used to output variables.<p>"
   ]
  },
  {
   "cell_type": "code",
   "execution_count": 29,
   "id": "95875a46-3841-4ebc-a467-4e1ab2636358",
   "metadata": {},
   "outputs": [
    {
     "name": "stdout",
     "output_type": "stream",
     "text": [
      "Python is awesome\n"
     ]
    }
   ],
   "source": [
    "x = \"Python is awesome\"\n",
    "print(x)\n"
   ]
  },
  {
   "cell_type": "markdown",
   "id": "f09f08fd-1e2f-4b8e-b4b7-c7caaf181c17",
   "metadata": {},
   "source": [
    "<div style=\"background-color: lightgreen; color: black; padding: 4px;\">\n",
    "<h1>Python Data Types</h1>\n",
    "</div>\r\n"
   ]
  },
  {
   "cell_type": "markdown",
   "id": "d9eb4dea-8e1f-4185-926c-4b85f5a9394a",
   "metadata": {},
   "source": [
    "<h2>Built-in Data Types</h2>"
   ]
  },
  {
   "cell_type": "markdown",
   "id": "290db4b5-116a-4066-9ea5-d2417322e4c1",
   "metadata": {},
   "source": [
    "<p>In programming, data type is an important concept.<p>\n",
    "\n",
    "<p>Variables can store data of different types, and different types can do different things.<p>\n",
    "\n",
    "<p>Python has the following data types built-in by default, in these categories:<p>\n",
    "\n",
    "<p>Text Type:\tstr<p>\n",
    "<p>Numeric Types:\tint, float, complex<p>\n",
    "<p>Sequence Types:\tlist, tuple, range<p>\n",
    "<p>Mapping Type:\tdict<p>\n",
    "<p>Set Types:\tset, frozenset<p>\n",
    "<p>Boolean Type:\tbool<p>\n",
    "<p>Binary Types:\tbytes, bytearray, memoryview<p>\n",
    "<p>None Type:\tNoneType<p>\n"
   ]
  },
  {
   "cell_type": "markdown",
   "id": "5eaf0207-c73a-4180-a33a-080bdf878b54",
   "metadata": {},
   "source": [
    "<h3>Getting the Data Type</h3>\n",
    "<p>You can get the data type of any object by using the type() function:<p>"
   ]
  },
  {
   "cell_type": "code",
   "execution_count": 35,
   "id": "82b0c43d-753e-4fa4-9e68-f753d417269d",
   "metadata": {},
   "outputs": [
    {
     "name": "stdout",
     "output_type": "stream",
     "text": [
      "<class 'int'>\n"
     ]
    }
   ],
   "source": [
    "x = 5\n",
    "print(type(x))\n"
   ]
  },
  {
   "cell_type": "markdown",
   "id": "c9215941-9742-48cb-87fe-69572dbd1bde",
   "metadata": {},
   "source": [
    "<h3>Setting the Data Type</h3>\n",
    "<p>In Python, the data type is set when you assign a value to a variable:<p>\n",
    "\n"
   ]
  },
  {
   "cell_type": "code",
   "execution_count": 43,
   "id": "ecf9cce2-fe9c-4ccf-9e14-c19c8870333a",
   "metadata": {},
   "outputs": [
    {
     "name": "stdout",
     "output_type": "stream",
     "text": [
      "Hello World\n",
      "range(0, 6)\n"
     ]
    }
   ],
   "source": [
    "x = \"Hello World\"\t\n",
    "y = 20\t\n",
    "z = 20.5\t\t\n",
    "a = 1j\t\n",
    "b = [\"apple\", \"banana\", \"cherry\"]\t\t\n",
    "c = (\"apple\", \"banana\", \"cherry\")\t\n",
    "d = range(6)\t\n",
    "e = {\"name\" : \"John\", \"age\" : 36}\t\t\n",
    "f = {\"apple\", \"banana\", \"cherry\"}\t\n",
    "g = frozenset({\"apple\", \"banana\", \"cherry\"})\t\n",
    "h = True\t\n",
    "i = b\"Hello\"\t\t\n",
    "j = bytearray(5)\t\t\n",
    "k = memoryview(bytes(5))\t\n",
    "l = None\t\t\n",
    "print(x)\n",
    "print(d)\n"
   ]
  },
  {
   "cell_type": "markdown",
   "id": "24505fff-7f35-44c2-b577-998445226142",
   "metadata": {},
   "source": [
    "<div style=\"background-color: lightgreen; color: black; padding: 4px;\">\n",
    "<h1>Python Numbers</h1>\n",
    "</div>"
   ]
  },
  {
   "cell_type": "markdown",
   "id": "7fce9c50-03db-47e5-af02-043bcc6f83b1",
   "metadata": {},
   "source": [
    "<h3>There are three numeric types in Python:<p>\n",
    "<p>int<p>\n",
    "<p>float<p>\n",
    "<p>complex<p>\n",
    "<p>Variables of numeric types are created when you assign a value to them:<p></h3>\n",
    "\n"
   ]
  },
  {
   "cell_type": "code",
   "execution_count": null,
   "id": "c0072d67-9b12-4e9a-9689-1ba1413af931",
   "metadata": {},
   "outputs": [],
   "source": [
    "x = 1   \n",
    "y = 2.8  \n",
    "z = 1j"
   ]
  },
  {
   "cell_type": "markdown",
   "id": "10a066f5-bff1-45a0-adce-51ccb04919a5",
   "metadata": {},
   "source": [
    "<h3><p>To verify the type of any object in Python, use the type() function:<p></h3>"
   ]
  },
  {
   "cell_type": "code",
   "execution_count": null,
   "id": "657f18e6-9a6f-42f5-9bb3-eadb5927a687",
   "metadata": {},
   "outputs": [],
   "source": [
    "print(type(x))\n",
    "print(type(y))\n",
    "print(type(z))"
   ]
  },
  {
   "cell_type": "markdown",
   "id": "21eccafa-5253-4dc6-ad8e-de6c7bedd03c",
   "metadata": {},
   "source": [
    "<h2>Type Converssion</h2>\n",
    "<p>You can convert from one type to another with the int(), float(), and complex() methods:<p>\r\n",
    "\r\n"
   ]
  },
  {
   "cell_type": "code",
   "execution_count": 12,
   "id": "7adc222f-2691-4f58-b2b9-63e4f235daf2",
   "metadata": {},
   "outputs": [
    {
     "name": "stdout",
     "output_type": "stream",
     "text": [
      "1.0\n",
      "2\n",
      "1j\n"
     ]
    }
   ],
   "source": [
    "x = 1    \n",
    "y = 2.8  \n",
    "z = 1j\n",
    "a = float(x)\n",
    "print(a)\n",
    "y=int(y)\n",
    "print(y)\n",
    "c=complex(z)\n",
    "print(c)\n"
   ]
  },
  {
   "cell_type": "markdown",
   "id": "e9e423a8-3747-4786-8138-0559812cd708",
   "metadata": {},
   "source": [
    "<h2>Random Number</h2>"
   ]
  },
  {
   "cell_type": "markdown",
   "id": "ad2a9082-69c3-45d9-aeca-5425e764c07c",
   "metadata": {},
   "source": [
    "<p>Python does not have a random function to make a random number but python has a built in module called random that can be used to make a random  number.<p>"
   ]
  },
  {
   "cell_type": "code",
   "execution_count": 15,
   "id": "e2d074ee-632a-4f7a-8d9a-5695cde28071",
   "metadata": {},
   "outputs": [
    {
     "name": "stdout",
     "output_type": "stream",
     "text": [
      "86\n"
     ]
    }
   ],
   "source": [
    "#Import the random module, and display a random number from 1 to 9:\n",
    "import random\n",
    "print(random.randrange(1,100))"
   ]
  },
  {
   "cell_type": "markdown",
   "id": "7645476a-d192-42ae-8af3-8a2506bb8882",
   "metadata": {},
   "source": [
    "<div style=\"background-color: lightgreen; color: black; padding: 4px;\">\n",
    "<h1>Python String</h1>\n",
    "</div>"
   ]
  },
  {
   "cell_type": "markdown",
   "id": "de4f179f-4254-405d-a015-abd7435b4ba9",
   "metadata": {},
   "source": [
    "<p>Strings in python are surrounded by either single quotation marks, or double quotation marks.\n",
    "\n",
    "'hello' is the same as \"hello\".\n",
    "\n",
    "You can display a string literal with the print() function:<p>\n",
    "\n"
   ]
  },
  {
   "cell_type": "code",
   "execution_count": 16,
   "id": "de03dda3-63cb-4579-9312-f8fbbffe72aa",
   "metadata": {},
   "outputs": [
    {
     "name": "stdout",
     "output_type": "stream",
     "text": [
      "hello\n",
      "hello\n"
     ]
    }
   ],
   "source": [
    "print(\"hello\")\n",
    "print('hello')"
   ]
  },
  {
   "cell_type": "markdown",
   "id": "bb504754-1ccb-4862-8c94-13b955dcbed9",
   "metadata": {},
   "source": [
    "<h2>Assign String to a Variable</h2>"
   ]
  },
  {
   "cell_type": "markdown",
   "id": "f03884da-e095-4a83-bda7-1002f8f9b081",
   "metadata": {},
   "source": [
    "<p>Assigning a string to a variable is done with the variable name followed by an equal sign and the string:<p>\n",
    "\n"
   ]
  },
  {
   "cell_type": "code",
   "execution_count": 18,
   "id": "31052823-d6a2-466d-b889-11f75ed68e74",
   "metadata": {},
   "outputs": [
    {
     "name": "stdout",
     "output_type": "stream",
     "text": [
      "hello\n"
     ]
    }
   ],
   "source": [
    "a=\"hello\"\n",
    "print(a)"
   ]
  },
  {
   "cell_type": "markdown",
   "id": "b2927b63-9736-4c18-b7ee-5015918ff673",
   "metadata": {},
   "source": [
    "<h2>Multiline Strings</h2>"
   ]
  },
  {
   "cell_type": "markdown",
   "id": "8b168cf2-ca6a-4511-b709-a7339be0010c",
   "metadata": {},
   "source": [
    "<p>You can assign a multiline string to a variable by using three quotes:<p>\n",
    "\n"
   ]
  },
  {
   "cell_type": "code",
   "execution_count": 19,
   "id": "d11a70ee-793c-4551-a6c2-363f64184bd4",
   "metadata": {},
   "outputs": [
    {
     "name": "stdout",
     "output_type": "stream",
     "text": [
      "Lorem ipsum dolor sit amet,\n",
      "consectetur adipiscing elit,\n",
      "sed do eiusmod tempor incididunt\n",
      "ut labore et dolore magna aliqua.\n"
     ]
    }
   ],
   "source": [
    "a = \"\"\"Lorem ipsum dolor sit amet,\n",
    "consectetur adipiscing elit,\n",
    "sed do eiusmod tempor incididunt\n",
    "ut labore et dolore magna aliqua.\"\"\"\n",
    "print(a)\n"
   ]
  },
  {
   "cell_type": "code",
   "execution_count": 20,
   "id": "e17e4572-bd74-496b-a9a5-fec8b563addb",
   "metadata": {},
   "outputs": [
    {
     "name": "stdout",
     "output_type": "stream",
     "text": [
      "Lorem ipsum dolor sit amet,\n",
      "consectetur adipiscing elit,\n",
      "sed do eiusmod tempor incididunt\n",
      "ut labore et dolore magna aliqua.\n"
     ]
    }
   ],
   "source": [
    "a=a = '''Lorem ipsum dolor sit amet,\n",
    "consectetur adipiscing elit,\n",
    "sed do eiusmod tempor incididunt\n",
    "ut labore et dolore magna aliqua.'''\n",
    "print(a)\n"
   ]
  },
  {
   "cell_type": "markdown",
   "id": "d30da35b-e5f4-4bb4-b15f-2b47f563d81a",
   "metadata": {},
   "source": [
    "<h2>Strings are Arrays</h2>"
   ]
  },
  {
   "cell_type": "code",
   "execution_count": 21,
   "id": "e8b8596e-56a4-43f1-8233-c3fb86380534",
   "metadata": {},
   "outputs": [
    {
     "name": "stdout",
     "output_type": "stream",
     "text": [
      "e\n"
     ]
    }
   ],
   "source": [
    "a=\"hello world!\"\n",
    "print(a[1])"
   ]
  },
  {
   "cell_type": "markdown",
   "id": "4f54df3f-b210-4093-b7ed-498fa7fb3263",
   "metadata": {},
   "source": [
    "<h2>String length</h2>"
   ]
  },
  {
   "cell_type": "code",
   "execution_count": 22,
   "id": "33e952a6-f672-46c2-ba46-e7f44b3a7897",
   "metadata": {},
   "outputs": [
    {
     "name": "stdout",
     "output_type": "stream",
     "text": [
      "13\n"
     ]
    }
   ],
   "source": [
    "a = \"Hello, World!\"\n",
    "print(len(a))"
   ]
  },
  {
   "cell_type": "markdown",
   "id": "97ab5583-6119-4abf-be49-aa8ce3a7252c",
   "metadata": {},
   "source": [
    "<h2>check string</h2>\n",
    "<p>To check if a certain phrase or character is present in a string, we can use the keyword in.<p>"
   ]
  },
  {
   "cell_type": "code",
   "execution_count": 24,
   "id": "9f79824b-fbdf-48b4-b8f6-dc20536822a3",
   "metadata": {},
   "outputs": [
    {
     "name": "stdout",
     "output_type": "stream",
     "text": [
      "True\n"
     ]
    }
   ],
   "source": [
    "string=\"The best things in life are free!\"\n",
    "print(\"life\" in string)\n"
   ]
  },
  {
   "cell_type": "markdown",
   "id": "3877cea1-91be-4f19-905b-21614a9a92db",
   "metadata": {},
   "source": [
    "<h2>Slicing String</h2>"
   ]
  },
  {
   "cell_type": "markdown",
   "id": "cd0a8a3d-a3d1-49cb-8402-6adb11fa3ef0",
   "metadata": {},
   "source": [
    "<p>You can return a range of characters by using the slice syntax.\n",
    "\n",
    "Specify the start index and the end index, separated by a colon, to return a part of the string<p>\n",
    "\n"
   ]
  },
  {
   "cell_type": "code",
   "execution_count": 25,
   "id": "b69f5498-72d9-40a3-babb-fa3b05ff39ad",
   "metadata": {},
   "outputs": [
    {
     "name": "stdout",
     "output_type": "stream",
     "text": [
      "llo\n"
     ]
    }
   ],
   "source": [
    "a=\"hello world\"\n",
    "print(a[2:5])"
   ]
  },
  {
   "cell_type": "code",
   "execution_count": 26,
   "id": "7845691f-91bd-4611-9f5c-1410d71e262a",
   "metadata": {},
   "outputs": [
    {
     "name": "stdout",
     "output_type": "stream",
     "text": [
      "Hello\n"
     ]
    }
   ],
   "source": [
    "b = \"Hello, World!\"\n",
    "print(b[:5])"
   ]
  },
  {
   "cell_type": "markdown",
   "id": "ba3632d1-4bbe-4776-a353-08a16853fcfb",
   "metadata": {},
   "source": [
    "b = \"Hello, World!\"\n",
    "print(b[2:])"
   ]
  },
  {
   "cell_type": "markdown",
   "id": "57555d9c-5786-43d5-9405-8e6ad6af5674",
   "metadata": {},
   "source": [
    "<h2>Negative Indexing</h2>"
   ]
  },
  {
   "cell_type": "code",
   "execution_count": 28,
   "id": "1ee6feff-fd7a-4a78-8bc0-2a003a61a32a",
   "metadata": {},
   "outputs": [
    {
     "name": "stdout",
     "output_type": "stream",
     "text": [
      "orl\n"
     ]
    }
   ],
   "source": [
    "b = \"Hello, World!\"\n",
    "print(b[-5:-2])\n"
   ]
  },
  {
   "cell_type": "markdown",
   "id": "9da8eed3-e113-483d-88e5-496dfea6eb83",
   "metadata": {},
   "source": [
    "<h2>Python-Modify String<h2>\r\n"
   ]
  },
  {
   "cell_type": "markdown",
   "id": "98774c8c-8933-4f2b-8cda-d265702f1a4a",
   "metadata": {},
   "source": [
    "<p>Python has a set of built-in methods that you can use on strings.<p>\n",
    "\n"
   ]
  },
  {
   "cell_type": "markdown",
   "id": "ab04b8d8-8f4c-44b2-913b-82539b2b51d7",
   "metadata": {},
   "source": [
    "<h3>Upper Case</h3>"
   ]
  },
  {
   "cell_type": "code",
   "execution_count": 31,
   "id": "38809477-4fbc-48ff-9e4a-7aa343c82efb",
   "metadata": {},
   "outputs": [
    {
     "name": "stdout",
     "output_type": "stream",
     "text": [
      "HELLO WORLD\n"
     ]
    }
   ],
   "source": [
    "a=\"hello world\"\n",
    "print(a.upper())"
   ]
  },
  {
   "cell_type": "markdown",
   "id": "7ba5b016-8ff9-409d-8179-311724e5f829",
   "metadata": {},
   "source": [
    "<h2>Lower Case</h2>"
   ]
  },
  {
   "cell_type": "code",
   "execution_count": 32,
   "id": "38b23de1-58b0-4a5c-8a16-ed000d6af285",
   "metadata": {},
   "outputs": [
    {
     "name": "stdout",
     "output_type": "stream",
     "text": [
      "hello world\n"
     ]
    }
   ],
   "source": [
    "a=\"hello world\"\n",
    "print(a.lower())"
   ]
  },
  {
   "cell_type": "markdown",
   "id": "a4f567eb-1688-4d8d-bd21-f670819a0074",
   "metadata": {},
   "source": [
    "<h2>Remove Whitespace</h2>"
   ]
  },
  {
   "cell_type": "code",
   "execution_count": 34,
   "id": "8cf8c121-aa73-4363-8470-7667d7becb34",
   "metadata": {},
   "outputs": [
    {
     "name": "stdout",
     "output_type": "stream",
     "text": [
      "hello world\n"
     ]
    }
   ],
   "source": [
    "a=\"  hello world  \"\n",
    "print(a.strip())"
   ]
  },
  {
   "cell_type": "markdown",
   "id": "97d4f9ff-1d69-438b-a664-e44b116d9fa8",
   "metadata": {},
   "source": [
    "<h2>Repalce string</h2>"
   ]
  },
  {
   "cell_type": "code",
   "execution_count": 36,
   "id": "7cfc4975-d8de-4249-96a4-64effe56f6f7",
   "metadata": {},
   "outputs": [
    {
     "name": "stdout",
     "output_type": "stream",
     "text": [
      "hello korld\n"
     ]
    }
   ],
   "source": [
    "a=\"hello world\"\n",
    "print(a.replace(\"w\",\"k\"))"
   ]
  },
  {
   "cell_type": "markdown",
   "id": "8cd08687-a84b-4ba3-9ca1-9a14fe76cd80",
   "metadata": {},
   "source": [
    "<h2>Split String</h2>"
   ]
  },
  {
   "cell_type": "code",
   "execution_count": 38,
   "id": "c16c7555-49a9-4450-bd6d-e30f44c1b196",
   "metadata": {},
   "outputs": [
    {
     "name": "stdout",
     "output_type": "stream",
     "text": [
      "['hello', 'world']\n"
     ]
    }
   ],
   "source": [
    "a=\"hello,world\"\n",
    "print(a.split(\",\"))"
   ]
  },
  {
   "cell_type": "markdown",
   "id": "59ea1a5e-6777-441e-aac4-0f52ae9a4220",
   "metadata": {},
   "source": [
    "<h2>Concatenate String</h2>"
   ]
  },
  {
   "cell_type": "markdown",
   "id": "753a3a7b-4cf7-451a-b795-74639c2e080b",
   "metadata": {},
   "source": [
    "<p>To concatenate, or combine, two strings you can use the + operator<p>"
   ]
  },
  {
   "cell_type": "code",
   "execution_count": 41,
   "id": "1006e5a3-ab4d-4f9c-be09-9c9a0c37a5b4",
   "metadata": {},
   "outputs": [
    {
     "name": "stdout",
     "output_type": "stream",
     "text": [
      "helloworld\n"
     ]
    }
   ],
   "source": [
    "a=\"hello\"\n",
    "b=\"world\"\n",
    "c=a+b\n",
    "print(c)"
   ]
  },
  {
   "cell_type": "markdown",
   "id": "c98a41b9-0e80-41f6-906c-2c81df4cc03e",
   "metadata": {},
   "source": [
    "<h2>Format String</h2>"
   ]
  },
  {
   "cell_type": "markdown",
   "id": "47fb6eeb-0032-4200-8aca-78fa453d796f",
   "metadata": {},
   "source": [
    "<p>As we learned in the Python Variables chapter, we cannot combine strings and numbers like this:<p>\n",
    "\n"
   ]
  },
  {
   "cell_type": "code",
   "execution_count": 43,
   "id": "1cff77e3-a267-4b93-98bc-19347ee85302",
   "metadata": {},
   "outputs": [
    {
     "ename": "TypeError",
     "evalue": "can only concatenate str (not \"int\") to str",
     "output_type": "error",
     "traceback": [
      "\u001b[1;31m---------------------------------------------------------------------------\u001b[0m",
      "\u001b[1;31mTypeError\u001b[0m                                 Traceback (most recent call last)",
      "Cell \u001b[1;32mIn[43], line 2\u001b[0m\n\u001b[0;32m      1\u001b[0m age\u001b[38;5;241m=\u001b[39m\u001b[38;5;241m36\u001b[39m\n\u001b[1;32m----> 2\u001b[0m txt\u001b[38;5;241m=\u001b[39m\u001b[38;5;124;43m\"\u001b[39;49m\u001b[38;5;124;43mmy name is suhana,i am\u001b[39;49m\u001b[38;5;124;43m\"\u001b[39;49m\u001b[38;5;241;43m+\u001b[39;49m\u001b[43mage\u001b[49m\n\u001b[0;32m      3\u001b[0m \u001b[38;5;28mprint\u001b[39m(txt)\n",
      "\u001b[1;31mTypeError\u001b[0m: can only concatenate str (not \"int\") to str"
     ]
    }
   ],
   "source": [
    "age=36\n",
    "txt=\"my name is suhana,i am\"+age\n",
    "print(txt)\n"
   ]
  },
  {
   "cell_type": "markdown",
   "id": "d06f041e-b3da-4799-b73d-b1751c4b2ae1",
   "metadata": {},
   "source": [
    "<p>But we can combine strings and numbers by using f-strings or the format() method!<p>"
   ]
  },
  {
   "cell_type": "markdown",
   "id": "52c761ea-3f3d-4b7c-813e-3bb1c9323ee7",
   "metadata": {},
   "source": [
    "<h2>f-String</h2>"
   ]
  },
  {
   "cell_type": "markdown",
   "id": "3e708fc8-8afe-412b-9427-5458388920ce",
   "metadata": {},
   "source": [
    "<p>F-String was introduced in Python 3.6, and is now the preferred way of formatting strings.\n",
    "\n",
    "To specify a string as an f-string, simply put an f in front of the string literal, and add curly brackets {} as placeholders for variables and other operations<p>"
   ]
  },
  {
   "cell_type": "code",
   "execution_count": 48,
   "id": "f47ac9e8-8e17-4720-92fa-f39033e22d32",
   "metadata": {},
   "outputs": [
    {
     "name": "stdout",
     "output_type": "stream",
     "text": [
      "my name is suhana,i am 8\n"
     ]
    }
   ],
   "source": [
    "age=8\n",
    "txt=f\"my name is suhana,i am {age}\"\n",
    "print(txt)"
   ]
  },
  {
   "cell_type": "markdown",
   "id": "5cf16e36-ccd7-4bec-b5c6-0f896ee4adb1",
   "metadata": {},
   "source": [
    "<p>A modifier is included by adding a colon : followed by a legal formatting type, like .2f which means fixed point number with 2 decimals:<p>\n",
    "\n"
   ]
  },
  {
   "cell_type": "code",
   "execution_count": 51,
   "id": "953c3101-5e09-415a-909e-5d4c8db92a36",
   "metadata": {},
   "outputs": [
    {
     "name": "stdout",
     "output_type": "stream",
     "text": [
      "The price is 59.00 dollars\n",
      "the price is1180dollars\n"
     ]
    }
   ],
   "source": [
    "price = 59\n",
    "txt = f\"The price is {price:.2f} dollars\"\n",
    "print(txt)\n",
    "txt=f\"the price is{20*59}dollars\"\n",
    "print(txt)"
   ]
  },
  {
   "cell_type": "markdown",
   "id": "ba363b84-9ba1-439a-a9dc-474921e8ca32",
   "metadata": {},
   "source": [
    "<div style=\"background-color: lightblue; color: white; padding: 10px; text-align: center;\">\n",
    "    <h1>_________________________________END________________________________\n",
    "<!--- Devashish Kumar | Tech Skills Trainer | CodroidHub Private Limited | AI/ML Consultant --->\n",
    "    </h1> </div>"
   ]
  },
  {
   "cell_type": "markdown",
   "id": "7bbff100-1dd7-48ea-a853-505710308de6",
   "metadata": {},
   "source": [
    "<div style=\"background-color: #002147; color: #fff; padding: 30px; text-align: center;\">\n",
    "    <h1>THANK YOU!\n",
    "        <!--- Devashish Kumar | Tech Skills Trainer | CodroidHub Private Limited | AI/ML Consultant --->\n",
    "</h1> </div>"
   ]
  },
  {
   "cell_type": "markdown",
   "id": "6675f87e-1df9-4164-8515-8c971ae8b1ce",
   "metadata": {},
   "source": [
    "<h2 style=\"background-color: #ffe4e1; color: #2f4f4f; padding: 10px; border-radius: 10px; width: 350px; text-align: center; float: right; margin: 20px 0;\">\n",
    "    suhana<br>\n",
    "    <span style=\"font-size: 12px; color: #696969;\">\n",
    "       AIML Trainee | CodroidHub Private Limited | AI/ML bootcamp\n",
    "    </span>\n",
    "</h2>"
   ]
  }
 ],
 "metadata": {
  "kernelspec": {
   "display_name": "Python 3 (ipykernel)",
   "language": "python",
   "name": "python3"
  },
  "language_info": {
   "codemirror_mode": {
    "name": "ipython",
    "version": 3
   },
   "file_extension": ".py",
   "mimetype": "text/x-python",
   "name": "python",
   "nbconvert_exporter": "python",
   "pygments_lexer": "ipython3",
   "version": "3.12.4"
  }
 },
 "nbformat": 4,
 "nbformat_minor": 5
}
