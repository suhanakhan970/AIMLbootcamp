{
 "cells": [
  {
   "cell_type": "markdown",
   "id": "9f8e257c-a01f-4ad7-95c6-955088f01222",
   "metadata": {},
   "source": [
    "<div style=\"background-color: #add8e6; padding: 10px; height: 70px; border-radius: 15px;\">\n",
    "    <div style=\"font-family: 'Georgia', serif; font-size: 20px; padding: 10px; text-align: right; position: absolute; right: 20px;\">\n",
    "        Suhana <br>\n",
    "        <span style=\"font-family: 'Arial', sans-serif;font-size: 12px; color: #0a0a0a;\">AIML Trainee | AI/ML bootcamp</span> <!--- Suhana | CodroidHub Private Limited | AI/ML Consultant --->\n",
    "    </div>\n",
    "</div>"
   ]
  },
  {
   "cell_type": "markdown",
   "id": "2f241f8a-06ed-428c-803c-f6dba4ac8518",
   "metadata": {},
   "source": [
    "<div style=\"background-color: #002147; padding: 10px; text-align: center; color: white; font-size: 32px; font-family: 'Arial', sans-serif;\">\n",
    "    python Documentation <br>\n",
    "    <h3 style=\"text-align: center; color: white; font-size: 15px; font-family: 'Arial', sans-serif;\">Python Match\r\n",
    "</h>\n",
    "</div>"
   ]
  },
  {
   "cell_type": "markdown",
   "id": "d8969de8-6824-4800-b05d-f578807a89ef",
   "metadata": {},
   "source": [
    "<div style=\"background-color: lightgreen; color: black; padding: 4px;\">\n",
    "    <h1>Python Match\n",
    "</h1> </div>"
   ]
  },
  {
   "cell_type": "markdown",
   "id": "c5f447ad-a950-4cbc-a37a-30b10d7abfb5",
   "metadata": {},
   "source": [
    "<h3><p>The match statement is used to perform different actions based on different conditions.<p></h3>\n",
    "\n"
   ]
  },
  {
   "cell_type": "markdown",
   "id": "60355784-4713-4f22-be05-696e4d6baf5b",
   "metadata": {},
   "source": [
    "<div style=\"background-color: lightgreen; color: black; padding: 4px;\">\n",
    "    <h1>The Python Match Statement\n",
    "</h1> </div>"
   ]
  },
  {
   "cell_type": "markdown",
   "id": "e31491cc-2f0b-4c42-948a-1d45e7613549",
   "metadata": {},
   "source": [
    "<h3><p>Instead of writing many if..else statements, you can use the match statement.<p>\n",
    "\n",
    "<p>The match statement selects one of many code blocks to be executed.<p></h3>\n",
    "\n"
   ]
  },
  {
   "cell_type": "code",
   "execution_count": null,
   "id": "97340ca0-414e-488a-b79f-1b9e2bb8edbe",
   "metadata": {},
   "outputs": [],
   "source": [
    "match expression:\n",
    "case x:\n",
    "    code blocks\n",
    "case y:\n",
    "    code blocks\n",
    "case z:\n",
    "    code blocks\n",
    "    "
   ]
  },
  {
   "cell_type": "markdown",
   "id": "d72f3b95-6b17-4d3c-8430-60fb614ee410",
   "metadata": {},
   "source": [
    "<h3><p>This is how it works:<p></h3>\n",
    "<p>The match expression is evaluated once.<p>\n",
    "<p>The value of the expression is compared with the values of each case.<p>\n",
    "<p>If there is a match, the associated block of code is executed.<p>\n"
   ]
  },
  {
   "cell_type": "code",
   "execution_count": 2,
   "id": "11f6623d-68cf-4fa6-8962-35c306d1efed",
   "metadata": {},
   "outputs": [
    {
     "name": "stdout",
     "output_type": "stream",
     "text": [
      "Thursday\n"
     ]
    }
   ],
   "source": [
    "day = 4\n",
    "match day:\n",
    "  case 1:\n",
    "    print(\"Monday\")\n",
    "  case 2:\n",
    "    print(\"Tuesday\")\n",
    "  case 3:\n",
    "    print(\"Wednesday\")\n",
    "  case 4:\n",
    "    print(\"Thursday\")\n",
    "  case 5:\n",
    "    print(\"Friday\")\n",
    "  case 6:\n",
    "    print(\"Saturday\")\n",
    "  case 7:\n",
    "    print(\"Sunday\")"
   ]
  },
  {
   "cell_type": "markdown",
   "id": "89319925-cb48-43fd-9385-07015f05317b",
   "metadata": {},
   "source": [
    "<div style=\"background-color: lightgreen; color: black; padding: 4px;\">\n",
    "    <h1>Default Value\n",
    "</h1> </div>"
   ]
  },
  {
   "cell_type": "markdown",
   "id": "fafe946f-2cbe-4c28-946c-0eacfc324a37",
   "metadata": {},
   "source": [
    "\n",
    "Use the underscore character _ as the last case value if you want a code block to execute when there are not other matches:"
   ]
  },
  {
   "cell_type": "code",
   "execution_count": 4,
   "id": "e55c6f31-af79-458a-8d46-9f25b2dbf536",
   "metadata": {},
   "outputs": [
    {
     "name": "stdout",
     "output_type": "stream",
     "text": [
      "Looking forward to the Weekend\n"
     ]
    }
   ],
   "source": [
    "day = 4\n",
    "match day:\n",
    "  case 6:\n",
    "    print(\"Today is Saturday\")\n",
    "  case 7:\n",
    "    print(\"Today is Sunday\")\n",
    "  case _:\n",
    "    print(\"Looking forward to the Weekend\")"
   ]
  },
  {
   "cell_type": "markdown",
   "id": "89a5d8d0-67bc-4e34-80e9-a57b4c350b7a",
   "metadata": {},
   "source": [
    "<div style=\"background-color: lightgreen; color: black; padding: 4px;\">\n",
    "    <h1>Combines Values\n",
    "</h1> </div>"
   ]
  },
  {
   "cell_type": "markdown",
   "id": "07af310e-4f17-43e6-a26a-3bcece1bc38c",
   "metadata": {},
   "source": [
    "Use the pipe character | as an or operator in the case evaluation to check for more than one value match in one case:"
   ]
  },
  {
   "cell_type": "code",
   "execution_count": 6,
   "id": "83131a69-f0c6-4bbf-ba51-5df037f341b3",
   "metadata": {},
   "outputs": [
    {
     "name": "stdout",
     "output_type": "stream",
     "text": [
      "I love weekends!\n"
     ]
    }
   ],
   "source": [
    "day = 7\n",
    "match day:\n",
    "  case 1 | 2 | 3 | 4 | 5:\n",
    "    print(\"Today is a weekday\")\n",
    "  case 6 | 7:\n",
    "    print(\"I love weekends!\")"
   ]
  },
  {
   "cell_type": "markdown",
   "id": "7edf2fa3-717f-4d7c-9977-8a1aed1cd84a",
   "metadata": {},
   "source": [
    "<div style=\"background-color: lightgreen; color: black; padding: 4px;\">\n",
    "    <h1>If Statements as Guards\n",
    "</h1> </div>"
   ]
  },
  {
   "cell_type": "markdown",
   "id": "01c10b9a-3498-4b74-8ede-deee18779137",
   "metadata": {},
   "source": [
    "\n",
    "You can add if statements in the case evaluation as an extra condition-check:"
   ]
  },
  {
   "cell_type": "code",
   "execution_count": 7,
   "id": "138d5172-95ee-49fc-affc-e15d858536f6",
   "metadata": {},
   "outputs": [
    {
     "name": "stdout",
     "output_type": "stream",
     "text": [
      "A weekday in May\n"
     ]
    }
   ],
   "source": [
    "month = 5\n",
    "day = 4\n",
    "match day:\n",
    "  case 1 | 2 | 3 | 4 | 5 if month == 4:\n",
    "    print(\"A weekday in April\")\n",
    "  case 1 | 2 | 3 | 4 | 5 if month == 5:\n",
    "    print(\"A weekday in May\")\n",
    "  case _:\n",
    "    print(\"No match\")"
   ]
  },
  {
   "cell_type": "markdown",
   "id": "f045d25b-9880-4a89-b444-a126eebcf12e",
   "metadata": {},
   "source": [
    "# Interview Question"
   ]
  },
  {
   "cell_type": "markdown",
   "id": "c6197031-5e1d-4f76-aaf1-15c7a06534dd",
   "metadata": {},
   "source": [
    "1. What is the syntax of an if-else statement in Python?\n",
    "\n",
    "2. What will be the output of the following code?\n",
    "3. Can you write a Python program to check if a number is even or odd?\n",
    "\n",
    "4. What happens if you forget the indentation in an if block?\n",
    "\n",
    "5. What is the difference between = and == in Python?\n",
    "6. Write a Python function that takes a number as input and returns whether it's positive, negative, or zero.\n",
    "\n",
    "7. What is the purpose of elif in Python? Can you give an example?\n",
    "\n",
    "8. What will be the output of the following code."
   ]
  },
  {
   "cell_type": "markdown",
   "id": "954a0a2e-c312-4d73-918d-85b8f42268b1",
   "metadata": {},
   "source": [
    "<div style=\"background-color: lightblue; color: white; padding: 10px; text-align: center;\">\n",
    "    <h1>_________________________________END________________________________\n",
    "<!--- Devashish Kumar | Tech Skills Trainer | CodroidHub Private Limited | AI/ML Consultant --->\n",
    "    </h1> </div>"
   ]
  },
  {
   "cell_type": "markdown",
   "id": "6e187d87-02ce-443e-8b32-023dc6ae10bb",
   "metadata": {},
   "source": [
    "<div style=\"background-color: #002147; color: #fff; padding: 30px; text-align: center;\">\n",
    "    <h1>THANK YOU!\n",
    "        <!--- Devashish Kumar | Tech Skills Trainer | CodroidHub Private Limited | AI/ML Consultant --->\n",
    "</h1> </div>"
   ]
  },
  {
   "cell_type": "code",
   "execution_count": null,
   "id": "afac3514-6c03-4ee0-9c80-3ac857cd8c77",
   "metadata": {},
   "outputs": [],
   "source": []
  }
 ],
 "metadata": {
  "kernelspec": {
   "display_name": "Python 3 (ipykernel)",
   "language": "python",
   "name": "python3"
  },
  "language_info": {
   "codemirror_mode": {
    "name": "ipython",
    "version": 3
   },
   "file_extension": ".py",
   "mimetype": "text/x-python",
   "name": "python",
   "nbconvert_exporter": "python",
   "pygments_lexer": "ipython3",
   "version": "3.12.4"
  }
 },
 "nbformat": 4,
 "nbformat_minor": 5
}
