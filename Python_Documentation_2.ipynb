{
 "cells": [
  {
   "cell_type": "markdown",
   "id": "8c4bc666-34a1-47b6-8018-1ad79dafae95",
   "metadata": {},
   "source": [
    "<div style=\"background-color: lightgreen; color: black; padding: 4px;\">"
   ]
  },
  {
   "cell_type": "markdown",
   "id": "ef444d2e-97e9-49a8-bf3d-0119a2dfebb5",
   "metadata": {},
   "source": [
    "<!--- Devashish Kumar | Tech Skills Trainer | CodroidHub Private Limited | AI/ML Consultant --->"
   ]
  },
  {
   "cell_type": "markdown",
   "id": "151ad3d8-0bce-4e29-86da-5ea91b5a69df",
   "metadata": {},
   "source": [
    "<div style=\"background-color: #002147; padding: 10px; text-align: center; color: white; font-size: 32px; font-family: 'Arial', sans-serif;\">\n",
    "    python Documentation <br>\n",
    "    <h3 style=\"text-align: center; color: white; font-size: 15px; font-family: 'Arial', sans-serif;\">Python Booleans</h3>\n",
    "</div>"
   ]
  },
  {
   "cell_type": "markdown",
   "id": "53ec8637",
   "metadata": {},
   "source": [
    "<div style=\"background-color: lightgreen; color: black; padding: 4px;\">\n",
    "    <h1>Boolean Values\n",
    "</h1> </div>"
   ]
  },
  {
   "cell_type": "markdown",
   "id": "a620b4e6-6481-4e55-8804-fd226d0f2725",
   "metadata": {},
   "source": [
    "<h3><p>In programming you often need to know if an expression is True or False.<p>\n",
    "\n",
    "<p>You can evaluate any expression in Python, and get one of two answers, True or False.<p>\n",
    "\n",
    "<p>When you compare two values, the expression is evaluated and Python returns the Boolean answer<p></h3>"
   ]
  },
  {
   "cell_type": "code",
   "execution_count": 2,
   "id": "fa404ad5-ec17-40f0-a7d6-8d763133aef2",
   "metadata": {},
   "outputs": [
    {
     "name": "stdout",
     "output_type": "stream",
     "text": [
      "True\n",
      "False\n",
      "False\n"
     ]
    }
   ],
   "source": [
    "#example\n",
    "print(10 > 9)\n",
    "print(10 == 9)\n",
    "print(10 < 9)"
   ]
  },
  {
   "cell_type": "code",
   "execution_count": 3,
   "id": "df0e87db-3f04-4b09-945b-0f6e75dd3f86",
   "metadata": {},
   "outputs": [
    {
     "name": "stdout",
     "output_type": "stream",
     "text": [
      "b is not greater than a\n"
     ]
    }
   ],
   "source": [
    "a = 200\n",
    "b = 33\n",
    "\n",
    "if b > a:\n",
    "  print(\"b is greater than a\")\n",
    "else:\n",
    "  print(\"b is not greater than a\")\n"
   ]
  },
  {
   "cell_type": "markdown",
   "id": "1c762cd6-ee35-4e4e-aa54-600db6a9c23d",
   "metadata": {},
   "source": [
    "<div style=\"background-color: lightblue; color: black; padding: 4px;\">\n",
    "    <h1> Evaluate Values and Variables\n",
    "</h1> </div>"
   ]
  },
  {
   "cell_type": "markdown",
   "id": "48a0ca80-ecd6-4c84-a4a1-fac4bca6a262",
   "metadata": {},
   "source": [
    "<h3><p>The bool() function allows you to evaluate any value, and give you True or False in return,<p></h3>"
   ]
  },
  {
   "cell_type": "code",
   "execution_count": 5,
   "id": "45a16770-0c2f-4675-b322-3cf93639707c",
   "metadata": {},
   "outputs": [
    {
     "name": "stdout",
     "output_type": "stream",
     "text": [
      "True\n",
      "True\n"
     ]
    }
   ],
   "source": [
    "print(bool(\"Hello\"))\n",
    "print(bool(15))\n"
   ]
  },
  {
   "cell_type": "code",
   "execution_count": 6,
   "id": "d401742d-0e11-4ea1-adac-bc1560762367",
   "metadata": {},
   "outputs": [
    {
     "name": "stdout",
     "output_type": "stream",
     "text": [
      "True\n",
      "True\n"
     ]
    }
   ],
   "source": [
    "x = \"Hello\"\n",
    "y = 15\n",
    "\n",
    "print(bool(x))\n",
    "print(bool(y))\n"
   ]
  },
  {
   "cell_type": "markdown",
   "id": "c3436a3c-579e-4561-a31a-c09d957ab356",
   "metadata": {},
   "source": [
    "<div style=\"background-color: lightblue; color: black; padding: 4px;\">\n",
    "    <h1> Most Values are True\n",
    "</h1> </div>"
   ]
  },
  {
   "cell_type": "markdown",
   "id": "c52ce56b-c238-44d6-a2e7-b529302bee6f",
   "metadata": {},
   "source": [
    "<h3><p>Almost any value is evaluated to True if it has some sort of content.<p>\n",
    "\n",
    "<p>Any string is True, except empty strings.<p>\n",
    "\n",
    "<p>Any number is True, except 0.<p>\n",
    "\n",
    "<p>Any list, tuple, set, and dictionary are True, except empty ones.<p></h3>\n",
    "\n"
   ]
  },
  {
   "cell_type": "code",
   "execution_count": 9,
   "id": "6ab0bf15-ab13-4d49-9186-70b8d423f61b",
   "metadata": {},
   "outputs": [
    {
     "data": {
      "text/plain": [
       "True"
      ]
     },
     "execution_count": 9,
     "metadata": {},
     "output_type": "execute_result"
    }
   ],
   "source": [
    "bool(\"abc\")\n",
    "bool(123)\n",
    "bool([\"apple\", \"cherry\", \"banana\"])\n"
   ]
  },
  {
   "cell_type": "markdown",
   "id": "49a0c0fe-95f9-4b0e-b710-4a31258012dc",
   "metadata": {},
   "source": [
    "<div style=\"background-color: lightblue; color: black; padding: 4px;\">\n",
    "    <h1> Some Values are False\n",
    "</h1> </div>"
   ]
  },
  {
   "cell_type": "markdown",
   "id": "795ce7a9-fc01-47e9-9886-7f366d7ec1c1",
   "metadata": {},
   "source": [
    "<h3><p>In fact, there are not many values that evaluate to False, except empty values, such as (), [], {}, \"\", the number 0, and the value None. And of course the value False evaluates to False.<p></h3>"
   ]
  },
  {
   "cell_type": "code",
   "execution_count": 11,
   "id": "bf1579db-e4fe-4925-b374-04674b869e1f",
   "metadata": {},
   "outputs": [
    {
     "data": {
      "text/plain": [
       "False"
      ]
     },
     "execution_count": 11,
     "metadata": {},
     "output_type": "execute_result"
    }
   ],
   "source": [
    "bool(False)\n",
    "bool(None)\n",
    "bool(0)\n",
    "bool(\"\")\n",
    "bool(())\n",
    "bool([])\n",
    "bool({})\n"
   ]
  },
  {
   "cell_type": "markdown",
   "id": "1d2abd0e-5299-4303-8b72-52c08a96cbd5",
   "metadata": {},
   "source": [
    "<div style=\"background-color: lightblue; color: black; padding: 4px;\">\n",
    "    <h1>Functions can Return a Boolean\n",
    "</h1> </div>"
   ]
  },
  {
   "cell_type": "code",
   "execution_count": 12,
   "id": "b98d2c6e-5972-4ae1-b706-98c6ea3746cb",
   "metadata": {},
   "outputs": [
    {
     "name": "stdout",
     "output_type": "stream",
     "text": [
      "True\n"
     ]
    }
   ],
   "source": [
    "def myFunction() :\n",
    "  return True\n",
    "\n",
    "print(myFunction())\n"
   ]
  },
  {
   "cell_type": "code",
   "execution_count": 13,
   "id": "14d71309-e798-4a45-bbc2-d8324a60a91b",
   "metadata": {},
   "outputs": [
    {
     "name": "stdout",
     "output_type": "stream",
     "text": [
      "YES!\n"
     ]
    }
   ],
   "source": [
    "#Print \"YES!\" if the function returns True, otherwise print \"NO!\":\n",
    "def myFunction() :\n",
    "  return True\n",
    "\n",
    "if myFunction():\n",
    "  print(\"YES!\")\n",
    "else:\n",
    "  print(\"NO!\")\n",
    "\n"
   ]
  },
  {
   "cell_type": "markdown",
   "id": "f7be4f36-3996-4325-8fb5-95ad99451a36",
   "metadata": {},
   "source": [
    "<h3><p>Python also has many built-in functions that return a boolean value, like the isinstance() function, which can be used to determine if an object is of a certain data type<p></h3>\n",
    "\n"
   ]
  },
  {
   "cell_type": "code",
   "execution_count": 15,
   "id": "6abe8b8c-cae6-4b38-9db7-66983f0c9437",
   "metadata": {},
   "outputs": [
    {
     "name": "stdout",
     "output_type": "stream",
     "text": [
      "True\n"
     ]
    }
   ],
   "source": [
    "x = 200\n",
    "print(isinstance(x, int))\n"
   ]
  },
  {
   "cell_type": "markdown",
   "id": "61e0eb7b-d79e-4a6f-b311-f0c933e0b9bd",
   "metadata": {},
   "source": [
    "<div style=\"background-color: lightblue; color: black; padding: 4px;\">\n",
    "    <h1>Interview questions\n",
    "</h1> </div>"
   ]
  },
  {
   "cell_type": "markdown",
   "id": "04ae4797-953a-4fb4-84b0-1a78612a4220",
   "metadata": {},
   "source": [
    "<h2>1. What are Boolean values in Python?></h2>\n",
    "<p>Boolean values in Python are True and False. They are the result of logical expressions and are represented internally as integers, where True is 1 and False is 0.<p>\n",
    "h3>"
   ]
  },
  {
   "cell_type": "markdown",
   "id": "4b177bd6-34a7-40c2-b8bc-76a18e8ae6ed",
   "metadata": {},
   "source": [
    "<h2>2. How do you declare a Boolean variable in Python?</h2>\n",
    "<p>Boolean variable can be declared by assigning True or False to a variable:<p>"
   ]
  },
  {
   "cell_type": "markdown",
   "id": "93e5f6ce-8999-4c52-b8e1-0291c725594c",
   "metadata": {},
   "source": [
    "<h2>3. What is the output of bool(0), bool(1), and bool(-1) in Python?</h2>\n"
   ]
  },
  {
   "cell_type": "code",
   "execution_count": 6,
   "id": "23016bd4-d72d-4ceb-8f3e-307d753b2aba",
   "metadata": {},
   "outputs": [
    {
     "name": "stdout",
     "output_type": "stream",
     "text": [
      "False\n",
      "True\n",
      "True\n"
     ]
    }
   ],
   "source": [
    "print(bool(0))   # False <p>\n",
    "print(bool(1))   # True <p>\n",
    "print(bool(-1))  # True <p>\n"
   ]
  },
  {
   "cell_type": "markdown",
   "id": "cab0936c-83d8-46d9-bb8b-a130db2a6f7e",
   "metadata": {},
   "source": [
    "<h2>4. What are the Boolean operators in Python?</h2>\n",
    "<p>Python provides three Boolean operators:<p>\n",
    "\n",
    "<p>and: Returns True if both operands are True.<p>\n",
    "\n",
    "<p>or: Returns True if at least one operand is True.<p>\n",
    "\n",
    "<p>not: Negates the Boolean value.<p>"
   ]
  },
  {
   "cell_type": "code",
   "execution_count": 10,
   "id": "beca9fae-4e2c-4d2a-9447-84a29fe19c3e",
   "metadata": {},
   "outputs": [
    {
     "name": "stdout",
     "output_type": "stream",
     "text": [
      "False\n",
      "True\n",
      "False\n"
     ]
    }
   ],
   "source": [
    "a = True\n",
    "b = False\n",
    "\n",
    "print(a and b)  # False\n",
    "print(a or b)   # True\n",
    "print(not a)    # False"
   ]
  },
  {
   "cell_type": "markdown",
   "id": "037ec087-90c2-4260-a45a-a25039f12dba",
   "metadata": {},
   "source": [
    "<h2>5.What values evaluate to False in Python?</h2>\n",
    "<p>The following values evaluate to False in Python:<p>\n",
    "\n",
    "<p>None<p>\n",
    "\n",
    "<p>False<p>\n",
    "\n",
    "<p>0 (int, float, complex)<p>\n",
    "\n",
    "<p>'' (empty string)<p>\n",
    "\n",
    "<p>[] (empty list)<p>\n",
    "\n",
    "<p>{} (empty dictionary)<p>\n",
    "\n",
    "<p>set() (empty set)<p>\n",
    "\n",
    "<p>() (empty tuple)<p></h2>\n",
    "\n"
   ]
  },
  {
   "cell_type": "code",
   "execution_count": 8,
   "id": "3d978bd5-33c6-4c2a-a8f0-7ca7efb05ac7",
   "metadata": {},
   "outputs": [
    {
     "name": "stdout",
     "output_type": "stream",
     "text": [
      "False\n",
      "False\n",
      "False\n"
     ]
    }
   ],
   "source": [
    "print(bool(\"\"))  # False\n",
    "print(bool([]))  # False\n",
    "print(bool(0.0)) # False\n"
   ]
  },
  {
   "cell_type": "markdown",
   "id": "cc71f1eb-4764-402f-a633-487d634e3651",
   "metadata": {},
   "source": [
    "<h2>6.How do you compare two Boolean values in Python?</h2>\n",
    "<p>Using the == operator:<p></h2>\n",
    "\n"
   ]
  },
  {
   "cell_type": "code",
   "execution_count": 9,
   "id": "4f25e0e5-07f5-4aeb-a7d8-621896b78339",
   "metadata": {},
   "outputs": [
    {
     "name": "stdout",
     "output_type": "stream",
     "text": [
      "False\n",
      "True\n",
      "True\n"
     ]
    }
   ],
   "source": [
    "print(True == False)  # False\n",
    "print(True == 1)      # True\n",
    "print(False == 0)     # True\n"
   ]
  },
  {
   "cell_type": "markdown",
   "id": "b69ed7ea-1940-434d-bb2d-601d07994783",
   "metadata": {},
   "source": [
    "<div style=\"background-color: lightblue; color: white; padding: 10px; text-align: center;\">\n",
    "    <h1>_________________________________END________________________________\n",
    "<!--- Devashish Kumar | Tech Skills Trainer | CodroidHub Private Limited | AI/ML Consultant --->\n",
    "    </h1> </div>"
   ]
  },
  {
   "cell_type": "markdown",
   "id": "13e86481-eae2-4019-9515-66a43a30f0fb",
   "metadata": {},
   "source": [
    "<div style=\"background-color: #002147; color: #fff; padding: 30px; text-align: center;\">\n",
    "    <h1>THANK YOU!\n",
    "        <!--- Devashish Kumar | Tech Skills Trainer | CodroidHub Private Limited | AI/ML Consultant --->\n",
    "</h1> </div>"
   ]
  },
  {
   "cell_type": "markdown",
   "id": "5454f2e3-4fa4-48f9-936a-35be52d769af",
   "metadata": {},
   "source": [
    "<!--- Mohammad Idrees Bhat | Mohammad Idrees Bhat --->"
   ]
  },
  {
   "cell_type": "markdown",
   "id": "3e92ba4c-672c-4e9f-b842-2b2d9234e5ff",
   "metadata": {},
   "source": [
    "<h2 style=\"background-color: #ffe4e1; color: #2f4f4f; padding: 10px; border-radius: 10px; width: 350px; text-align: center; float: right; margin: 20px 0;\">\n",
    "    suhana<br>\n",
    "    <span style=\"font-size: 12px; color: #696969;\">\n",
    "       AIML Trainee | CodroidHub Private Limited | AI/ML bootcamp\n",
    "    </span>\n",
    "</h2>"
   ]
  },
  {
   "cell_type": "markdown",
   "id": "15cc27b3-58d0-431e-8121-f1b4c08377c7",
   "metadata": {},
   "source": [
    "<!--- Devashish Kumar | Tech Skills Trainer | CodroidHub Private Limited | AI/ML Consultant --->"
   ]
  },
  {
   "cell_type": "code",
   "execution_count": null,
   "id": "4b3db7c3-7371-43cb-8555-fe00d1e392e4",
   "metadata": {},
   "outputs": [],
   "source": []
  },
  {
   "cell_type": "code",
   "execution_count": null,
   "id": "f1a22021-b23b-4f77-b5e6-24e65d66494b",
   "metadata": {},
   "outputs": [],
   "source": []
  }
 ],
 "metadata": {
  "kernelspec": {
   "display_name": "Python 3 (ipykernel)",
   "language": "python",
   "name": "python3"
  },
  "language_info": {
   "codemirror_mode": {
    "name": "ipython",
    "version": 3
   },
   "file_extension": ".py",
   "mimetype": "text/x-python",
   "name": "python",
   "nbconvert_exporter": "python",
   "pygments_lexer": "ipython3",
   "version": "3.12.4"
  }
 },
 "nbformat": 4,
 "nbformat_minor": 5
}
