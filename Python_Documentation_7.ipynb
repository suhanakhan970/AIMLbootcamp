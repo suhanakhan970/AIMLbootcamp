{
 "cells": [
  {
   "cell_type": "markdown",
   "id": "9f8e257c-a01f-4ad7-95c6-955088f01222",
   "metadata": {},
   "source": [
    "<div style=\"background-color: #add8e6; padding: 10px; height: 70px; border-radius: 15px;\">\n",
    "    <div style=\"font-family: 'Georgia', serif; font-size: 20px; padding: 10px; text-align: right; position: absolute; right: 20px;\">\n",
    "        Suhana <br>\n",
    "        <span style=\"font-family: 'Arial', sans-serif;font-size: 12px; color: #0a0a0a;\">AIML Trainee | AI/ML bootcamp</span> <!--- Suhana | CodroidHub Private Limited | AI/ML Consultant --->\n",
    "    </div>\n",
    "</div>"
   ]
  },
  {
   "cell_type": "markdown",
   "id": "2f241f8a-06ed-428c-803c-f6dba4ac8518",
   "metadata": {},
   "source": [
    "<div style=\"background-color: #002147; padding: 10px; text-align: center; color: white; font-size: 32px; font-family: 'Arial', sans-serif;\">\n",
    "    python Documentation <br>\n",
    "    <h3 style=\"text-align: center; color: white; font-size: 15px; font-family: 'Arial', sans-serif;\">Python While Loops\r\n",
    "</h>\n",
    "</div>"
   ]
  },
  {
   "cell_type": "markdown",
   "id": "d8969de8-6824-4800-b05d-f578807a89ef",
   "metadata": {},
   "source": [
    "<div style=\"background-color: lightgreen; color: black; padding: 4px;\">\n",
    "    <h1>Python Loops\n",
    "</h1> </div>"
   ]
  },
  {
   "cell_type": "markdown",
   "id": "d7e89751-ad16-4408-ba7a-5b3524581c25",
   "metadata": {},
   "source": [
    "<h3>Python has two primitive loop commands:</h3>\n"
   ]
  },
  {
   "cell_type": "markdown",
   "id": "dc4ddf26-00a1-4c87-80b4-1d4473ff4716",
   "metadata": {},
   "source": [
    "<h3><p>while loops<p>\n",
    "<p>for loops<p></h3>"
   ]
  },
  {
   "cell_type": "markdown",
   "id": "60355784-4713-4f22-be05-696e4d6baf5b",
   "metadata": {},
   "source": [
    "<div style=\"background-color: lightgreen; color: black; padding: 4px;\">\n",
    "    <h1>The While Loops\n",
    "</h1> </div>"
   ]
  },
  {
   "cell_type": "markdown",
   "id": "b0192780-f164-4698-a665-4c320ba272f9",
   "metadata": {},
   "source": [
    "<h3><p>With the while loop we can execute a set of statements as long as a condition is true.<p></h3>"
   ]
  },
  {
   "cell_type": "code",
   "execution_count": 1,
   "id": "42cf5ad7-14de-4fa0-ab62-204a4d895de1",
   "metadata": {},
   "outputs": [
    {
     "name": "stdout",
     "output_type": "stream",
     "text": [
      "1\n",
      "2\n",
      "3\n",
      "4\n",
      "5\n"
     ]
    }
   ],
   "source": [
    "#Print i as long as i is less than 6:\n",
    "\n",
    "i=1\n",
    "while i<6:\n",
    "    print(i)\n",
    "    i+=1"
   ]
  },
  {
   "cell_type": "markdown",
   "id": "311a90ac-ca40-48cb-b850-949351d1ea6d",
   "metadata": {},
   "source": [
    "<div style=\"background-color: lightgreen; color: black; padding: 4px;\">\n",
    "<h1>The break Statement</h1></div>\n"
   ]
  },
  {
   "cell_type": "markdown",
   "id": "4f82031e-01bd-42c7-a242-d134de3041b7",
   "metadata": {},
   "source": [
    "<h3>With the break statement we can stop the loop even if the while condition is true:</h3>"
   ]
  },
  {
   "cell_type": "code",
   "execution_count": 1,
   "id": "adbec565-c5f3-457a-bd31-09b98be18e7d",
   "metadata": {},
   "outputs": [
    {
     "name": "stdout",
     "output_type": "stream",
     "text": [
      "1\n",
      "2\n",
      "3\n"
     ]
    }
   ],
   "source": [
    "i = 1\n",
    "while i < 6:\n",
    "  print(i)\n",
    "  if i == 3:\n",
    "    break\n",
    "  i += 1\n"
   ]
  },
  {
   "cell_type": "markdown",
   "id": "0ec93f7e-b6dd-4743-8326-8b6ed3eb051b",
   "metadata": {},
   "source": [
    "<div style=\"background-color: lightgreen; color: black; padding: 4px;\">\n",
    "<h1>The continue Statement</h1></div>"
   ]
  },
  {
   "cell_type": "markdown",
   "id": "e29fc809-8e2d-4d1d-8a2b-227829c391fe",
   "metadata": {},
   "source": [
    "<h3>With the continue statement we can stop the current iteration, and continue with the next:</h3>\n",
    "\n"
   ]
  },
  {
   "cell_type": "code",
   "execution_count": 3,
   "id": "d7e1da39-fe63-41f8-bb42-e31ecab8d5c4",
   "metadata": {},
   "outputs": [
    {
     "name": "stdout",
     "output_type": "stream",
     "text": [
      "1\n",
      "2\n",
      "4\n",
      "5\n",
      "6\n"
     ]
    }
   ],
   "source": [
    "i=0\n",
    "while i<6:\n",
    " i+=1\n",
    " if i==3:\n",
    "    continue\n",
    " print(i)"
   ]
  },
  {
   "cell_type": "markdown",
   "id": "e0fe11a0-adf6-4b18-8840-21f9f3940ca3",
   "metadata": {},
   "source": [
    "<div style=\"background-color: lightgreen; color: black; padding: 4px;\">\n",
    "<h1>The else Statement</h1></div>"
   ]
  },
  {
   "cell_type": "markdown",
   "id": "8579257c-b44b-4bd2-ae4b-650d62a1213a",
   "metadata": {},
   "source": [
    "<h3>With the else statement we can run a block of code once when the condition no longer is true:</h3>"
   ]
  },
  {
   "cell_type": "code",
   "execution_count": 6,
   "id": "b9dc4c27-da3d-445f-8c33-467569ff15da",
   "metadata": {},
   "outputs": [
    {
     "name": "stdout",
     "output_type": "stream",
     "text": [
      "1\n",
      "2\n",
      "3\n",
      "4\n",
      "5\n",
      "i is no longer less than 6\n"
     ]
    }
   ],
   "source": [
    "i = 1\n",
    "while i < 6:\n",
    "  print(i)\n",
    "  i += 1\n",
    "else:\n",
    "  print(\"i is no longer less than 6\")\n"
   ]
  },
  {
   "cell_type": "markdown",
   "id": "910df6b3-05a5-49bd-ae8e-32a92997ac1c",
   "metadata": {},
   "source": [
    "<div style=\"background-color: lightblue; color: white; padding: 10px; text-align: center;\">\n",
    "    <h1>_________________________________END________________________________\n",
    "<!--- Devashish Kumar | Tech Skills Trainer | CodroidHub Private Limited | AI/ML Consultant --->\n",
    "    </h1> </div>"
   ]
  },
  {
   "cell_type": "markdown",
   "id": "2ceb85c1-9e8d-45c0-b0d0-1a6f42d77f30",
   "metadata": {},
   "source": [
    "<div style=\"background-color: #002147; color: #fff; padding: 30px; text-align: center;\">\n",
    "    <h1>THANK YOU!\n",
    "        <!--- Devashish Kumar | Tech Skills Trainer | CodroidHub Private Limited | AI/ML Consultant --->\n",
    "</h1> </div>"
   ]
  },
  {
   "cell_type": "code",
   "execution_count": null,
   "id": "5758e1c0-bcb4-46a1-bba8-d610d8f527a4",
   "metadata": {},
   "outputs": [],
   "source": []
  },
  {
   "cell_type": "code",
   "execution_count": null,
   "id": "a2034453-c021-43b6-972b-dd88a0b832b3",
   "metadata": {},
   "outputs": [],
   "source": []
  },
  {
   "cell_type": "code",
   "execution_count": null,
   "id": "afac3514-6c03-4ee0-9c80-3ac857cd8c77",
   "metadata": {},
   "outputs": [],
   "source": []
  }
 ],
 "metadata": {
  "kernelspec": {
   "display_name": "Python 3 (ipykernel)",
   "language": "python",
   "name": "python3"
  },
  "language_info": {
   "codemirror_mode": {
    "name": "ipython",
    "version": 3
   },
   "file_extension": ".py",
   "mimetype": "text/x-python",
   "name": "python",
   "nbconvert_exporter": "python",
   "pygments_lexer": "ipython3",
   "version": "3.12.4"
  }
 },
 "nbformat": 4,
 "nbformat_minor": 5
}
