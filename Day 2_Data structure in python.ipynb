{
 "cells": [
  {
   "cell_type": "markdown",
   "id": "8c4bc666-34a1-47b6-8018-1ad79dafae95",
   "metadata": {},
   "source": [
    "<div style=\"background-color: #add8e6; padding: 10px; height: 70px; border-radius: 15px;\">\n",
    "    <div style=\"font-family: 'Georgia', serif; font-size: 20px; padding: 10px; text-align: right; position: absolute; right: 20px;\">\n",
    "        Suhana <br>\n",
    "        <span style=\"font-family: 'Arial', sans-serif;font-size: 12px; color: #0a0a0a;\">AIML Trainee| AI/ML bootcamp</span> <!--- Suhana  | CodroidHub Private Limited | AI/ML Consultant --->\n",
    "    </div>\n",
    "</div>"
   ]
  },
  {
   "cell_type": "markdown",
   "id": "151ad3d8-0bce-4e29-86da-5ea91b5a69df",
   "metadata": {},
   "source": [
    "<div style=\"background-color: #002147; padding: 10px; text-align: center; color: white; font-size: 32px; font-family: 'Arial', sans-serif;\">\n",
    "    Data Structure in python <br>\n",
    "    <h3 style=\"text-align: center; color: white; font-size: 15px; font-family: 'Arial', sans-serif;\"></h3>\n",
    "</div>"
   ]
  },
  {
   "cell_type": "markdown",
   "id": "a180f735-e7d4-4707-880d-230952691e9f",
   "metadata": {},
   "source": [
    "<h2><b>What is Data Structure?<b></h2>\n",
    "<h3><p>A data structure in python is a way of organizing,storing,and managing data so it can be accessed and modified efficiently.<p></h3>"
   ]
  },
  {
   "cell_type": "markdown",
   "id": "155e8ec7-547b-41f4-b6f6-6e6e719c198c",
   "metadata": {},
   "source": [
    "<div style=\"background-color: white; color: black; padding: 10px;\">\n",
    "    <h1><b>TYPES OF DATA STRUCTURE</b></h1> <p><p>\n",
    "  <h1><p><b>1.LIST</b><p> \n",
    "  <p><b>2.TUPLES<B><P>\n",
    "  <p><b>3.DICTIONARIES<b><P>\n",
    "  <p><b>4.SETS<b><P>\n",
    "</h1> </div>"
   ]
  },
  {
   "cell_type": "markdown",
   "id": "53ec8637",
   "metadata": {},
   "source": [
    "<div style=\"background-color: lightgreen; color: black; padding: 4px;\">\n",
    "    <h1>1.LIST \n",
    "</h1> </div>"
   ]
  },
  {
   "cell_type": "markdown",
   "id": "90aef031-1416-4707-b2a0-fc60ca4ee7ca",
   "metadata": {},
   "source": [
    "<h3><p>A list in python is a built-in data-structure that allows you to store an ordered,mutable(modifiable),duplicates collection of items.Lists can be contain elements of diffrent data types,including numbers,string,and even other lists.<br><br>List items are indexed,the first item has index[0],the second item has index [1] etc.<p></h3>"
   ]
  },
  {
   "cell_type": "code",
   "execution_count": 1,
   "id": "bbf45d35-cc93-4552-aeee-08590d48ef02",
   "metadata": {},
   "outputs": [
    {
     "name": "stdout",
     "output_type": "stream",
     "text": [
      "['apple', 'mango', 'banana']\n"
     ]
    }
   ],
   "source": [
    "list=[\"apple\",\"mango\",\"banana\"]\n",
    "print(list)"
   ]
  },
  {
   "cell_type": "markdown",
   "id": "2c13a539-c073-4674-af7a-34d8bca043f4",
   "metadata": {},
   "source": [
    "<h1>Ordered</h1>\n",
    "<h3><p>When we say that lists are ordered, it means that the items have a defined order, and that order will not change.If you add new items to a list, the new items will be placed at the end of the list.<br><p></h3>\n"
   ]
  },
  {
   "cell_type": "code",
   "execution_count": 29,
   "id": "30c60e69-3640-4a19-80dc-c998db230fe8",
   "metadata": {},
   "outputs": [
    {
     "name": "stdout",
     "output_type": "stream",
     "text": [
      "['mango', 'banan', 'orange', 'kiwi']\n"
     ]
    }
   ],
   "source": [
    "list=[\"mango\",\"banan\",\"kiwi\"]\n",
    "list.insert(2,\"orange\")\n",
    "print(list)"
   ]
  },
  {
   "cell_type": "markdown",
   "id": "affb2e43-d552-4f52-b5e7-c4d8af63b29e",
   "metadata": {},
   "source": [
    "<h1>Changeable</h1>\n",
    "<h3><p>The list is changeable, meaning that we can change, add, and remove items in a list after it has been created.<p></h3>\r\n",
    "\r\n"
   ]
  },
  {
   "cell_type": "code",
   "execution_count": 19,
   "id": "d7de6a17-5c5a-4e96-b46c-78c26907df7c",
   "metadata": {},
   "outputs": [
    {
     "name": "stdout",
     "output_type": "stream",
     "text": [
      "['apple', 'mango', 'cheery']\n"
     ]
    }
   ],
   "source": [
    "list=[\"apple\",\"mango\",\"banana\"]\n",
    "list[2]=\"cheery\"\n",
    "print(list)\n"
   ]
  },
  {
   "cell_type": "code",
   "execution_count": 20,
   "id": "ed36581e-8048-4d98-809f-18584cbf3d24",
   "metadata": {},
   "outputs": [
    {
     "name": "stdout",
     "output_type": "stream",
     "text": [
      "['apple', 'red', 'orange', 'blue', 'cherry', 'kiwi']\n"
     ]
    }
   ],
   "source": [
    "list=[\"apple\",\"mango\",\"banana\",\"cherry\",\"kiwi\"]\n",
    "list[1:3]=[\"red\",\"orange\",\"blue\"]\n",
    "print(list)\n"
   ]
  },
  {
   "cell_type": "markdown",
   "id": "d350f989-169a-4142-8012-c1e20acfd30c",
   "metadata": {},
   "source": [
    "<h1>Allow Duplicates</h1>\n",
    "<h3><p>Since lists are indexed, lists can have items with the same value.<p></h3>"
   ]
  },
  {
   "cell_type": "code",
   "execution_count": 3,
   "id": "7d553197-614c-4272-93a6-99cf76764184",
   "metadata": {},
   "outputs": [
    {
     "name": "stdout",
     "output_type": "stream",
     "text": [
      "['apple', 'banana', 'cherry', 'apple', 'cherry']\n"
     ]
    }
   ],
   "source": [
    "list = [\"apple\", \"banana\", \"cherry\", \"apple\", \"cherry\"]\n",
    "print(list)"
   ]
  },
  {
   "cell_type": "markdown",
   "id": "75dbce52-95f0-4f94-9f19-778064cfe2ef",
   "metadata": {},
   "source": [
    "<h1>List Length</h1>\n",
    "<h3><p>To determine how many items a list has, use the len() function.<p></h3>\n"
   ]
  },
  {
   "cell_type": "code",
   "execution_count": 6,
   "id": "66c650f2-3f8a-4dcb-a056-f6edf0d756de",
   "metadata": {},
   "outputs": [
    {
     "name": "stdout",
     "output_type": "stream",
     "text": [
      "5\n"
     ]
    }
   ],
   "source": [
    "list = [\"apple\", \"banana\", \"cherry\", \"apple\", \"cherry\"]\n",
    "print(len(list))"
   ]
  },
  {
   "cell_type": "markdown",
   "id": "82294455-feb8-4050-89cf-85691a3f9151",
   "metadata": {},
   "source": [
    "<h1>List items-Data Types</h1>\n",
    "<h3><p>List items can be of any data type.<p></h3>"
   ]
  },
  {
   "cell_type": "code",
   "execution_count": 10,
   "id": "1139f167-fbf9-4ed0-8c11-83c484f2d651",
   "metadata": {},
   "outputs": [
    {
     "name": "stdout",
     "output_type": "stream",
     "text": [
      "[True, False, False]\n"
     ]
    }
   ],
   "source": [
    "list1 = [\"apple\", \"banana\", \"cherry\"]\n",
    "list2 = [1, 5, 7, 9, 3]\n",
    "list3 = [True, False, False]\n",
    "print(list3)"
   ]
  },
  {
   "cell_type": "markdown",
   "id": "7d6ff09a-b736-44ef-bed8-365436ad7c93",
   "metadata": {},
   "source": [
    "<h1>Acess items</h1>\n",
    "<h3><p>List items are indexed and you can access them by referring to the index number.</h3<p>"
   ]
  },
  {
   "cell_type": "code",
   "execution_count": 11,
   "id": "1ba59e65-07a4-4bc6-847e-22ef01dc3a90",
   "metadata": {},
   "outputs": [
    {
     "name": "stdout",
     "output_type": "stream",
     "text": [
      "banana\n"
     ]
    }
   ],
   "source": [
    "list = [\"apple\", \"banana\", \"cherry\"]\n",
    "print(list[1])\n"
   ]
  },
  {
   "cell_type": "markdown",
   "id": "b41e7cf2-dc10-4f7f-ac9c-a05533a9d43e",
   "metadata": {},
   "source": [
    "<h2>Negative indexing</h2>\n",
    "<h3><p>-1 refers to the last item, -2 refers to the second last item etc<p></h3>"
   ]
  },
  {
   "cell_type": "code",
   "execution_count": 12,
   "id": "7c2e4730-5da4-4f26-bc7b-2835c264ffb2",
   "metadata": {},
   "outputs": [
    {
     "name": "stdout",
     "output_type": "stream",
     "text": [
      "cherry\n"
     ]
    }
   ],
   "source": [
    "thislist = [\"apple\", \"banana\", \"cherry\"]\n",
    "print(thislist[-1])\n"
   ]
  },
  {
   "cell_type": "markdown",
   "id": "b341aab3-f9ac-4e42-b9bf-2cb8e3f6e642",
   "metadata": {},
   "source": [
    "<h2>Range of index<h2>"
   ]
  },
  {
   "cell_type": "code",
   "execution_count": 15,
   "id": "700b171e-2078-4a52-8b07-ca8f7696a536",
   "metadata": {},
   "outputs": [
    {
     "name": "stdout",
     "output_type": "stream",
     "text": [
      "['cherry', 'orange', 'kiwi']\n"
     ]
    }
   ],
   "source": [
    "list = [\"apple\", \"banana\", \"cherry\", \"orange\", \"kiwi\", \"melon\", \"mango\"]\n",
    "print(list[2:5])\n"
   ]
  },
  {
   "cell_type": "code",
   "execution_count": 16,
   "id": "3ab2d0bc-e416-4eb1-ab71-dc982dc6c53e",
   "metadata": {},
   "outputs": [
    {
     "name": "stdout",
     "output_type": "stream",
     "text": [
      "['apple', 'banana', 'cherry', 'orange']\n"
     ]
    }
   ],
   "source": [
    "list = [\"apple\", \"banana\", \"cherry\", \"orange\", \"kiwi\", \"melon\", \"mango\"]\n",
    "print(list[ :4])"
   ]
  },
  {
   "cell_type": "code",
   "execution_count": 17,
   "id": "91880ff1-a100-4af1-b923-d3a9351e881f",
   "metadata": {},
   "outputs": [
    {
     "name": "stdout",
     "output_type": "stream",
     "text": [
      "['cherry', 'orange', 'kiwi', 'melon', 'mango']\n"
     ]
    }
   ],
   "source": [
    "list = [\"apple\", \"banana\", \"cherry\", \"orange\", \"kiwi\", \"melon\", \"mango\"]\n",
    "print(list[ 2:])"
   ]
  },
  {
   "cell_type": "markdown",
   "id": "dfff391f-5b77-4cbc-a81c-a0248e296cea",
   "metadata": {},
   "source": [
    "<h1>Methods of list<h1>"
   ]
  },
  {
   "cell_type": "markdown",
   "id": "c5f13ddd-5e55-4aa5-91a3-ee510b3b0ed0",
   "metadata": {},
   "source": [
    "<h1>Append</h1>\n",
    "<p><h4>Add item end of the list</h4><p>\n"
   ]
  },
  {
   "cell_type": "code",
   "execution_count": 33,
   "id": "d84d2435-35e8-43b0-9d30-152a041ec393",
   "metadata": {},
   "outputs": [
    {
     "name": "stdout",
     "output_type": "stream",
     "text": [
      "['apple', 'banana', 'cherry', 'orange', 'kiwi', 'melon', 'mango', 'black']\n"
     ]
    }
   ],
   "source": [
    "list = [\"apple\", \"banana\", \"cherry\", \"orange\", \"kiwi\", \"melon\", \"mango\"]\n",
    "list.append(\"black\")\n",
    "print(list)"
   ]
  },
  {
   "cell_type": "markdown",
   "id": "f2635e07-4513-4f0a-a143-2a868eb97316",
   "metadata": {},
   "source": [
    "<h1>Extend</h1><p><h4>Extend function is used to add multiple elements from another iterable (like a list,tuple,or set)to the end of existing list.</h4><p>"
   ]
  },
  {
   "cell_type": "code",
   "execution_count": 34,
   "id": "851e0607-0995-4511-ac69-44a1a5f27022",
   "metadata": {},
   "outputs": [
    {
     "name": "stdout",
     "output_type": "stream",
     "text": [
      "['apple', 'banana', 'cherry', 'orange', 'kiwi', 'melon', 'mango', 'black', 4, 5, 6]\n"
     ]
    }
   ],
   "source": [
    "list1=[1,2,3]\n",
    "list2=[4,5,6]\n",
    "list.extend(list2)\n",
    "print(list)"
   ]
  },
  {
   "cell_type": "code",
   "execution_count": 37,
   "id": "31c9d6c6-53fd-4001-8cf6-6cd6452ae49a",
   "metadata": {},
   "outputs": [
    {
     "name": "stdout",
     "output_type": "stream",
     "text": [
      "[1, 2, 3, 4, 5]\n"
     ]
    }
   ],
   "source": [
    "list1=[1,2,3]\n",
    "tuple1=(4,5)\n",
    "list1.extend(tuple1)\n",
    "print(list1)"
   ]
  },
  {
   "cell_type": "markdown",
   "id": "b673926f-4dff-4797-b8c8-d4d0318a449a",
   "metadata": {},
   "source": [
    "<h1>Insert</h1><p><h4>Adds an element at the specified position</h4><p>"
   ]
  },
  {
   "cell_type": "code",
   "execution_count": 38,
   "id": "9e987e61-7fe8-469c-a749-6e4b02b8ac3d",
   "metadata": {},
   "outputs": [
    {
     "name": "stdout",
     "output_type": "stream",
     "text": [
      "[1, 2, 3, 4, 'black', 5, 6]\n"
     ]
    }
   ],
   "source": [
    "list=[1,2,3,4,5,6]\n",
    "list.insert(4,\"black\")\n",
    "print(list)"
   ]
  },
  {
   "cell_type": "markdown",
   "id": "f56206e7-143d-4bcd-82df-db831d248a10",
   "metadata": {},
   "source": [
    "<h1>remove</h1><p><h4>Removes the item with the specified value</h4><p>"
   ]
  },
  {
   "cell_type": "code",
   "execution_count": 40,
   "id": "c54848de-0db8-477b-a550-d699f53b4753",
   "metadata": {},
   "outputs": [
    {
     "name": "stdout",
     "output_type": "stream",
     "text": [
      "[1, 2, 3, 4, 5, 6]\n"
     ]
    }
   ],
   "source": [
    "list=[1,2,3,4,\"black\",5,6]\n",
    "list.remove(\"black\")\n",
    "print(list)"
   ]
  },
  {
   "cell_type": "markdown",
   "id": "c7881321-38d5-48b7-bac4-d7c1e677c2e5",
   "metadata": {},
   "source": [
    "<h1>pop</h1><p><h4>Removes the element at the specified position</h4><p>"
   ]
  },
  {
   "cell_type": "code",
   "execution_count": 44,
   "id": "90b66847-c68b-453e-bd59-4fb275dadf95",
   "metadata": {},
   "outputs": [
    {
     "name": "stdout",
     "output_type": "stream",
     "text": [
      "[1, 2, 'black', 5, 6]\n"
     ]
    }
   ],
   "source": [
    "list=[1,2,3,\"black\",5,6]\n",
    "list.pop(2)\n",
    "print(list)"
   ]
  },
  {
   "cell_type": "markdown",
   "id": "15ec5d1a-1a1f-40b8-9b3e-61c141bbd1d7",
   "metadata": {},
   "source": [
    "<h1>index</h1><p><h4>Returns the index of the first element with the specified value</h4><p>"
   ]
  },
  {
   "cell_type": "code",
   "execution_count": 49,
   "id": "e59885f4-006a-4f92-826a-60d0e571164c",
   "metadata": {},
   "outputs": [
    {
     "name": "stdout",
     "output_type": "stream",
     "text": [
      "2\n"
     ]
    }
   ],
   "source": [
    "list=[1,2,3,2,4,5,6,4,2,32]\n",
    "index_value=list.index(3,1,3)\n",
    "print(index_value)"
   ]
  },
  {
   "cell_type": "markdown",
   "id": "adc59c3c-dee9-4eca-8ab8-121ec0227e07",
   "metadata": {},
   "source": [
    "<h1>Counts</h1><p><h4>Returns the number of elements with the specified value<p></h4>"
   ]
  },
  {
   "cell_type": "code",
   "execution_count": 52,
   "id": "ceba55e9-cd04-49f7-9934-81f338030df3",
   "metadata": {},
   "outputs": [
    {
     "name": "stdout",
     "output_type": "stream",
     "text": [
      "4\n"
     ]
    }
   ],
   "source": [
    "list=[1,2,3,2,2,2,4,5,6,]\n",
    "count_value=list.count(2)\n",
    "print(count_value)"
   ]
  },
  {
   "cell_type": "markdown",
   "id": "5072c956-d870-4c5e-a2f2-ccb18261171a",
   "metadata": {},
   "source": [
    "<h1>sort</h1><p><h4>Sorts the list</h4><p>"
   ]
  },
  {
   "cell_type": "code",
   "execution_count": 54,
   "id": "db8135c5-4b71-49b8-9f7b-40690751e24e",
   "metadata": {},
   "outputs": [
    {
     "name": "stdout",
     "output_type": "stream",
     "text": [
      "[6, 5, 3, 2, 1]\n",
      "[1, 2, 3, 5, 6]\n"
     ]
    }
   ],
   "source": [
    "list=[1,5,6,2,3]\n",
    "list.sort(reverse=True)\n",
    "print(list)\n",
    "list.sort(reverse=False)\n",
    "print(list)"
   ]
  },
  {
   "cell_type": "markdown",
   "id": "eb0e0fdc-372e-490f-b9ba-d4e1509123f1",
   "metadata": {},
   "source": [
    "<h1>reverse</h1><p><h4>Reverses the order of the list</h4><p>"
   ]
  },
  {
   "cell_type": "code",
   "execution_count": 55,
   "id": "f843fb93-fd50-434a-a678-e1f802d50a96",
   "metadata": {},
   "outputs": [
    {
     "name": "stdout",
     "output_type": "stream",
     "text": [
      "['pink', 'black', 'red']\n"
     ]
    }
   ],
   "source": [
    "list=[\"red\",\"black\",\"pink\"]\n",
    "list.reverse()\n",
    "print(list)"
   ]
  },
  {
   "cell_type": "markdown",
   "id": "68b3fc23-ed16-4a70-9808-250ba6f8afab",
   "metadata": {},
   "source": [
    "<h1>copy</h1><p><h4>Returns a copy of the list</h4><p>"
   ]
  },
  {
   "cell_type": "code",
   "execution_count": 56,
   "id": "c0a50297-4f12-45ce-a8a5-257eb865e24d",
   "metadata": {},
   "outputs": [
    {
     "name": "stdout",
     "output_type": "stream",
     "text": [
      "['red', 'black', 'pink']\n"
     ]
    }
   ],
   "source": [
    "list=[\"red\",\"black\",\"pink\"]\n",
    "list.copy()\n",
    "print(list)"
   ]
  },
  {
   "cell_type": "code",
   "execution_count": 59,
   "id": "565a793b-4e84-495b-94d7-a47314c1c89d",
   "metadata": {},
   "outputs": [
    {
     "name": "stdout",
     "output_type": "stream",
     "text": [
      "[1, 2, 3, 4]\n",
      "[1, 2, 3]\n"
     ]
    }
   ],
   "source": [
    "original_list=[1,2,3]\n",
    "copied_list=original_list.copy()\n",
    "copied_list.append(4)\n",
    "print(copied_list)\n",
    "print(original_list)"
   ]
  },
  {
   "cell_type": "markdown",
   "id": "a3b10a45",
   "metadata": {},
   "source": [
    "<div style=\"background-color: lightgreen; color: black; padding: 4px;\">\n",
    "    <h1>2.TUPLE\n",
    "    </h1> </div>"
   ]
  },
  {
   "cell_type": "markdown",
   "id": "614f6a2b-7aad-4d01-aa60-398ec14c06ff",
   "metadata": {},
   "source": [
    "<h3>Tuples are used to store multiple items in a single variable.<p>A tuple is a collection which is ordered and unchangeable.allow duplicate values<p>\n",
    "<p>Tuples are written with round brackets.<p><p>Tuple items are indexed, the first item has index [0], the second item has index [1] etc.\n",
    "\n",
    "><p></h3>\n",
    "\n"
   ]
  },
  {
   "cell_type": "code",
   "execution_count": 1,
   "id": "50a08873-e41f-433f-8cd9-3a160df4be19",
   "metadata": {},
   "outputs": [
    {
     "name": "stdout",
     "output_type": "stream",
     "text": [
      "('apple', 'mango', 'banana')\n"
     ]
    }
   ],
   "source": [
    "tuple=(\"apple\",\"mango\",\"banana\")\n",
    "print(tuple)"
   ]
  },
  {
   "cell_type": "markdown",
   "id": "a3869f86-a962-4129-8d55-32a72e7817fc",
   "metadata": {},
   "source": [
    "<h1>Ordered</h1>\n",
    "<p><h3>It means that the item have a define order and that order will not change</h3><p>"
   ]
  },
  {
   "cell_type": "markdown",
   "id": "4643a46f-764f-447c-be4d-75277025bb9e",
   "metadata": {},
   "source": [
    "<h1>Unchangeable</h1>\n",
    "<h3><p>Tuples are unchangeable, meaning that we cannot change, add or remove items after the tuple has been created.<p></h3>\n",
    "\n"
   ]
  },
  {
   "cell_type": "markdown",
   "id": "c152bc53-0ed2-42fb-86a7-2177edc0786a",
   "metadata": {},
   "source": [
    "<h1>Allow Duplicate value</h1>\n",
    "<h3><p>Since tuples are indexed, they can have items with the same value.<p></h3>"
   ]
  },
  {
   "cell_type": "code",
   "execution_count": 3,
   "id": "ffe989e4-56ab-4be6-9907-3b4b16509aaf",
   "metadata": {},
   "outputs": [
    {
     "name": "stdout",
     "output_type": "stream",
     "text": [
      "('apple', 'mango', 'kiwi', 'apple')\n"
     ]
    }
   ],
   "source": [
    "tuple=(\"apple\",\"mango\",\"kiwi\",\"apple\")\n",
    "print(tuple)"
   ]
  },
  {
   "cell_type": "markdown",
   "id": "8fd4822f-1ec9-4bc5-9d5f-9ad99cf67621",
   "metadata": {},
   "source": [
    "<h1>Tuple Length</h1>\n",
    "<p><h3>To determine how many items a tuple has, use the len() function.</h3><p>\n",
    "\n"
   ]
  },
  {
   "cell_type": "code",
   "execution_count": 4,
   "id": "9d7c6926-3561-42e3-9107-bf5a6d52cec1",
   "metadata": {},
   "outputs": [
    {
     "name": "stdout",
     "output_type": "stream",
     "text": [
      "4\n"
     ]
    }
   ],
   "source": [
    "tuple=(\"apple\",\"mango\",\"kiwi\",\"apple\")\n",
    "print(len(tuple))"
   ]
  },
  {
   "cell_type": "markdown",
   "id": "a137eb8f-4919-4c3f-b4c2-6d2bdbe9cde6",
   "metadata": {},
   "source": [
    "<h1>Tuple Items-Dta Types</h1>\n",
    "<h3><p>Tuple items can be of any data type.<p></h3>\n"
   ]
  },
  {
   "cell_type": "code",
   "execution_count": 7,
   "id": "9813437a-db41-431f-b526-9d1eba24787c",
   "metadata": {},
   "outputs": [
    {
     "name": "stdout",
     "output_type": "stream",
     "text": [
      "(True, False, False)\n",
      "('appple', 6, True)\n"
     ]
    }
   ],
   "source": [
    "tuple1 = (\"apple\", \"banana\", \"cherry\")\n",
    "tuple2 = (1, 5, 7, 9, 3)\n",
    "tuple3 = (True, False, False)\n",
    "print(tuple3)\n",
    "tuple4=(\"appple\",6,True)\n",
    "print(tuple4)\n"
   ]
  },
  {
   "cell_type": "markdown",
   "id": "8fc36ff6-6e22-406d-8681-b8fe44892e4f",
   "metadata": {},
   "source": [
    "<h1>type</h1>"
   ]
  },
  {
   "cell_type": "code",
   "execution_count": 8,
   "id": "888a70a7-ed69-4ee4-bfe2-6099957e1da5",
   "metadata": {},
   "outputs": [
    {
     "name": "stdout",
     "output_type": "stream",
     "text": [
      "<class 'tuple'>\n"
     ]
    }
   ],
   "source": [
    "tuple1 = (\"apple\", \"banana\", \"cherry\")\n",
    "print(type(tuple1))"
   ]
  },
  {
   "cell_type": "markdown",
   "id": "60d70fca-3b7e-4781-9719-ba817c5ed140",
   "metadata": {},
   "source": [
    "<h1>Acess Tuple items</h1>\n",
    "<p><h3>You can access tuple items by referring to the index number, inside square brackets.<p></h3>"
   ]
  },
  {
   "cell_type": "code",
   "execution_count": 9,
   "id": "de785d05-248a-4bf7-9f9b-30a2239d932e",
   "metadata": {},
   "outputs": [
    {
     "name": "stdout",
     "output_type": "stream",
     "text": [
      "kiwi\n"
     ]
    }
   ],
   "source": [
    "tuple=(\"apple\",\"mango\",\"kiwi\",\"banana\")\n",
    "print(tuple[2])"
   ]
  },
  {
   "cell_type": "markdown",
   "id": "e0a8e89b-4248-42f5-acb5-36b341d2b5f0",
   "metadata": {},
   "source": [
    "<h1>Negative Indexing</h1>\n",
    "<p><h3>Negative indexing means start from the end.</h3><p><p><h3>-1 refers to the last item, -2 refers to the second last item etc.</h3><p>\n",
    "\n"
   ]
  },
  {
   "cell_type": "code",
   "execution_count": 10,
   "id": "c58c06f2-05db-4c50-b822-08b207f6882e",
   "metadata": {},
   "outputs": [
    {
     "name": "stdout",
     "output_type": "stream",
     "text": [
      "kiwi\n"
     ]
    }
   ],
   "source": [
    "tuple=(\"apple\",\"mango\",\"kiwi\",\"banana\")\n",
    "print(tuple[-2])"
   ]
  },
  {
   "cell_type": "markdown",
   "id": "3e51dbe8-6a91-4346-bd0e-fd0a644da28c",
   "metadata": {},
   "source": [
    "<h1>Range of indexes</h1>\n",
    "<p><h3>You can specify a range of indexes by specifying where to start and where to end the range.\n",
    "\n",
    "When specifying a range, the return value will be a new tuple with the specified items.<p></h3>"
   ]
  },
  {
   "cell_type": "code",
   "execution_count": 13,
   "id": "e5367eaa-ca06-4774-ab9f-f2f3650e8c97",
   "metadata": {},
   "outputs": [
    {
     "name": "stdout",
     "output_type": "stream",
     "text": [
      "('kiwi', 'banana')\n"
     ]
    }
   ],
   "source": [
    "tuple=(\"apple\",\"mango\",\"kiwi\",\"banana\",\"orange\",\"papaya\")\n",
    "print(tuple[2:4])"
   ]
  },
  {
   "cell_type": "code",
   "execution_count": 14,
   "id": "fbd58075-e554-4751-95cc-dc5aa19dd3ad",
   "metadata": {},
   "outputs": [
    {
     "name": "stdout",
     "output_type": "stream",
     "text": [
      "('apple', 'mango', 'kiwi', 'banana')\n"
     ]
    }
   ],
   "source": [
    "tuple=(\"apple\",\"mango\",\"kiwi\",\"banana\",\"orange\",\"papaya\")\n",
    "print(tuple[ :4])"
   ]
  },
  {
   "cell_type": "code",
   "execution_count": 15,
   "id": "755c115c-e98f-4163-91e2-792d952b0a5a",
   "metadata": {},
   "outputs": [
    {
     "name": "stdout",
     "output_type": "stream",
     "text": [
      "('kiwi', 'banana', 'orange', 'papaya')\n"
     ]
    }
   ],
   "source": [
    "tuple=(\"apple\",\"mango\",\"kiwi\",\"banana\",\"orange\",\"papaya\")\n",
    "print(tuple[2: ])"
   ]
  },
  {
   "cell_type": "code",
   "execution_count": 17,
   "id": "be7026e1-6055-4169-bbd2-54d763b25539",
   "metadata": {},
   "outputs": [
    {
     "name": "stdout",
     "output_type": "stream",
     "text": [
      "()\n"
     ]
    }
   ],
   "source": [
    "tuple=(\"apple\",\"mango\",\"kiwi\",\"banana\",\"orange\",\"papaya\")\n",
    "print(tuple[-1:-5])"
   ]
  },
  {
   "cell_type": "markdown",
   "id": "e3c3eb8a-1f3a-48ba-b8af-efab0e1c258f",
   "metadata": {},
   "source": [
    "<h1>Add tuple to tuple</h1> "
   ]
  },
  {
   "cell_type": "code",
   "execution_count": 23,
   "id": "2f6ce39c-9913-43ee-aed1-b6c5bd6b8669",
   "metadata": {},
   "outputs": [
    {
     "name": "stdout",
     "output_type": "stream",
     "text": [
      "('apple', 'mango', 'banana', 'kiwi')\n"
     ]
    }
   ],
   "source": [
    "tuple1=(\"apple\",\"mango\",\"banana\")\n",
    "tuple2=(\"kiwi\",)\n",
    "tuple1 += tuple2\n",
    "print(tuple1)"
   ]
  },
  {
   "cell_type": "code",
   "execution_count": null,
   "id": "f51f8e04-4b0f-4f4c-89ca-228f5761209e",
   "metadata": {},
   "outputs": [],
   "source": [
    "<h1>Loop through tuple</h1>\n",
    "<h3><p>You can loop through the tuple items by using a for loop.<p></h3>\n"
   ]
  },
  {
   "cell_type": "code",
   "execution_count": 27,
   "id": "aea09097-dbe5-4ba3-b596-6e81501bdbdc",
   "metadata": {},
   "outputs": [
    {
     "name": "stdout",
     "output_type": "stream",
     "text": [
      "apple\n",
      "mango\n",
      "banana\n"
     ]
    }
   ],
   "source": [
    "tuple=(\"apple\",\"mango\",\"banana\")\n",
    "for x in tuple:\n",
    "  print(x)"
   ]
  },
  {
   "cell_type": "code",
   "execution_count": 28,
   "id": "b1e3f22b-32c9-4c12-ab29-c98446a09f87",
   "metadata": {},
   "outputs": [
    {
     "name": "stdout",
     "output_type": "stream",
     "text": [
      "apple\n",
      "banana\n",
      "cherry\n"
     ]
    }
   ],
   "source": [
    "tuple = (\"apple\", \"banana\", \"cherry\")\n",
    "for i in range(len(tuple)):\n",
    "  print(tuple[i])"
   ]
  },
  {
   "cell_type": "markdown",
   "id": "765154f6-928a-4297-9e4a-aa15d7346a20",
   "metadata": {},
   "source": [
    "<h1>Methods of tuple</h1>\n",
    "<p><h3>Returns the number of times a specified value occurs in a tuple</h3><p>"
   ]
  },
  {
   "cell_type": "markdown",
   "id": "e9615dd4-74b0-46d4-b566-343cc446508f",
   "metadata": {},
   "source": [
    "<h1>count</h1><h4>Returns the number of times a specified value occurs in a tuple</h4>"
   ]
  },
  {
   "cell_type": "code",
   "execution_count": 1,
   "id": "ef63c5ca-b2b8-4481-bcd0-85eb0ffb2c1c",
   "metadata": {},
   "outputs": [
    {
     "name": "stdout",
     "output_type": "stream",
     "text": [
      "5\n"
     ]
    }
   ],
   "source": [
    "tuple = (1,2,2,2,2,2,3,3,3)\n",
    "count=tuple.count(2)\n",
    "print(count)\n"
   ]
  },
  {
   "cell_type": "markdown",
   "id": "25bd09b4-0bff-491e-9e59-a858a9e72370",
   "metadata": {},
   "source": [
    "<h1>index</h1>\n",
    "<h4><p>Searches the tuple for a specified value and returns the position of where it was found<p></h4>"
   ]
  },
  {
   "cell_type": "code",
   "execution_count": 2,
   "id": "5619d953-b7b5-4d73-af4a-707b9eee05e2",
   "metadata": {},
   "outputs": [
    {
     "name": "stdout",
     "output_type": "stream",
     "text": [
      "3\n"
     ]
    }
   ],
   "source": [
    "tuple = (1,2,3,4,5,6,7)\n",
    "index=tuple.index(4)\n",
    "print(index)"
   ]
  },
  {
   "cell_type": "markdown",
   "id": "b9b0d089",
   "metadata": {},
   "source": [
    "<div style=\"background-color: lightgreen; color: black; padding: 4px;\">\n",
    "    <h1>3.SETS\n",
    "    </h1> </div>"
   ]
  },
  {
   "cell_type": "markdown",
   "id": "ecd4920a-a309-4a51-b826-5aa275153b87",
   "metadata": {},
   "source": [
    "<h3><p>Sets are used to store multiple items in a single variable.<p>A set is a collection which is unordered, unchangeable*, and unindexed.do not allow duplicates values<p><p>Sets are written with curly brackets.<p></h3>"
   ]
  },
  {
   "cell_type": "code",
   "execution_count": 2,
   "id": "5d3309e4-680e-49ae-826a-3633d092e30e",
   "metadata": {},
   "outputs": [
    {
     "name": "stdout",
     "output_type": "stream",
     "text": [
      "{'banana', 'kiwi', 'apple', 'mango'}\n"
     ]
    }
   ],
   "source": [
    "set={\"apple\",\"mango\",\"banana\",\"kiwi\"}\n",
    "print(set)"
   ]
  },
  {
   "cell_type": "markdown",
   "id": "9d9322cb-4120-4c95-8c74-ecd1f36a45d5",
   "metadata": {},
   "source": [
    "<h1>Unordered</h1>\n",
    "<h4><p>Unordered means that the items in a set do not have a defined order.<p>\n",
    "<p>Set items can appear in a different order every time you use them, and cannot be referred to by index or key.<p></h4>\n",
    "\n"
   ]
  },
  {
   "cell_type": "markdown",
   "id": "f26a91aa-24e3-47c6-a255-f78355dd9e99",
   "metadata": {},
   "source": [
    "<h1>Unchangeable</h1>\n",
    "<h3><p>Set items are unchangeable, meaning that we cannot change the items after the set has been created.<p></h3>"
   ]
  },
  {
   "cell_type": "markdown",
   "id": "c9024899-6ef8-4564-bd7b-1e3b6cb9c628",
   "metadata": {},
   "source": [
    "<h1>Do not Allow Duplicate value</h1>\n",
    "<p><h3>Sets cannot have two items with the same value.</h3><p>"
   ]
  },
  {
   "cell_type": "code",
   "execution_count": 4,
   "id": "4130e0d1-2105-42c2-98fa-d45d67361ef8",
   "metadata": {},
   "outputs": [
    {
     "name": "stdout",
     "output_type": "stream",
     "text": [
      "{'banana', 'apple', 'cherry'}\n"
     ]
    }
   ],
   "source": [
    "set = {\"apple\", \"banana\", \"cherry\", \"apple\"}\n",
    "print(set)"
   ]
  },
  {
   "cell_type": "code",
   "execution_count": 5,
   "id": "8061da15-46b8-4b1a-806b-6240f4d65a02",
   "metadata": {},
   "outputs": [
    {
     "name": "stdout",
     "output_type": "stream",
     "text": [
      "{'banana', True, 2, 'apple'}\n"
     ]
    }
   ],
   "source": [
    "#True and 1 is considered the same value\n",
    "set = {\"apple\", \"banana\", True, 1,2}\n",
    "print(set)"
   ]
  },
  {
   "cell_type": "code",
   "execution_count": 7,
   "id": "d3e21a89-c534-4128-b627-dcbfa5903bcf",
   "metadata": {},
   "outputs": [
    {
     "name": "stdout",
     "output_type": "stream",
     "text": [
      "{'banana', False, 'apple', 1}\n"
     ]
    }
   ],
   "source": [
    "set = {\"apple\", \"banana\", False, 0,1}\n",
    "\n",
    "print(set)"
   ]
  },
  {
   "cell_type": "markdown",
   "id": "acb60d71-c98c-4ba9-b3cb-ec9e365b47c3",
   "metadata": {},
   "source": [
    "<h1>Set Length</h1>"
   ]
  },
  {
   "cell_type": "code",
   "execution_count": 8,
   "id": "61db7703-f021-4954-8591-abe8c7dcb8d0",
   "metadata": {},
   "outputs": [
    {
     "name": "stdout",
     "output_type": "stream",
     "text": [
      "4\n"
     ]
    }
   ],
   "source": [
    "set = {\"apple\", \"banana\",\"kiwi\",\"orange\"}\n",
    "print(len(set))"
   ]
  },
  {
   "cell_type": "markdown",
   "id": "ff1c69c4-a0ec-44d6-a22e-e8cc61041e61",
   "metadata": {},
   "source": [
    "<h1>Set items Data-Types</h1>\n",
    "<h3><p>Set items can be of any data type.<p></h3>"
   ]
  },
  {
   "cell_type": "code",
   "execution_count": 9,
   "id": "4daf1ac1-d746-4c81-aec5-9abf9ed0f3a4",
   "metadata": {},
   "outputs": [
    {
     "name": "stdout",
     "output_type": "stream",
     "text": [
      "{False, True}\n"
     ]
    }
   ],
   "source": [
    "set1 = {\"apple\", \"banana\", \"cherry\"}\n",
    "set2 = {1, 5, 7, 9, 3}\n",
    "set3 = {True, False, False}\n",
    "print(set3)"
   ]
  },
  {
   "cell_type": "markdown",
   "id": "48782646-4215-40b8-af65-2f4819ed9624",
   "metadata": {},
   "source": [
    "<h1>Type</h1>"
   ]
  },
  {
   "cell_type": "code",
   "execution_count": 10,
   "id": "95d1e462-e80d-4a5b-902d-b1668901bb72",
   "metadata": {},
   "outputs": [
    {
     "name": "stdout",
     "output_type": "stream",
     "text": [
      "<class 'set'>\n"
     ]
    }
   ],
   "source": [
    "set1 = {\"apple\", \"banana\", \"cherry\"}\n",
    "print(type(set1))"
   ]
  },
  {
   "cell_type": "markdown",
   "id": "783cb5ce-0a1c-4346-b03a-f5755c9ca070",
   "metadata": {},
   "source": [
    "<h1>Acess items</h1>\n",
    "<h3><p>You cannot access items in a set by referring to an index or a key.<p>\n",
    "<p>But you can loop through the set items using a for loop, or ask if a specified value is present in a set, by using the in keyword.<p></h3>"
   ]
  },
  {
   "cell_type": "code",
   "execution_count": 12,
   "id": "37dbdf06-5c03-4a52-804a-dbb17282b191",
   "metadata": {},
   "outputs": [
    {
     "name": "stdout",
     "output_type": "stream",
     "text": [
      "{'banana', 'apple', 'cherry'}\n",
      "{'banana', 'apple', 'cherry'}\n",
      "{'banana', 'apple', 'cherry'}\n"
     ]
    }
   ],
   "source": [
    "set1 = {\"apple\", \"banana\", \"cherry\"}\n",
    "for x in set1:\n",
    "    print(set1)\n",
    "    "
   ]
  },
  {
   "cell_type": "code",
   "execution_count": 13,
   "id": "7a6ffb44-96fd-4af2-b471-86966be480a5",
   "metadata": {},
   "outputs": [
    {
     "name": "stdout",
     "output_type": "stream",
     "text": [
      "True\n"
     ]
    }
   ],
   "source": [
    "set1 = {\"apple\", \"banana\", \"cherry\"}\n",
    "print(\"banana\" in set1)"
   ]
  },
  {
   "cell_type": "markdown",
   "id": "071fbd34-4f40-4afe-9802-e5664d2f123f",
   "metadata": {},
   "source": [
    "<h1>Methods of set</h1>"
   ]
  },
  {
   "cell_type": "markdown",
   "id": "0c66367e-bf4a-49e8-b703-142bfe3d799c",
   "metadata": {},
   "source": [
    "<h1>add</h1>\n",
    "<p<<h3>Adds an element to the set</h3><p>"
   ]
  },
  {
   "cell_type": "code",
   "execution_count": 14,
   "id": "85d9bbaf-234a-4453-9878-a6adaa6a2bf9",
   "metadata": {},
   "outputs": [
    {
     "name": "stdout",
     "output_type": "stream",
     "text": [
      "{1, 2, 3, 'black'}\n"
     ]
    }
   ],
   "source": [
    "set={1,2,3}\n",
    "set.add(\"black\")\n",
    "print(set)"
   ]
  },
  {
   "cell_type": "markdown",
   "id": "ff3ab86a-6f12-4228-ba10-7bcc51f5b295",
   "metadata": {},
   "source": [
    "<h1>clear</h1>\n",
    "<p><h3>Removes all the elements from the set</h3><p>"
   ]
  },
  {
   "cell_type": "code",
   "execution_count": 15,
   "id": "7e5e8696-76b4-44e9-ab63-571a381f04e0",
   "metadata": {},
   "outputs": [
    {
     "name": "stdout",
     "output_type": "stream",
     "text": [
      "set()\n"
     ]
    }
   ],
   "source": [
    "set={1,2,3}\n",
    "set.clear()\n",
    "print(set)"
   ]
  },
  {
   "cell_type": "markdown",
   "id": "a7bcd548-3a36-4a43-bdbe-52f8d52973ff",
   "metadata": {},
   "source": [
    "<h1>Returns a copy of the set</h1>\n",
    "<h3><p>Returns a copy of the set<p></h3>\n",
    "\n"
   ]
  },
  {
   "cell_type": "markdown",
   "id": "ebc421be-482b-4755-ad4c-de4ef1c642a9",
   "metadata": {},
   "source": [
    "<h1>diffrence</h1>\n",
    "<h3><p>Returns a set containing the difference between two or more sets<p></h3>"
   ]
  },
  {
   "cell_type": "code",
   "execution_count": 17,
   "id": "13be108a-9130-4fde-b1d0-15918f6c9ec6",
   "metadata": {},
   "outputs": [
    {
     "name": "stdout",
     "output_type": "stream",
     "text": [
      "{3, 'pink'}\n"
     ]
    }
   ],
   "source": [
    "set1={1,2,3,\"pink\"}\n",
    "set2={1,4,\"black\",2}\n",
    "diffrence=set1-set2\n",
    "print(diffrence)"
   ]
  },
  {
   "cell_type": "markdown",
   "id": "bcfa2258-d449-4be9-bf0e-b5a2b9fdab46",
   "metadata": {},
   "source": [
    "<h1>diffrence update</h1>\n",
    "<h3><p>Removes the items in this set that are also included in another, specified set<p></h3>"
   ]
  },
  {
   "cell_type": "code",
   "execution_count": 18,
   "id": "8a55b21f-05b4-4b39-ba68-90e45924cce0",
   "metadata": {},
   "outputs": [
    {
     "name": "stdout",
     "output_type": "stream",
     "text": [
      "{1, 'fun'}\n"
     ]
    }
   ],
   "source": [
    "set1 = {1, 2, 3, \"fun\"}\n",
    "set2 = {2, 3, 4}\n",
    "set1.difference_update(set2)  \n",
    "print(set1)"
   ]
  },
  {
   "cell_type": "markdown",
   "id": "16af430f-a9aa-4c1d-a92b-aecfbe233e9f",
   "metadata": {},
   "source": [
    "<h1>discard</h1>\n",
    "<h3><p>Remove the specified item<p></h3>"
   ]
  },
  {
   "cell_type": "code",
   "execution_count": 19,
   "id": "771ef077-e678-4aa0-a45d-1380c7e38496",
   "metadata": {},
   "outputs": [
    {
     "name": "stdout",
     "output_type": "stream",
     "text": [
      "{'apple', 'cherry'}\n"
     ]
    }
   ],
   "source": [
    "set = {\"apple\", \"banana\", \"cherry\"}\n",
    "set.discard(\"banana\")\n",
    "print(set)"
   ]
  },
  {
   "cell_type": "markdown",
   "id": "a84373a7-3ad1-43f4-86a8-5294341b25f4",
   "metadata": {},
   "source": [
    "<h1>intersection</h1>\n",
    "<h3><p>The intersection() method will return a new set, that only contains the items that are present in both sets.<p></h3>"
   ]
  },
  {
   "cell_type": "code",
   "execution_count": 22,
   "id": "cf8426f1-f714-4b24-aa49-aa10164e3673",
   "metadata": {},
   "outputs": [
    {
     "name": "stdout",
     "output_type": "stream",
     "text": [
      "{'apple'}\n"
     ]
    }
   ],
   "source": [
    "set1 = {\"apple\", \"banana\", \"cherry\"}\n",
    "set2 = {\"google\", \"microsoft\", \"apple\"}\n",
    "set3 = set1.intersection(set2)\n",
    "print(set3)\n"
   ]
  },
  {
   "cell_type": "markdown",
   "id": "60fbdc24-72e0-4fc7-9585-edc94751456a",
   "metadata": {},
   "source": [
    "<h1>pop</h1>\n",
    "<h3><p>Remove a random item by using the pop() method.<p></h1>"
   ]
  },
  {
   "cell_type": "code",
   "execution_count": 25,
   "id": "541aa334-5f5e-4f01-ad90-54ebbbcb90ea",
   "metadata": {},
   "outputs": [
    {
     "name": "stdout",
     "output_type": "stream",
     "text": [
      "banana\n",
      "{'apple', 'cherry'}\n"
     ]
    }
   ],
   "source": [
    "set = {\"apple\", \"banana\", \"cherry\"}\n",
    "x = set.pop()\n",
    "print(x)\n",
    "print(set)"
   ]
  },
  {
   "cell_type": "markdown",
   "id": "028ec709-e1bf-4405-8932-0cb1b98b3956",
   "metadata": {},
   "source": [
    "<h1>remove</h1>\n",
    "<h3><p>Removes the specified element<p></h3>"
   ]
  },
  {
   "cell_type": "code",
   "execution_count": 26,
   "id": "a259f88a-98e2-4e78-8f6e-810ada2687c0",
   "metadata": {},
   "outputs": [
    {
     "name": "stdout",
     "output_type": "stream",
     "text": [
      "{'apple', 'cherry'}\n"
     ]
    }
   ],
   "source": [
    "set = {\"apple\", \"banana\", \"cherry\"}\n",
    "set.remove(\"banana\")\n",
    "print(set)"
   ]
  },
  {
   "cell_type": "markdown",
   "id": "9d42104d-b088-48bd-a33b-f72419a9f28c",
   "metadata": {},
   "source": [
    "<h1>Symmetric diffrence</h1>\n",
    "<h3><p>Returns a set with the symmetric differences of two sets<p></h3>"
   ]
  },
  {
   "cell_type": "code",
   "execution_count": 27,
   "id": "f77252cc-ba23-4118-9a58-1f168332cc50",
   "metadata": {},
   "outputs": [
    {
     "name": "stdout",
     "output_type": "stream",
     "text": [
      "{'microsoft', 'google', 'banana', 'cherry'}\n"
     ]
    }
   ],
   "source": [
    "set1 = {\"apple\", \"banana\", \"cherry\"}\n",
    "set2 = {\"google\", \"microsoft\", \"apple\"}\n",
    "set3 = set1.symmetric_difference(set2)\n",
    "print(set3)\n"
   ]
  },
  {
   "cell_type": "markdown",
   "id": "dd07029b-f78c-41ff-ba61-8c36776193b1",
   "metadata": {},
   "source": [
    "<h1>union</h1>\n",
    "<h3><p>Return a set containing the union of sets<p></h3>"
   ]
  },
  {
   "cell_type": "code",
   "execution_count": 30,
   "id": "770dbe7d-72a4-4d40-8c17-8284a5ec727c",
   "metadata": {},
   "outputs": [
    {
     "name": "stdout",
     "output_type": "stream",
     "text": [
      "{'banana', 'cherry', 'microsoft', 'apple', 'google'}\n"
     ]
    }
   ],
   "source": [
    "set1 = {\"apple\", \"banana\", \"cherry\"}\n",
    "set2 = {\"google\", \"microsoft\", \"apple\",\"cherry\"}\n",
    "set3=set1.union(set2)\n",
    "print(set3)"
   ]
  },
  {
   "cell_type": "markdown",
   "id": "56028e25-2eff-4a84-9a6a-bec3630ba078",
   "metadata": {},
   "source": [
    "<h1>Update</h1>\n",
    "<h3><p>The update() method inserts the items in set2 into set1.<p></h3>"
   ]
  },
  {
   "cell_type": "code",
   "execution_count": 33,
   "id": "1d2e5802-f36b-4abc-a245-e90a0e5ae2d1",
   "metadata": {},
   "outputs": [
    {
     "name": "stdout",
     "output_type": "stream",
     "text": [
      "{1, 2, 3, 4, 5, 6}\n"
     ]
    }
   ],
   "source": [
    "set1={1,2,3,4}\n",
    "set2={1,3,5,6}\n",
    "set1.update(set2)\n",
    "print(set1)"
   ]
  },
  {
   "cell_type": "markdown",
   "id": "b69ed7ea-1940-434d-bb2d-601d07994783",
   "metadata": {},
   "source": [
    "<div style=\"background-color: lightblue; color: white; padding: 10px; text-align: center;\">\n",
    "    <h1>_________________________________END________________________________\n",
    "<!--- Devashish Kumar | Tech Skills Trainer | CodroidHub Private Limited | AI/ML Consultant --->\n",
    "    </h1> </div>"
   ]
  },
  {
   "cell_type": "markdown",
   "id": "13e86481-eae2-4019-9515-66a43a30f0fb",
   "metadata": {},
   "source": [
    "<div style=\"background-color: #002147; color: #fff; padding: 30px; text-align: center;\">\n",
    "    <h1>THANK YOU!\n",
    "        <!--- Devashish Kumar | Tech Skills Trainer | CodroidHub Private Limited | AI/ML Consultant --->\n",
    "</h1> </div>"
   ]
  },
  {
   "cell_type": "markdown",
   "id": "5454f2e3-4fa4-48f9-936a-35be52d769af",
   "metadata": {},
   "source": [
    "<!--- Mohammad Idrees Bhat | Mohammad Idrees Bhat --->"
   ]
  },
  {
   "cell_type": "markdown",
   "id": "3e92ba4c-672c-4e9f-b842-2b2d9234e5ff",
   "metadata": {},
   "source": [
    "<h2 style=\"background-color: #ffe4e1; color: #2f4f4f; padding: 10px; border-radius: 10px; width: 350px; text-align: center; float: right; margin: 20px 0;\">\n",
    "    suhana<br>\n",
    "    <span style=\"font-size: 12px; color: #696969;\">\n",
    "       AIML Trainee | CodroidHub Private Limited | AI/ML bootcamp\n",
    "    </span>\n",
    "</h2>"
   ]
  }
 ],
 "metadata": {
  "kernelspec": {
   "display_name": "Python 3 (ipykernel)",
   "language": "python",
   "name": "python3"
  },
  "language_info": {
   "codemirror_mode": {
    "name": "ipython",
    "version": 3
   },
   "file_extension": ".py",
   "mimetype": "text/x-python",
   "name": "python",
   "nbconvert_exporter": "python",
   "pygments_lexer": "ipython3",
   "version": "3.12.4"
  }
 },
 "nbformat": 4,
 "nbformat_minor": 5
}
