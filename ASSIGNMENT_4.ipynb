{
 "cells": [
  {
   "cell_type": "markdown",
   "id": "b7d870bf-f82b-4d7b-a528-38bf7ba9a2ec",
   "metadata": {},
   "source": [
    "# TASK-1"
   ]
  },
  {
   "cell_type": "code",
   "execution_count": 1,
   "id": "4b1afb61-5781-4e57-af51-83757cf02dd8",
   "metadata": {},
   "outputs": [
    {
     "name": "stdin",
     "output_type": "stream",
     "text": [
      "Enter a num 22\n",
      "Enter a num 22\n"
     ]
    },
    {
     "name": "stdout",
     "output_type": "stream",
     "text": [
      "\n",
      " 1-add,\n",
      " 2-sub,\n",
      " 3-mul,\n",
      " 4-div\n"
     ]
    },
    {
     "name": "stdin",
     "output_type": "stream",
     "text": [
      "Enter the operation 3\n"
     ]
    },
    {
     "name": "stdout",
     "output_type": "stream",
     "text": [
      "mul 484\n"
     ]
    }
   ],
   "source": [
    "# SIMPLE CALCULATOR\n",
    "num1=int(input(\"Enter a num\"))\n",
    "num2=int(input(\"Enter a num\"))\n",
    "print(\"\\n 1-add,\\n 2-sub,\\n 3-mul,\\n 4-div\")\n",
    "operation=int(input(\"Enter the operation\"))\n",
    "if operation==1:\n",
    "    print(\"add\",num1+num2)\n",
    "elif operation==2:\n",
    "    print(\"sub\",num1-num2)\n",
    "elif operation==3:\n",
    "    print(\"mul\",num1*num2)\n",
    "elif operation==4:\n",
    "    print(\"div\",num1/num2)  \n",
    "else:\n",
    "    print(\"invalid operation\")  "
   ]
  },
  {
   "cell_type": "markdown",
   "id": "c1577f5a-1726-40cd-ba93-1799f6e57ee8",
   "metadata": {},
   "source": [
    "# TASK-2"
   ]
  },
  {
   "cell_type": "code",
   "execution_count": 4,
   "id": "d868c0f1-01be-4514-b71b-a14401c4fba4",
   "metadata": {},
   "outputs": [
    {
     "name": "stdin",
     "output_type": "stream",
     "text": [
      "Enter a number (between 1 1nd 10):  7\n"
     ]
    },
    {
     "name": "stdout",
     "output_type": "stream",
     "text": [
      "Try again\n"
     ]
    },
    {
     "name": "stdin",
     "output_type": "stream",
     "text": [
      "Enter a number (between 1 1nd 10):  5\n"
     ]
    },
    {
     "name": "stdout",
     "output_type": "stream",
     "text": [
      "Try again\n"
     ]
    },
    {
     "name": "stdin",
     "output_type": "stream",
     "text": [
      "Enter a number (between 1 1nd 10):  0\n"
     ]
    },
    {
     "name": "stdout",
     "output_type": "stream",
     "text": [
      "Try again\n"
     ]
    },
    {
     "name": "stdin",
     "output_type": "stream",
     "text": [
      "Enter a number (between 1 1nd 10):  6\n"
     ]
    },
    {
     "name": "stdout",
     "output_type": "stream",
     "text": [
      "correct! you guessed the number\n"
     ]
    }
   ],
   "source": [
    "#guess the number\n",
    "import random\n",
    "secret_number=random.randint(1,10)\n",
    "while True:\n",
    "    guess=int(input(\"Enter a number (between 1 1nd 10): \"))\n",
    "    if guess==secret_number:\n",
    "         print(\"correct! you guessed the number\")\n",
    "         break\n",
    "    else:\n",
    "        print(\"Try again\")\n",
    "\n",
    "        \n",
    "    \n"
   ]
  },
  {
   "cell_type": "markdown",
   "id": "26c20b20-f675-422c-8ff4-1f35ad688a2b",
   "metadata": {},
   "source": [
    "# TASK-3"
   ]
  },
  {
   "cell_type": "code",
   "execution_count": 3,
   "id": "be79c25d-9179-4ecb-9c74-1fc0f56dbf32",
   "metadata": {},
   "outputs": [
    {
     "name": "stdin",
     "output_type": "stream",
     "text": [
      "Enter rock,paper,or scissor:  rock\n"
     ]
    },
    {
     "ename": "ValueError",
     "evalue": "invalid literal for int() with base 10: 'rock'",
     "output_type": "error",
     "traceback": [
      "\u001b[1;31m---------------------------------------------------------------------------\u001b[0m",
      "\u001b[1;31mValueError\u001b[0m                                Traceback (most recent call last)",
      "Cell \u001b[1;32mIn[3], line 5\u001b[0m\n\u001b[0;32m      3\u001b[0m choices\u001b[38;5;241m=\u001b[39m[\u001b[38;5;124m\"\u001b[39m\u001b[38;5;124mrock\u001b[39m\u001b[38;5;124m\"\u001b[39m,\u001b[38;5;124m\"\u001b[39m\u001b[38;5;124mpaper\u001b[39m\u001b[38;5;124m\"\u001b[39m,\u001b[38;5;124m\"\u001b[39m\u001b[38;5;124mscissor\u001b[39m\u001b[38;5;124m\"\u001b[39m]\n\u001b[0;32m      4\u001b[0m computer_choice\u001b[38;5;241m=\u001b[39mrandom\u001b[38;5;241m.\u001b[39mchoice(choices)\n\u001b[1;32m----> 5\u001b[0m player_choice\u001b[38;5;241m=\u001b[39m\u001b[38;5;28;43mint\u001b[39;49m\u001b[43m(\u001b[49m\u001b[38;5;28;43minput\u001b[39;49m\u001b[43m(\u001b[49m\u001b[38;5;124;43m\"\u001b[39;49m\u001b[38;5;124;43mEnter rock,paper,or scissor: \u001b[39;49m\u001b[38;5;124;43m\"\u001b[39;49m\u001b[43m)\u001b[49m\u001b[43m)\u001b[49m\n\u001b[0;32m      6\u001b[0m \u001b[38;5;28;01mif\u001b[39;00m player_choice\u001b[38;5;241m==\u001b[39mcomputer_choice:\n\u001b[0;32m      7\u001b[0m     \u001b[38;5;28mprint\u001b[39m(\u001b[38;5;124mf\u001b[39m\u001b[38;5;124m\"\u001b[39m\u001b[38;5;124mboth choose\u001b[39m\u001b[38;5;132;01m{\u001b[39;00mplayer_choice\u001b[38;5;132;01m}\u001b[39;00m\u001b[38;5;124m.it\u001b[39m\u001b[38;5;124m'\u001b[39m\u001b[38;5;124ms a tie!\u001b[39m\u001b[38;5;124m\"\u001b[39m)\n",
      "\u001b[1;31mValueError\u001b[0m: invalid literal for int() with base 10: 'rock'"
     ]
    }
   ],
   "source": [
    "#game rock ,paper ,scissor\n",
    "import random\n",
    "choices=[\"rock\",\"paper\",\"scissor\"]\n",
    "computer_choice=random.choice(choices)\n",
    "player_choice=int(input(\"Enter rock,paper,or scissor: \"))\n",
    "if player_choice==computer_choice:\n",
    "    print(f\"both choose{player_choice}.it's a tie!\")\n",
    "elif(player_choice==\"rock\"and computer_choice==\"scissors\") or \\\n",
    "    (player_choice==\"scissor\" and computer_choice==\"paper\") or\\\n",
    "    (player_choice==\"paper\" and computer_choice==\"rock\"):\n",
    "    print(f\"you choose{player_choice}and the computer choose{computer_choice}.you win!\")\n",
    "else:\n",
    "    print(f\"you choose{player_choice}and computer choose {computer_choice}.you lose!\")"
   ]
  },
  {
   "cell_type": "code",
   "execution_count": 6,
   "id": "75bc12b5-3970-4584-8578-c7650baf9bf3",
   "metadata": {},
   "outputs": [
    {
     "name": "stdin",
     "output_type": "stream",
     "text": [
      "enter the (rock , paper , scissor): paper\n"
     ]
    },
    {
     "name": "stdout",
     "output_type": "stream",
     "text": [
      "you choice paper , computer choice scissor\n",
      "scissor cut the paper , you lose!\n"
     ]
    }
   ],
   "source": [
    "import random\n",
    "user_choice = input(\"enter the (rock , paper , scissor):\")\n",
    "possible_choice = (\"rock\" , \"paper\" , \"scissor\")\n",
    "computer_choice = random.choice(possible_choice)\n",
    "print(f'you choice {user_choice} , computer choice {computer_choice}')\n",
    "if user_choice == computer_choice: \n",
    "    print(\"its tie!\")\n",
    "elif user_choice == \"rock\":\n",
    "    if computer_choice == \"scissor\":\n",
    "        print(\"rock smashes the scissor, you win!\")\n",
    "    else:\n",
    "        print(\"paper cover the rock, you lose!\") \n",
    "elif user_choice == \"paper\":\n",
    "    if computer_choice == \"rock\":\n",
    "        print(\" paper cover the rock , you win!\")\n",
    "    else:\n",
    "        print(\"scissor cut the paper , you lose!\") \n",
    "elif user_choice == \"scissor\":\n",
    "    if computer_choice == \"paper\":\n",
    "        print(\" scissor cut the paper , you win!\")\n",
    "    else:\n",
    "        print(\"rock smashes the paper , you lose!\") \n",
    "\n",
    "\n",
    "    \n",
    "\n",
    "    \n",
    "\n",
    "\n",
    "\n"
   ]
  },
  {
   "cell_type": "code",
   "execution_count": null,
   "id": "119300f5-f644-49a4-bdc1-a894875b5fa1",
   "metadata": {},
   "outputs": [],
   "source": []
  }
 ],
 "metadata": {
  "kernelspec": {
   "display_name": "Python 3 (ipykernel)",
   "language": "python",
   "name": "python3"
  },
  "language_info": {
   "codemirror_mode": {
    "name": "ipython",
    "version": 3
   },
   "file_extension": ".py",
   "mimetype": "text/x-python",
   "name": "python",
   "nbconvert_exporter": "python",
   "pygments_lexer": "ipython3",
   "version": "3.12.4"
  }
 },
 "nbformat": 4,
 "nbformat_minor": 5
}
