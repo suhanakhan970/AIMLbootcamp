{
 "cells": [
  {
   "cell_type": "markdown",
   "id": "ebb41976-1ad2-433b-a747-a71681dd46f5",
   "metadata": {},
   "source": [
    "<div style=\"background-color: #add8e6; padding: 10px; height: 70px; border-radius: 15px;\">\n",
    "    <div style=\"font-family: 'Georgia', serif; font-size: 20px; padding: 10px; text-align: right; position: absolute; right: 20px;\">\n",
    "        Suhana <br>\n",
    "        <span style=\"font-family: 'Arial', sans-serif;font-size: 12px; color: #0a0a0a;\">AIML Trainee| AI/ML bootcamp</span> <!--- Suhana  | CodroidHub Private Limited | AI/ML Consultant --->\n",
    "    </div>\n",
    "</div>"
   ]
  },
  {
   "cell_type": "markdown",
   "id": "5f8676d7-cc40-457c-a28c-406d8956823c",
   "metadata": {},
   "source": [
    "<div style=\"background-color: lightgreen; color: black; padding: 4px;\">\n",
    "    <h1>Dictionaries\n",
    "    </h1> </div>"
   ]
  },
  {
   "cell_type": "markdown",
   "id": "bf7fcefd-33dc-40cc-99da-612f6d263e75",
   "metadata": {},
   "source": [
    "<h3>Dictionaries are used to store data values in key:value pairs.\n",
    "\n",
    "A dictionary is a collection which is ordered*, changeable and do not allow duplicates..</h3>\n"
   ]
  },
  {
   "cell_type": "code",
   "execution_count": 1,
   "id": "dbc2fbf2-ce09-4c93-8744-bdff8ff8d20f",
   "metadata": {},
   "outputs": [
    {
     "name": "stdout",
     "output_type": "stream",
     "text": [
      "{'brand': 'Ford', 'model': 'Mustang', 'year': 1964}\n"
     ]
    }
   ],
   "source": [
    "dict = {\n",
    "  \"brand\": \"Ford\",\n",
    "  \"model\": \"Mustang\",\n",
    "  \"year\": 1964\n",
    "}\n",
    "print(dict)"
   ]
  },
  {
   "cell_type": "code",
   "execution_count": 2,
   "id": "ef9c84f9-806d-47ba-81b8-592859388c13",
   "metadata": {},
   "outputs": [
    {
     "name": "stdout",
     "output_type": "stream",
     "text": [
      "Ford\n"
     ]
    }
   ],
   "source": [
    "dict = {\n",
    "  \"brand\": \"Ford\",\n",
    "  \"model\": \"Mustang\",\n",
    "  \"year\": 1964\n",
    "}\n",
    "print(dict[\"brand\"])"
   ]
  },
  {
   "cell_type": "markdown",
   "id": "c0333cf0-9588-404b-8948-d8e2491c5a72",
   "metadata": {},
   "source": [
    "<h1>ordered or unordered</h1>\n",
    "<h3><p>When we say that dictionaries are ordered, it means that the items have a defined order, and that order will not change.\r\n",
    "\r\n",
    "Unordered means that the items do not have a defined order, you cannot refer to an item by using an inde<p></h3>x."
   ]
  },
  {
   "cell_type": "markdown",
   "id": "aca691b1-42fa-4fe2-b71b-8c499e1392af",
   "metadata": {},
   "source": [
    "<h1>changeable</h1>\n",
    "<h3><p>Dictionaries are changeable, meaning that we can change, add or remove items after the dictionary has been created.,p></h3>\n"
   ]
  },
  {
   "cell_type": "markdown",
   "id": "890e640c-2bb1-4b7f-b44f-75946eb65ae0",
   "metadata": {},
   "source": [
    "<h1>Duplicates are not allowed</h1>\n",
    "<h3><p>Dictionaries cannot have two items with the same key.<p></h3>"
   ]
  },
  {
   "cell_type": "code",
   "execution_count": 3,
   "id": "6ef95b97-e977-4b6b-aaf2-cf3b0faabd33",
   "metadata": {},
   "outputs": [
    {
     "name": "stdout",
     "output_type": "stream",
     "text": [
      "{'brand': 'ford', 'model': 'mustang', 'year': 1980}\n"
     ]
    }
   ],
   "source": [
    "dict={\n",
    "    \"brand\":\"ford\",\n",
    "    \"model\":\"mustang\",\n",
    "    \"year\":1970,\n",
    "    \"year\":1980\n",
    "}\n",
    "print(dict)"
   ]
  },
  {
   "cell_type": "markdown",
   "id": "e08bf207-af70-4874-babb-89f49c7f3b28",
   "metadata": {},
   "source": [
    "<h1>Dictionarie length</h1>"
   ]
  },
  {
   "cell_type": "code",
   "execution_count": 4,
   "id": "2de232ce-7001-45ac-a185-3b3768519c6a",
   "metadata": {},
   "outputs": [
    {
     "name": "stdout",
     "output_type": "stream",
     "text": [
      "3\n"
     ]
    }
   ],
   "source": [
    "dict={\n",
    "    \"brand\":\"ford\",\n",
    "    \"model\":\"mustang\",\n",
    "    \"year\":1970,\n",
    "    \"year\":1980\n",
    "}\n",
    "print(len(dict))"
   ]
  },
  {
   "cell_type": "markdown",
   "id": "79898df5-90de-43dc-842a-4297fad37fad",
   "metadata": {},
   "source": [
    "<h1>Dictionarie items-data types</h1>\n",
    "<h3><p>The values in dictionary items can be of any data type.<p></h3>"
   ]
  },
  {
   "cell_type": "code",
   "execution_count": 5,
   "id": "bd7262ec-02af-4ea1-8684-cfa371c0918e",
   "metadata": {},
   "outputs": [
    {
     "name": "stdout",
     "output_type": "stream",
     "text": [
      "{'brand': 'Ford', 'electric': False, 'year': 1964, 'colors': ['red', 'white', 'blue']}\n"
     ]
    }
   ],
   "source": [
    "dict = {\n",
    "  \"brand\": \"Ford\",\n",
    "  \"electric\": False,\n",
    "  \"year\": 1964,\n",
    "  \"colors\": [\"red\", \"white\", \"blue\"]\n",
    "}\n",
    "print(dict)"
   ]
  },
  {
   "cell_type": "markdown",
   "id": "a7d496b0-bc4b-44bd-a20d-0100ce6fc093",
   "metadata": {},
   "source": [
    "<h1>Type</h1>"
   ]
  },
  {
   "cell_type": "code",
   "execution_count": 6,
   "id": "da8ed268-4e0c-4fa9-8af4-6b735b295c70",
   "metadata": {},
   "outputs": [
    {
     "name": "stdout",
     "output_type": "stream",
     "text": [
      "<class 'dict'>\n"
     ]
    }
   ],
   "source": [
    "dict = {\n",
    "  \"brand\": \"Ford\",\n",
    "  \"electric\": False,\n",
    "  \"year\": 1964,\n",
    "  \"colors\": [\"red\", \"white\", \"blue\"]\n",
    "}\n",
    "print(type(dict))"
   ]
  },
  {
   "cell_type": "markdown",
   "id": "edb13e4c-661b-46bb-a7d7-2704ac4b403a",
   "metadata": {},
   "source": [
    "<h1>Accessing items</h1>\n",
    "<h3><p>You can access the items of a dictionary by referring to its key name, inside square brackets.<p></h3>"
   ]
  },
  {
   "cell_type": "code",
   "execution_count": 11,
   "id": "bb29bb3c-5cd2-419e-95d1-7695864ef754",
   "metadata": {},
   "outputs": [
    {
     "name": "stdout",
     "output_type": "stream",
     "text": [
      "mustang\n"
     ]
    }
   ],
   "source": [
    "dict={\n",
    "    \"brand\":\"ford\",\n",
    "    \"model\":\"mustang\",\n",
    "    \"year\":1970,\n",
    "    \"year\":1980\n",
    "}\n",
    "x=dict[\"model\"]\n",
    "print(x)"
   ]
  },
  {
   "cell_type": "code",
   "execution_count": 12,
   "id": "853d15b0-62df-43f3-9356-154c6d3704db",
   "metadata": {},
   "outputs": [
    {
     "name": "stdout",
     "output_type": "stream",
     "text": [
      "mustang\n"
     ]
    }
   ],
   "source": [
    "dict={\n",
    "    \"brand\":\"ford\",\n",
    "    \"model\":\"mustang\",\n",
    "    \"year\":1970,\n",
    "    \"year\":1980\n",
    "}\n",
    "x=dict.get(\"model\")\n",
    "print(x)"
   ]
  },
  {
   "cell_type": "markdown",
   "id": "300082f1-4b7e-437c-9856-fec7e492737b",
   "metadata": {},
   "source": [
    "<h1>keys</h1>\n",
    "<h3><p>The keys() method will return a list of all the keys in the dictionary.<p></h3>"
   ]
  },
  {
   "cell_type": "code",
   "execution_count": 13,
   "id": "d04cfdc8-c176-4cf4-bf39-5eb0301a2f48",
   "metadata": {},
   "outputs": [
    {
     "name": "stdout",
     "output_type": "stream",
     "text": [
      "dict_keys(['brand', 'model', 'year'])\n"
     ]
    }
   ],
   "source": [
    "dict={\n",
    "    \"brand\":\"ford\",\n",
    "    \"model\":\"mustang\",\n",
    "    \"year\":1970,\n",
    "    \"year\":1980\n",
    "}\n",
    "x=dict.keys()\n",
    "print(x)"
   ]
  },
  {
   "cell_type": "code",
   "execution_count": 16,
   "id": "1f8ea728-1e3d-4fee-9f3c-3c40009c92c9",
   "metadata": {},
   "outputs": [
    {
     "name": "stdout",
     "output_type": "stream",
     "text": [
      "dict_keys(['brand', 'model', 'year'])\n",
      "dict_keys(['brand', 'model', 'year', 'color'])\n"
     ]
    }
   ],
   "source": [
    "car={\n",
    "    \"brand\":\"ford\",\n",
    "    \"model\":\"mustang\",\n",
    "    \"year\":1980\n",
    "}\n",
    "x=car.keys()\n",
    "print(x)\n",
    "car[\"color\"]=\"white\"\n",
    "print(x)"
   ]
  },
  {
   "cell_type": "markdown",
   "id": "4d149ee6-b96d-4818-8b29-95fb59f8095d",
   "metadata": {},
   "source": [
    "<h1>change value</h1>\n",
    "<h3><p>You can change the value of a specific item by referring to its key name.<p></h3>"
   ]
  },
  {
   "cell_type": "code",
   "execution_count": 17,
   "id": "5c4a5433-ebae-48e6-83a5-ab569619a9b8",
   "metadata": {},
   "outputs": [
    {
     "name": "stdout",
     "output_type": "stream",
     "text": [
      "{'brand': 'ford', 'model': 'mustang', 'year': 2008}\n"
     ]
    }
   ],
   "source": [
    "car={\n",
    "    \"brand\":\"ford\",\n",
    "    \"model\":\"mustang\",\n",
    "    \"year\":1980\n",
    "}\n",
    "car[\"year\"]=2008\n",
    "print(car)"
   ]
  },
  {
   "cell_type": "markdown",
   "id": "0cce34b2-eb65-4179-a033-8062f74d50b5",
   "metadata": {},
   "source": [
    "<h1>Adding items</h1>\n",
    "<h3><p>Adding an item to the dictionary is done by using a new index key and assigning a value to it.<p></h3>"
   ]
  },
  {
   "cell_type": "code",
   "execution_count": 18,
   "id": "1789b037-a7f4-4720-af30-78cee9da33ea",
   "metadata": {},
   "outputs": [
    {
     "name": "stdout",
     "output_type": "stream",
     "text": [
      "{'brand': 'ford', 'model': 'mustang', 'year': 1980, 'color': 'black'}\n"
     ]
    }
   ],
   "source": [
    "car={\n",
    "    \"brand\":\"ford\",\n",
    "    \"model\":\"mustang\",\n",
    "    \"year\":1980\n",
    "}\n",
    "car[\"color\"]=\"black\"\n",
    "print(car)"
   ]
  },
  {
   "cell_type": "markdown",
   "id": "79e758a7-cda0-4608-ac7c-01857c8c3aa6",
   "metadata": {},
   "source": [
    "<h1>Update dictionarie</h1>\n",
    "<h3><p>The update() method will update the dictionary with the items from a given argument. If the item does not exist, the item will be added.<p></h3>"
   ]
  },
  {
   "cell_type": "code",
   "execution_count": 19,
   "id": "8e38d195-7756-4ccf-94d6-f746f60e6f64",
   "metadata": {},
   "outputs": [
    {
     "name": "stdout",
     "output_type": "stream",
     "text": [
      "{'brand': 'ford', 'model': 'mustang', 'year': 8080}\n"
     ]
    }
   ],
   "source": [
    "car={\n",
    "    \"brand\":\"ford\",\n",
    "    \"model\":\"mustang\",\n",
    "    \"year\":1980\n",
    "}\n",
    "car[\"year\"]=8080\n",
    "print(car)"
   ]
  },
  {
   "cell_type": "markdown",
   "id": "cc3c0163-b805-4fce-b181-7993991a98ca",
   "metadata": {},
   "source": [
    "<h1>remove</h1>\n",
    "<h3><p>There are several methods to remove items from a dictionary.<p></h3>"
   ]
  },
  {
   "cell_type": "markdown",
   "id": "84a6d621-febd-4887-b5e5-dd70df34ea0a",
   "metadata": {},
   "source": [
    "<h1>pop</h1>\n",
    "<h3><p>The pop() method removes the item with the specified key name.<p></h3>"
   ]
  },
  {
   "cell_type": "code",
   "execution_count": 1,
   "id": "ed765530-cec2-43e0-b760-77cc71042e61",
   "metadata": {},
   "outputs": [
    {
     "name": "stdout",
     "output_type": "stream",
     "text": [
      "{'brand': 'ford', 'year': 1980}\n"
     ]
    }
   ],
   "source": [
    "dict={\n",
    "    \"brand\":\"ford\",\n",
    "    \"model\":\"mustang\",\n",
    "    \"year\":1980\n",
    "}\n",
    "dict.pop(\"model\")\n",
    "print(dict)"
   ]
  },
  {
   "cell_type": "code",
   "execution_count": 2,
   "id": "66f28f3a-ee5a-47a0-9452-78bcc88c8b97",
   "metadata": {},
   "outputs": [
    {
     "name": "stdout",
     "output_type": "stream",
     "text": [
      "{'brand': 'ford', 'model': 'mustang'}\n"
     ]
    }
   ],
   "source": [
    "dict={\n",
    "    \"brand\":\"ford\",\n",
    "    \"model\":\"mustang\",\n",
    "    \"year\":1980\n",
    "}\n",
    "dict.popitem()\n",
    "print(dict)"
   ]
  },
  {
   "cell_type": "markdown",
   "id": "82e627ca-af89-4055-9cb3-bd3c73ea2038",
   "metadata": {},
   "source": [
    "<h1>del</h1>\n",
    "<h3><p>The del keyword removes the item with the specified key name.<p><p>The del keyword can also delete the dictionary completely.<p></h3>"
   ]
  },
  {
   "cell_type": "code",
   "execution_count": 8,
   "id": "44430e42-520c-4873-b168-5981f37aa123",
   "metadata": {},
   "outputs": [
    {
     "name": "stdout",
     "output_type": "stream",
     "text": [
      "{'brand': 'ford', 'model': 'mustang'}\n"
     ]
    }
   ],
   "source": [
    "dict={\n",
    "    \"brand\":\"ford\",\n",
    "    \"model\":\"mustang\",\n",
    "    \"year\":1980\n",
    "}\n",
    "del dict[\"year\"]\n",
    "print(dict)"
   ]
  },
  {
   "cell_type": "code",
   "execution_count": 9,
   "id": "7b109b5d-0ee2-4658-aca2-25e8d6a9b30a",
   "metadata": {},
   "outputs": [
    {
     "name": "stdout",
     "output_type": "stream",
     "text": [
      "<class 'dict'>\n"
     ]
    }
   ],
   "source": [
    "dict={\n",
    "    \"brand\":\"ford\",\n",
    "    \"model\":\"mustang\",\n",
    "    \"year\":1980\n",
    "}\n",
    "del dict\n",
    "print(dict)"
   ]
  },
  {
   "cell_type": "code",
   "execution_count": 10,
   "id": "94ad7642-9e7a-4abb-81a0-03a765684664",
   "metadata": {},
   "outputs": [
    {
     "name": "stdout",
     "output_type": "stream",
     "text": [
      "{}\n"
     ]
    }
   ],
   "source": [
    "dict={\n",
    "    \"brand\":\"ford\",\n",
    "    \"model\":\"mustang\",\n",
    "    \"year\":1980\n",
    "}\n",
    "dict.clear()\n",
    "print(dict)"
   ]
  },
  {
   "cell_type": "markdown",
   "id": "8fc9b994-977e-448a-a244-ca556aea8b51",
   "metadata": {},
   "source": [
    "<h1>loop dictionarie</h1>"
   ]
  },
  {
   "cell_type": "markdown",
   "id": "bdcbc977-b80f-458c-ae17-4e0a7b8267b8",
   "metadata": {},
   "source": [
    "<h3><p>Print all key names in the dictionary, one by one.<p></h3>"
   ]
  },
  {
   "cell_type": "code",
   "execution_count": 11,
   "id": "178921bf-06b2-459c-8c1a-e4ca22d877d7",
   "metadata": {},
   "outputs": [
    {
     "name": "stdout",
     "output_type": "stream",
     "text": [
      "brand\n",
      "model\n",
      "year\n"
     ]
    }
   ],
   "source": [
    "dict={\n",
    "    \"brand\":\"ford\",\n",
    "    \"model\":\"mustang\",\n",
    "    \"year\":1980\n",
    "}\n",
    "for x in dict:\n",
    "    print(x)"
   ]
  },
  {
   "cell_type": "markdown",
   "id": "922a4368-c8f7-4561-a1af-a8e86a1943e1",
   "metadata": {},
   "source": [
    "<h1><p>Print all values in the dictionary, one by one.<p></h1>"
   ]
  },
  {
   "cell_type": "code",
   "execution_count": 12,
   "id": "b21ab0e5-a847-416d-bd05-39012cac13c3",
   "metadata": {},
   "outputs": [
    {
     "name": "stdout",
     "output_type": "stream",
     "text": [
      "ford\n",
      "mustang\n",
      "1980\n"
     ]
    }
   ],
   "source": [
    "dict={\n",
    "    \"brand\":\"ford\",\n",
    "    \"model\":\"mustang\",\n",
    "    \"year\":1980\n",
    "}\n",
    "for x in dict:\n",
    "    print(dict[x])"
   ]
  },
  {
   "cell_type": "markdown",
   "id": "eea85132-9cda-4bd6-bbbb-a1f7a9b1c395",
   "metadata": {},
   "source": [
    "<h1><p>You can also use the values() method to return values of a dictionary.<p></h3>"
   ]
  },
  {
   "cell_type": "code",
   "execution_count": 13,
   "id": "22061488-97f6-49cc-8b55-42c7ff931843",
   "metadata": {},
   "outputs": [
    {
     "name": "stdout",
     "output_type": "stream",
     "text": [
      "ford\n",
      "mustang\n",
      "1980\n"
     ]
    }
   ],
   "source": [
    "dict={\n",
    "    \"brand\":\"ford\",\n",
    "    \"model\":\"mustang\",\n",
    "    \"year\":1980\n",
    "}\n",
    "for x in dict.values():\n",
    "    print(x)"
   ]
  },
  {
   "cell_type": "markdown",
   "id": "8a9150ed-6848-4ce7-88ca-c72255171e95",
   "metadata": {},
   "source": [
    "<h1><p>You can use the keys() method to return the keys of a dictionary.<p></h3>"
   ]
  },
  {
   "cell_type": "code",
   "execution_count": 14,
   "id": "e03b28ff-054e-4762-9315-6c7fde91c7fe",
   "metadata": {},
   "outputs": [
    {
     "name": "stdout",
     "output_type": "stream",
     "text": [
      "brand\n",
      "model\n",
      "year\n"
     ]
    }
   ],
   "source": [
    "dict={\n",
    "    \"brand\":\"ford\",\n",
    "    \"model\":\"mustang\",\n",
    "    \"year\":1980\n",
    "}\n",
    "for x in dict.keys():\n",
    "    print(x)"
   ]
  },
  {
   "cell_type": "markdown",
   "id": "49a2397c-8c5f-406c-b2fb-331416bb29a1",
   "metadata": {},
   "source": [
    "<h1><p>Loop through both keys and values, by using the items() method.<p></h1>"
   ]
  },
  {
   "cell_type": "code",
   "execution_count": 3,
   "id": "f4dbef26-3852-41a9-a9c6-4e7552f198ea",
   "metadata": {},
   "outputs": [
    {
     "name": "stdout",
     "output_type": "stream",
     "text": [
      "brand ford\n",
      "model mustang\n",
      "year 1980\n"
     ]
    }
   ],
   "source": [
    "dict={\n",
    "    \"brand\":\"ford\",\n",
    "    \"model\":\"mustang\",\n",
    "    \"year\":1980\n",
    "}\n",
    "for x,y in dict.items():\n",
    "    print(x,y)"
   ]
  },
  {
   "cell_type": "markdown",
   "id": "b62bbf3a-6bc9-4833-8c63-dfe6bdffdc0e",
   "metadata": {},
   "source": [
    "<h1>copy dictionarie</h1>"
   ]
  },
  {
   "cell_type": "code",
   "execution_count": 5,
   "id": "fa3824f4-b96c-4e5b-8996-ba3c81a9e6cc",
   "metadata": {},
   "outputs": [
    {
     "name": "stdout",
     "output_type": "stream",
     "text": [
      "{'brand': 'ford', 'model': 'mustang', 'year': 1980}\n"
     ]
    }
   ],
   "source": [
    "dict={\n",
    "    \"brand\":\"ford\",\n",
    "    \"model\":\"mustang\",\n",
    "    \"year\":1980\n",
    "}\n",
    "my_dict=dict.copy()\n",
    "print(my_dict)"
   ]
  },
  {
   "cell_type": "code",
   "execution_count": 1,
   "id": "5a393f86-250a-45c0-b345-19c07f8cbb07",
   "metadata": {},
   "outputs": [
    {
     "name": "stdout",
     "output_type": "stream",
     "text": [
      "{'brand': 'ford', 'model': 'mustang', 'year': 1980}\n"
     ]
    }
   ],
   "source": [
    "thisdict={\n",
    "    \"brand\":\"ford\",\n",
    "    \"model\":\"mustang\",\n",
    "    \"year\":1980\n",
    "}\n",
    "my_dict=dict(thisdict)\n",
    "print(my_dict)"
   ]
  },
  {
   "cell_type": "markdown",
   "id": "875d9de0-3a58-4e6e-b12b-6f34fb8967e3",
   "metadata": {},
   "source": [
    "<h1>nested dictionarie</h1>\n",
    "<h3><p>Create three dictionaries, then create one dictionary that will contain the other three dictionaries.<p></h3>"
   ]
  },
  {
   "cell_type": "code",
   "execution_count": 2,
   "id": "fa567574-cf03-4ed7-882d-9f30786d8856",
   "metadata": {},
   "outputs": [
    {
     "name": "stdout",
     "output_type": "stream",
     "text": [
      "{'child1': {'name': 'Emil', 'year': 2004}, 'child2': {'name': 'Tobias', 'year': 2007}, 'child3': {'name': 'Linus', 'year': 2011}}\n"
     ]
    }
   ],
   "source": [
    "child1 = {\n",
    "  \"name\" : \"Emil\",\n",
    "  \"year\" : 2004\n",
    "}\n",
    "child2 = {\n",
    "  \"name\" : \"Tobias\",\n",
    "  \"year\" : 2007\n",
    "}\n",
    "child3 = {\n",
    "  \"name\" : \"Linus\",\n",
    "  \"year\" : 2011\n",
    "}\n",
    "\n",
    "myfamily = {\n",
    "  \"child1\" : child1,\n",
    "  \"child2\" : child2,\n",
    "  \"child3\" : child3\n",
    "}\n",
    "print(myfamily)"
   ]
  },
  {
   "cell_type": "code",
   "execution_count": 5,
   "id": "93359e00-ed2a-4a49-b23d-ebf061261431",
   "metadata": {},
   "outputs": [
    {
     "name": "stdout",
     "output_type": "stream",
     "text": [
      "Tobias\n",
      "2011\n"
     ]
    }
   ],
   "source": [
    "print(myfamily[\"child2\"][\"name\"])\n",
    "print(myfamily[\"child3\"][\"year\"])"
   ]
  },
  {
   "cell_type": "code",
   "execution_count": null,
   "id": "7024f2fb-8e35-4684-98b2-7fad2dfb81a0",
   "metadata": {},
   "outputs": [],
   "source": []
  }
 ],
 "metadata": {
  "kernelspec": {
   "display_name": "Python 3 (ipykernel)",
   "language": "python",
   "name": "python3"
  },
  "language_info": {
   "codemirror_mode": {
    "name": "ipython",
    "version": 3
   },
   "file_extension": ".py",
   "mimetype": "text/x-python",
   "name": "python",
   "nbconvert_exporter": "python",
   "pygments_lexer": "ipython3",
   "version": "3.12.4"
  }
 },
 "nbformat": 4,
 "nbformat_minor": 5
}
